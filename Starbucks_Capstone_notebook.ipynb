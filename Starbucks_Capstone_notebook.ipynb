{
 "cells": [
  {
   "cell_type": "markdown",
   "metadata": {},
   "source": [
    "# Starbucks Capstone Challenge\n",
    "\n",
    "### Introduction\n",
    "\n",
    "This data set contains simulated data that mimics customer behavior on the Starbucks rewards mobile app. Once every few days, Starbucks sends out an offer to users of the mobile app. An offer can be merely an advertisement for a drink or an actual offer such as a discount or BOGO (buy one get one free). Some users might not receive any offer during certain weeks. \n",
    "\n",
    "Not all users receive the same offer, and that is the challenge to solve with this data set.\n",
    "\n",
    "Your task is to combine transaction, demographic and offer data to determine which demographic groups respond best to which offer type. This data set is a simplified version of the real Starbucks app because the underlying simulator only has one product whereas Starbucks actually sells dozens of products.\n",
    "\n",
    "Every offer has a validity period before the offer expires. As an example, a BOGO offer might be valid for only 5 days. You'll see in the data set that informational offers have a validity period even though these ads are merely providing information about a product; for example, if an informational offer has 7 days of validity, you can assume the customer is feeling the influence of the offer for 7 days after receiving the advertisement.\n",
    "\n",
    "You'll be given transactional data showing user purchases made on the app including the timestamp of purchase and the amount of money spent on a purchase. This transactional data also has a record for each offer that a user receives as well as a record for when a user actually views the offer. There are also records for when a user completes an offer. \n",
    "\n",
    "Keep in mind as well that someone using the app might make a purchase through the app without having received an offer or seen an offer.\n",
    "\n",
    "### Example\n",
    "\n",
    "To give an example, a user could receive a discount offer buy 10 dollars get 2 off on Monday. The offer is valid for 10 days from receipt. If the customer accumulates at least 10 dollars in purchases during the validity period, the customer completes the offer.\n",
    "\n",
    "However, there are a few things to watch out for in this data set. Customers do not opt into the offers that they receive; in other words, a user can receive an offer, never actually view the offer, and still complete the offer. For example, a user might receive the \"buy 10 dollars get 2 dollars off offer\", but the user never opens the offer during the 10 day validity period. The customer spends 15 dollars during those ten days. There will be an offer completion record in the data set; however, the customer was not influenced by the offer because the customer never viewed the offer.\n",
    "\n",
    "### Cleaning\n",
    "\n",
    "This makes data cleaning especially important and tricky.\n",
    "\n",
    "You'll also want to take into account that some demographic groups will make purchases even if they don't receive an offer. From a business perspective, if a customer is going to make a 10 dollar purchase without an offer anyway, you wouldn't want to send a buy 10 dollars get 2 dollars off offer. You'll want to try to assess what a certain demographic group will buy when not receiving any offers.\n",
    "\n",
    "### Final Advice\n",
    "\n",
    "Because this is a capstone project, you are free to analyze the data any way you see fit. For example, you could build a machine learning model that predicts how much someone will spend based on demographics and offer type. Or you could build a model that predicts whether or not someone will respond to an offer. Or, you don't need to build a machine learning model at all. You could develop a set of heuristics that determine what offer you should send to each customer (i.e., 75 percent of women customers who were 35 years old responded to offer A vs 40 percent from the same demographic to offer B, so send offer A)."
   ]
  },
  {
   "cell_type": "markdown",
   "metadata": {},
   "source": [
    "# Data Sets\n",
    "\n",
    "The data is contained in three files:\n",
    "\n",
    "* portfolio.json - containing offer ids and meta data about each offer (duration, type, etc.)\n",
    "* profile.json - demographic data for each customer\n",
    "* transcript.json - records for transactions, offers received, offers viewed, and offers completed\n",
    "\n",
    "Here is the schema and explanation of each variable in the files:\n",
    "\n",
    "**portfolio.json**\n",
    "* id (string) - offer id\n",
    "* offer_type (string) - type of offer ie BOGO, discount, informational\n",
    "* difficulty (int) - minimum required spend to complete an offer\n",
    "* reward (int) - reward given for completing an offer\n",
    "* duration (int) - time for offer to be open, in days\n",
    "* channels (list of strings)\n",
    "\n",
    "**profile.json**\n",
    "* age (int) - age of the customer \n",
    "* became_member_on (int) - date when customer created an app account\n",
    "* gender (str) - gender of the customer (note some entries contain 'O' for other rather than M or F)\n",
    "* id (str) - customer id\n",
    "* income (float) - customer's income\n",
    "\n",
    "**transcript.json**\n",
    "* event (str) - record description (ie transaction, offer received, offer viewed, etc.)\n",
    "* person (str) - customer id\n",
    "* time (int) - time in hours since start of test. The data begins at time t=0\n",
    "* value - (dict of strings) - either an offer id or transaction amount depending on the record\n",
    "\n",
    "**Note:** If you are using the workspace, you will need to go to the terminal and run the command `conda update pandas` before reading in the files. This is because the version of pandas in the workspace cannot read in the transcript.json file correctly, but the newest version of pandas can. You can access the termnal from the orange icon in the top left of this notebook.  \n",
    "\n",
    "You can see how to access the terminal and how the install works using the two images below.  First you need to access the terminal:\n",
    "\n",
    "<img src=\"pic1.png\"/>\n",
    "\n",
    "Then you will want to run the above command:\n",
    "\n",
    "<img src=\"pic2.png\"/>\n",
    "\n",
    "Finally, when you enter back into the notebook (use the jupyter icon again), you should be able to run the below cell without any errors."
   ]
  },
  {
   "cell_type": "code",
   "execution_count": 1,
   "metadata": {},
   "outputs": [],
   "source": [
    "import pandas as pd\n",
    "import numpy as np\n",
    "import math\n",
    "import json\n",
    "\n",
    "import matplotlib.pyplot as plt\n",
    "% matplotlib inline\n",
    "from scipy.stats import norm\n",
    "import datetime as dt\n",
    "from datetime import date\n",
    "import seaborn as sns\n",
    "\n",
    "from sklearn.preprocessing import MinMaxScaler\n",
    "from sklearn.model_selection import train_test_split\n",
    "from sklearn.ensemble import RandomForestClassifier\n",
    "from sklearn.neighbors import KNeighborsClassifier\n",
    "from sklearn.tree import DecisionTreeClassifier \n",
    "from sklearn.metrics import fbeta_score, accuracy_score\n",
    "from sklearn import svm\n",
    "from sklearn.model_selection import cross_val_score\n"
   ]
  },
  {
   "cell_type": "code",
   "execution_count": 2,
   "metadata": {},
   "outputs": [],
   "source": [
    "# read in the json files\n",
    "portfolio = pd.read_json('data/portfolio.json', orient='records', lines=True)\n",
    "profile = pd.read_json('data/profile.json', orient='records', lines=True)\n",
    "transcript = pd.read_json('data/transcript.json', orient='records', lines=True)"
   ]
  },
  {
   "cell_type": "markdown",
   "metadata": {},
   "source": [
    "Some of the questions that we will try to answer: \n",
    "\n",
    "Q1. What is the average age of males and females in the customer profile?\n",
    "\n",
    "Q2. What is the average income and how does it differs in males and females? \n",
    "\n",
    "Q3. Gender wise income distribution \n",
    "\n",
    "Q4. Gender wise age distribution\n",
    "\n",
    "Q5. What percent of customers enrolled in an year?\n",
    "\n",
    "Q6. What is the distribuion of male and female per year in the membership program?\n",
    "\n",
    "Q7. what are the different types of offers?\n",
    "\n",
    "Q8. How does customers responds(event) to different typesof offers?\n",
    "\n",
    "Q9.How male and female respond to any offer? \n",
    "\n",
    "Q10. Build a machine learning model ro oredict response of customers to an offer."
   ]
  },
  {
   "cell_type": "markdown",
   "metadata": {},
   "source": [
    "# A. look into all the three datasets individually"
   ]
  },
  {
   "cell_type": "code",
   "execution_count": 3,
   "metadata": {},
   "outputs": [
    {
     "data": {
      "text/html": [
       "<div>\n",
       "<style scoped>\n",
       "    .dataframe tbody tr th:only-of-type {\n",
       "        vertical-align: middle;\n",
       "    }\n",
       "\n",
       "    .dataframe tbody tr th {\n",
       "        vertical-align: top;\n",
       "    }\n",
       "\n",
       "    .dataframe thead th {\n",
       "        text-align: right;\n",
       "    }\n",
       "</style>\n",
       "<table border=\"1\" class=\"dataframe\">\n",
       "  <thead>\n",
       "    <tr style=\"text-align: right;\">\n",
       "      <th></th>\n",
       "      <th>channels</th>\n",
       "      <th>difficulty</th>\n",
       "      <th>duration</th>\n",
       "      <th>id</th>\n",
       "      <th>offer_type</th>\n",
       "      <th>reward</th>\n",
       "    </tr>\n",
       "  </thead>\n",
       "  <tbody>\n",
       "    <tr>\n",
       "      <th>0</th>\n",
       "      <td>[email, mobile, social]</td>\n",
       "      <td>10</td>\n",
       "      <td>7</td>\n",
       "      <td>ae264e3637204a6fb9bb56bc8210ddfd</td>\n",
       "      <td>bogo</td>\n",
       "      <td>10</td>\n",
       "    </tr>\n",
       "    <tr>\n",
       "      <th>1</th>\n",
       "      <td>[web, email, mobile, social]</td>\n",
       "      <td>10</td>\n",
       "      <td>5</td>\n",
       "      <td>4d5c57ea9a6940dd891ad53e9dbe8da0</td>\n",
       "      <td>bogo</td>\n",
       "      <td>10</td>\n",
       "    </tr>\n",
       "    <tr>\n",
       "      <th>2</th>\n",
       "      <td>[web, email, mobile]</td>\n",
       "      <td>0</td>\n",
       "      <td>4</td>\n",
       "      <td>3f207df678b143eea3cee63160fa8bed</td>\n",
       "      <td>informational</td>\n",
       "      <td>0</td>\n",
       "    </tr>\n",
       "    <tr>\n",
       "      <th>3</th>\n",
       "      <td>[web, email, mobile]</td>\n",
       "      <td>5</td>\n",
       "      <td>7</td>\n",
       "      <td>9b98b8c7a33c4b65b9aebfe6a799e6d9</td>\n",
       "      <td>bogo</td>\n",
       "      <td>5</td>\n",
       "    </tr>\n",
       "    <tr>\n",
       "      <th>4</th>\n",
       "      <td>[web, email]</td>\n",
       "      <td>20</td>\n",
       "      <td>10</td>\n",
       "      <td>0b1e1539f2cc45b7b9fa7c272da2e1d7</td>\n",
       "      <td>discount</td>\n",
       "      <td>5</td>\n",
       "    </tr>\n",
       "  </tbody>\n",
       "</table>\n",
       "</div>"
      ],
      "text/plain": [
       "                       channels  difficulty  duration  \\\n",
       "0       [email, mobile, social]          10         7   \n",
       "1  [web, email, mobile, social]          10         5   \n",
       "2          [web, email, mobile]           0         4   \n",
       "3          [web, email, mobile]           5         7   \n",
       "4                  [web, email]          20        10   \n",
       "\n",
       "                                 id     offer_type  reward  \n",
       "0  ae264e3637204a6fb9bb56bc8210ddfd           bogo      10  \n",
       "1  4d5c57ea9a6940dd891ad53e9dbe8da0           bogo      10  \n",
       "2  3f207df678b143eea3cee63160fa8bed  informational       0  \n",
       "3  9b98b8c7a33c4b65b9aebfe6a799e6d9           bogo       5  \n",
       "4  0b1e1539f2cc45b7b9fa7c272da2e1d7       discount       5  "
      ]
     },
     "execution_count": 3,
     "metadata": {},
     "output_type": "execute_result"
    }
   ],
   "source": [
    "portfolio.head()"
   ]
  },
  {
   "cell_type": "code",
   "execution_count": 4,
   "metadata": {},
   "outputs": [
    {
     "data": {
      "text/html": [
       "<div>\n",
       "<style scoped>\n",
       "    .dataframe tbody tr th:only-of-type {\n",
       "        vertical-align: middle;\n",
       "    }\n",
       "\n",
       "    .dataframe tbody tr th {\n",
       "        vertical-align: top;\n",
       "    }\n",
       "\n",
       "    .dataframe thead th {\n",
       "        text-align: right;\n",
       "    }\n",
       "</style>\n",
       "<table border=\"1\" class=\"dataframe\">\n",
       "  <thead>\n",
       "    <tr style=\"text-align: right;\">\n",
       "      <th></th>\n",
       "      <th>age</th>\n",
       "      <th>became_member_on</th>\n",
       "      <th>gender</th>\n",
       "      <th>id</th>\n",
       "      <th>income</th>\n",
       "    </tr>\n",
       "  </thead>\n",
       "  <tbody>\n",
       "    <tr>\n",
       "      <th>0</th>\n",
       "      <td>118</td>\n",
       "      <td>20170212</td>\n",
       "      <td>None</td>\n",
       "      <td>68be06ca386d4c31939f3a4f0e3dd783</td>\n",
       "      <td>NaN</td>\n",
       "    </tr>\n",
       "    <tr>\n",
       "      <th>1</th>\n",
       "      <td>55</td>\n",
       "      <td>20170715</td>\n",
       "      <td>F</td>\n",
       "      <td>0610b486422d4921ae7d2bf64640c50b</td>\n",
       "      <td>112000.0</td>\n",
       "    </tr>\n",
       "    <tr>\n",
       "      <th>2</th>\n",
       "      <td>118</td>\n",
       "      <td>20180712</td>\n",
       "      <td>None</td>\n",
       "      <td>38fe809add3b4fcf9315a9694bb96ff5</td>\n",
       "      <td>NaN</td>\n",
       "    </tr>\n",
       "    <tr>\n",
       "      <th>3</th>\n",
       "      <td>75</td>\n",
       "      <td>20170509</td>\n",
       "      <td>F</td>\n",
       "      <td>78afa995795e4d85b5d9ceeca43f5fef</td>\n",
       "      <td>100000.0</td>\n",
       "    </tr>\n",
       "    <tr>\n",
       "      <th>4</th>\n",
       "      <td>118</td>\n",
       "      <td>20170804</td>\n",
       "      <td>None</td>\n",
       "      <td>a03223e636434f42ac4c3df47e8bac43</td>\n",
       "      <td>NaN</td>\n",
       "    </tr>\n",
       "  </tbody>\n",
       "</table>\n",
       "</div>"
      ],
      "text/plain": [
       "   age  became_member_on gender                                id    income\n",
       "0  118          20170212   None  68be06ca386d4c31939f3a4f0e3dd783       NaN\n",
       "1   55          20170715      F  0610b486422d4921ae7d2bf64640c50b  112000.0\n",
       "2  118          20180712   None  38fe809add3b4fcf9315a9694bb96ff5       NaN\n",
       "3   75          20170509      F  78afa995795e4d85b5d9ceeca43f5fef  100000.0\n",
       "4  118          20170804   None  a03223e636434f42ac4c3df47e8bac43       NaN"
      ]
     },
     "execution_count": 4,
     "metadata": {},
     "output_type": "execute_result"
    }
   ],
   "source": [
    "profile.head()"
   ]
  },
  {
   "cell_type": "code",
   "execution_count": 5,
   "metadata": {
    "scrolled": true
   },
   "outputs": [
    {
     "data": {
      "text/html": [
       "<div>\n",
       "<style scoped>\n",
       "    .dataframe tbody tr th:only-of-type {\n",
       "        vertical-align: middle;\n",
       "    }\n",
       "\n",
       "    .dataframe tbody tr th {\n",
       "        vertical-align: top;\n",
       "    }\n",
       "\n",
       "    .dataframe thead th {\n",
       "        text-align: right;\n",
       "    }\n",
       "</style>\n",
       "<table border=\"1\" class=\"dataframe\">\n",
       "  <thead>\n",
       "    <tr style=\"text-align: right;\">\n",
       "      <th></th>\n",
       "      <th>event</th>\n",
       "      <th>person</th>\n",
       "      <th>time</th>\n",
       "      <th>value</th>\n",
       "    </tr>\n",
       "  </thead>\n",
       "  <tbody>\n",
       "    <tr>\n",
       "      <th>0</th>\n",
       "      <td>offer received</td>\n",
       "      <td>78afa995795e4d85b5d9ceeca43f5fef</td>\n",
       "      <td>0</td>\n",
       "      <td>{'offer id': '9b98b8c7a33c4b65b9aebfe6a799e6d9'}</td>\n",
       "    </tr>\n",
       "    <tr>\n",
       "      <th>1</th>\n",
       "      <td>offer received</td>\n",
       "      <td>a03223e636434f42ac4c3df47e8bac43</td>\n",
       "      <td>0</td>\n",
       "      <td>{'offer id': '0b1e1539f2cc45b7b9fa7c272da2e1d7'}</td>\n",
       "    </tr>\n",
       "    <tr>\n",
       "      <th>2</th>\n",
       "      <td>offer received</td>\n",
       "      <td>e2127556f4f64592b11af22de27a7932</td>\n",
       "      <td>0</td>\n",
       "      <td>{'offer id': '2906b810c7d4411798c6938adc9daaa5'}</td>\n",
       "    </tr>\n",
       "    <tr>\n",
       "      <th>3</th>\n",
       "      <td>offer received</td>\n",
       "      <td>8ec6ce2a7e7949b1bf142def7d0e0586</td>\n",
       "      <td>0</td>\n",
       "      <td>{'offer id': 'fafdcd668e3743c1bb461111dcafc2a4'}</td>\n",
       "    </tr>\n",
       "    <tr>\n",
       "      <th>4</th>\n",
       "      <td>offer received</td>\n",
       "      <td>68617ca6246f4fbc85e91a2a49552598</td>\n",
       "      <td>0</td>\n",
       "      <td>{'offer id': '4d5c57ea9a6940dd891ad53e9dbe8da0'}</td>\n",
       "    </tr>\n",
       "  </tbody>\n",
       "</table>\n",
       "</div>"
      ],
      "text/plain": [
       "            event                            person  time  \\\n",
       "0  offer received  78afa995795e4d85b5d9ceeca43f5fef     0   \n",
       "1  offer received  a03223e636434f42ac4c3df47e8bac43     0   \n",
       "2  offer received  e2127556f4f64592b11af22de27a7932     0   \n",
       "3  offer received  8ec6ce2a7e7949b1bf142def7d0e0586     0   \n",
       "4  offer received  68617ca6246f4fbc85e91a2a49552598     0   \n",
       "\n",
       "                                              value  \n",
       "0  {'offer id': '9b98b8c7a33c4b65b9aebfe6a799e6d9'}  \n",
       "1  {'offer id': '0b1e1539f2cc45b7b9fa7c272da2e1d7'}  \n",
       "2  {'offer id': '2906b810c7d4411798c6938adc9daaa5'}  \n",
       "3  {'offer id': 'fafdcd668e3743c1bb461111dcafc2a4'}  \n",
       "4  {'offer id': '4d5c57ea9a6940dd891ad53e9dbe8da0'}  "
      ]
     },
     "execution_count": 5,
     "metadata": {},
     "output_type": "execute_result"
    }
   ],
   "source": [
    "transcript.head()"
   ]
  },
  {
   "cell_type": "markdown",
   "metadata": {},
   "source": [
    "\n",
    "The offers ids are labelled as 'offer_id' in transcript data but as 'id' in portfolio data. While the ids of customers  are labelled as 'person' (in transcript data) and 'id' (in profile dataset).\n",
    "\n",
    "Renaming ids columns in various datasets for better readability & easiness in merging dataframes later. : \n",
    "1. Ids of custmers will be renamed as 'customer_id'\n",
    "2. Ids of offers will be renamed as 'offer_id'"
   ]
  },
  {
   "cell_type": "code",
   "execution_count": 6,
   "metadata": {},
   "outputs": [],
   "source": [
    "#Renaming id column in portfolio as offer_id:\n",
    "portfolio = portfolio.rename(columns={'id': 'offer_id'})\n",
    "#Renaming id column in 'profile' as customer_id:\n",
    "profile = profile.rename(columns={'id': 'customer_id'})\n",
    "#Renaming 'person' column in transcript as customer_id:\n",
    "transcript = transcript.rename(columns={'person': 'customer_id'})"
   ]
  },
  {
   "cell_type": "markdown",
   "metadata": {},
   "source": [
    "# Profile dataset"
   ]
  },
  {
   "cell_type": "code",
   "execution_count": 7,
   "metadata": {},
   "outputs": [
    {
     "name": "stdout",
     "output_type": "stream",
     "text": [
      "1. There are 17000 rows and 5 columns in the customer profile dataset.\n",
      "2. The number of unique customers on starbucks app: 17000.\n"
     ]
    }
   ],
   "source": [
    "#Profile dataest:\n",
    "print('1. There are {} rows and {} columns in the customer profile dataset.'.format(profile.shape[0],profile.shape[1]))\n",
    "print('2. The number of unique customers on starbucks app: {}.'.format(profile.customer_id.nunique()))"
   ]
  },
  {
   "cell_type": "code",
   "execution_count": 8,
   "metadata": {},
   "outputs": [
    {
     "data": {
      "text/plain": [
       "age                    0\n",
       "became_member_on       0\n",
       "gender              2175\n",
       "customer_id            0\n",
       "income              2175\n",
       "dtype: int64"
      ]
     },
     "execution_count": 8,
     "metadata": {},
     "output_type": "execute_result"
    }
   ],
   "source": [
    "# A look at the missing values: There are 2175 missing values in 'gender' and 'income' columns.\n",
    "profile.isna().sum()"
   ]
  },
  {
   "cell_type": "code",
   "execution_count": 9,
   "metadata": {
    "scrolled": true
   },
   "outputs": [
    {
     "name": "stdout",
     "output_type": "stream",
     "text": [
      "  gender  age  income\n",
      "0   None  118     NaN\n",
      "2   None  118     NaN\n",
      "4   None  118     NaN\n",
      "6   None  118     NaN\n",
      "7   None  118     NaN\n",
      "Count of customers with age== 118 is 2175.\n"
     ]
    }
   ],
   "source": [
    "# age== 118 , an age of 118 doesnot look natural:\n",
    "age_118_count = profile[profile['age']== 118].age.count()\n",
    "age_118 = profile[profile.age == 118][['gender','age','income']]\n",
    "print(age_118.head())\n",
    "print('Count of customers with age== 118 is {}.'.format(age_118_count))"
   ]
  },
  {
   "cell_type": "markdown",
   "metadata": {},
   "source": [
    "#Thus it is clear age== 118 corresponds to missing values 2175 of 'gender' and 'income' columns and we will remove these rows from the profile dataframe (0.13% of data)."
   ]
  },
  {
   "cell_type": "code",
   "execution_count": 10,
   "metadata": {},
   "outputs": [
    {
     "data": {
      "text/html": [
       "<div>\n",
       "<style scoped>\n",
       "    .dataframe tbody tr th:only-of-type {\n",
       "        vertical-align: middle;\n",
       "    }\n",
       "\n",
       "    .dataframe tbody tr th {\n",
       "        vertical-align: top;\n",
       "    }\n",
       "\n",
       "    .dataframe thead th {\n",
       "        text-align: right;\n",
       "    }\n",
       "</style>\n",
       "<table border=\"1\" class=\"dataframe\">\n",
       "  <thead>\n",
       "    <tr style=\"text-align: right;\">\n",
       "      <th></th>\n",
       "      <th>age</th>\n",
       "      <th>became_member_on</th>\n",
       "      <th>customer_id</th>\n",
       "      <th>income</th>\n",
       "    </tr>\n",
       "    <tr>\n",
       "      <th>gender</th>\n",
       "      <th></th>\n",
       "      <th></th>\n",
       "      <th></th>\n",
       "      <th></th>\n",
       "    </tr>\n",
       "  </thead>\n",
       "  <tbody>\n",
       "    <tr>\n",
       "      <th>F</th>\n",
       "      <td>6129</td>\n",
       "      <td>6129</td>\n",
       "      <td>6129</td>\n",
       "      <td>6129</td>\n",
       "    </tr>\n",
       "    <tr>\n",
       "      <th>M</th>\n",
       "      <td>8484</td>\n",
       "      <td>8484</td>\n",
       "      <td>8484</td>\n",
       "      <td>8484</td>\n",
       "    </tr>\n",
       "    <tr>\n",
       "      <th>O</th>\n",
       "      <td>212</td>\n",
       "      <td>212</td>\n",
       "      <td>212</td>\n",
       "      <td>212</td>\n",
       "    </tr>\n",
       "  </tbody>\n",
       "</table>\n",
       "</div>"
      ],
      "text/plain": [
       "         age  became_member_on  customer_id  income\n",
       "gender                                             \n",
       "F       6129              6129         6129    6129\n",
       "M       8484              8484         8484    8484\n",
       "O        212               212          212     212"
      ]
     },
     "execution_count": 10,
     "metadata": {},
     "output_type": "execute_result"
    }
   ],
   "source": [
    "\n",
    "# take a look at the gender types: thereis a gender type '0', as it corresponds to only 212 instances we will drop it later.\n",
    "profile.groupby(['gender']).count()"
   ]
  },
  {
   "cell_type": "code",
   "execution_count": 11,
   "metadata": {
    "scrolled": true
   },
   "outputs": [],
   "source": [
    "def clean_profile(profile):\n",
    "    '''\n",
    "    data cleaning the profile dataframe\n",
    "    \n",
    "    INPUT:\n",
    "    profile - the profile dataframe to be cleaned\n",
    "    \n",
    "    OUTPUT:\n",
    "    profile - the cleaned profile dataframe\n",
    "    \n",
    "    '''\n",
    "    df = profile.copy()\n",
    "    \n",
    "    #replace the age = 118 to age = nan, so that it can be removed later.\n",
    "    df['age'] = df['age'].apply(lambda x: np.nan if x == 118 else x)\n",
    "    \n",
    "    # drop all missing values\n",
    "    df.dropna(inplace=True)\n",
    "    \n",
    "\n",
    "    #drop gender == 'O' from the gender column:\n",
    "    df = df.drop(df[(df[\"gender\"] == 'O')].index)\n",
    "    \n",
    "    # profile: create readable date format for became_member_on column.\n",
    "    df.became_member_on = pd.to_datetime(df['became_member_on'], format = \"%Y%m%d\")\n",
    "    \n",
    "    \n",
    "    # the number of days since the user is a memeber of starbucks\n",
    "    df['memberdays'] = dt.datetime.today().date() - pd.to_datetime(df['became_member_on'], format='%Y%m%d').dt.date\n",
    "    df['memberdays'] = df['memberdays'].dt.days\n",
    "    \n",
    "    \n",
    "    # profile: add start_year column\n",
    "    df['start_year'] = df.became_member_on.dt.year\n",
    "    \n",
    "    # profile: add start_month column\n",
    "    df['start_month'] = df.became_member_on.dt.month\n",
    "    \n",
    "    #duplicate customer_id column:\n",
    "    #df['c_mapping'] = df['customer_id']\n",
    "    \n",
    "    #process the duplicated customer_id column(to one hot encode the customer id ansd call it c_mapping)\n",
    "    #cusids = df['c_mapping'].unique().tolist()\n",
    "    #c_mapping = dict( zip(cusids,range(len(cusids))) )\n",
    "    #df.replace({'c_mapping': c_mapping},inplace=True)\n",
    "    \n",
    "    # drop 'became_member_on':\n",
    "    df.drop(columns = ['became_member_on'], inplace = True, axis =1)\n",
    "    \n",
    "    return df"
   ]
  },
  {
   "cell_type": "code",
   "execution_count": 12,
   "metadata": {},
   "outputs": [],
   "source": [
    "# clean profile data frame\n",
    "clean_profile = clean_profile(profile)\n"
   ]
  },
  {
   "cell_type": "code",
   "execution_count": 13,
   "metadata": {},
   "outputs": [
    {
     "name": "stdout",
     "output_type": "stream",
     "text": [
      "There are 14613 rows and 7 columns in the customer clean_profile dataset.\n"
     ]
    }
   ],
   "source": [
    "print('There are {} rows and {} columns in the customer clean_profile dataset.'.format(clean_profile.shape[0],clean_profile.shape[1]))"
   ]
  },
  {
   "cell_type": "code",
   "execution_count": 14,
   "metadata": {},
   "outputs": [
    {
     "data": {
      "text/html": [
       "<div>\n",
       "<style scoped>\n",
       "    .dataframe tbody tr th:only-of-type {\n",
       "        vertical-align: middle;\n",
       "    }\n",
       "\n",
       "    .dataframe tbody tr th {\n",
       "        vertical-align: top;\n",
       "    }\n",
       "\n",
       "    .dataframe thead th {\n",
       "        text-align: right;\n",
       "    }\n",
       "</style>\n",
       "<table border=\"1\" class=\"dataframe\">\n",
       "  <thead>\n",
       "    <tr style=\"text-align: right;\">\n",
       "      <th></th>\n",
       "      <th>age</th>\n",
       "      <th>gender</th>\n",
       "      <th>customer_id</th>\n",
       "      <th>income</th>\n",
       "      <th>memberdays</th>\n",
       "      <th>start_year</th>\n",
       "      <th>start_month</th>\n",
       "    </tr>\n",
       "  </thead>\n",
       "  <tbody>\n",
       "    <tr>\n",
       "      <th>1</th>\n",
       "      <td>55.0</td>\n",
       "      <td>F</td>\n",
       "      <td>0610b486422d4921ae7d2bf64640c50b</td>\n",
       "      <td>112000.0</td>\n",
       "      <td>1278</td>\n",
       "      <td>2017</td>\n",
       "      <td>7</td>\n",
       "    </tr>\n",
       "    <tr>\n",
       "      <th>3</th>\n",
       "      <td>75.0</td>\n",
       "      <td>F</td>\n",
       "      <td>78afa995795e4d85b5d9ceeca43f5fef</td>\n",
       "      <td>100000.0</td>\n",
       "      <td>1345</td>\n",
       "      <td>2017</td>\n",
       "      <td>5</td>\n",
       "    </tr>\n",
       "    <tr>\n",
       "      <th>5</th>\n",
       "      <td>68.0</td>\n",
       "      <td>M</td>\n",
       "      <td>e2127556f4f64592b11af22de27a7932</td>\n",
       "      <td>70000.0</td>\n",
       "      <td>993</td>\n",
       "      <td>2018</td>\n",
       "      <td>4</td>\n",
       "    </tr>\n",
       "    <tr>\n",
       "      <th>8</th>\n",
       "      <td>65.0</td>\n",
       "      <td>M</td>\n",
       "      <td>389bc3fa690240e798340f5a15918d5c</td>\n",
       "      <td>53000.0</td>\n",
       "      <td>1069</td>\n",
       "      <td>2018</td>\n",
       "      <td>2</td>\n",
       "    </tr>\n",
       "    <tr>\n",
       "      <th>12</th>\n",
       "      <td>58.0</td>\n",
       "      <td>M</td>\n",
       "      <td>2eeac8d8feae4a8cad5a6af0499a211d</td>\n",
       "      <td>51000.0</td>\n",
       "      <td>1159</td>\n",
       "      <td>2017</td>\n",
       "      <td>11</td>\n",
       "    </tr>\n",
       "  </tbody>\n",
       "</table>\n",
       "</div>"
      ],
      "text/plain": [
       "     age gender                       customer_id    income  memberdays  \\\n",
       "1   55.0      F  0610b486422d4921ae7d2bf64640c50b  112000.0        1278   \n",
       "3   75.0      F  78afa995795e4d85b5d9ceeca43f5fef  100000.0        1345   \n",
       "5   68.0      M  e2127556f4f64592b11af22de27a7932   70000.0         993   \n",
       "8   65.0      M  389bc3fa690240e798340f5a15918d5c   53000.0        1069   \n",
       "12  58.0      M  2eeac8d8feae4a8cad5a6af0499a211d   51000.0        1159   \n",
       "\n",
       "    start_year  start_month  \n",
       "1         2017            7  \n",
       "3         2017            5  \n",
       "5         2018            4  \n",
       "8         2018            2  \n",
       "12        2017           11  "
      ]
     },
     "execution_count": 14,
     "metadata": {},
     "output_type": "execute_result"
    }
   ],
   "source": [
    "clean_profile.head()"
   ]
  },
  {
   "cell_type": "code",
   "execution_count": 15,
   "metadata": {},
   "outputs": [
    {
     "name": "stdout",
     "output_type": "stream",
     "text": [
      "<class 'pandas.core.frame.DataFrame'>\n",
      "Int64Index: 14613 entries, 1 to 16999\n",
      "Data columns (total 7 columns):\n",
      "age            14613 non-null float64\n",
      "gender         14613 non-null object\n",
      "customer_id    14613 non-null object\n",
      "income         14613 non-null float64\n",
      "memberdays     14613 non-null int64\n",
      "start_year     14613 non-null int64\n",
      "start_month    14613 non-null int64\n",
      "dtypes: float64(2), int64(3), object(2)\n",
      "memory usage: 913.3+ KB\n"
     ]
    }
   ],
   "source": [
    "# Summary statstics: validating that the type of columns are of proper type and there are no null values\n",
    "clean_profile.info()"
   ]
  },
  {
   "cell_type": "markdown",
   "metadata": {},
   "source": [
    "\n",
    "Q1. What is the average age per gender?\n",
    "\n",
    "Q2. What is the average income per gender?\n",
    "\n"
   ]
  },
  {
   "cell_type": "code",
   "execution_count": 16,
   "metadata": {
    "scrolled": true
   },
   "outputs": [
    {
     "data": {
      "text/plain": [
       "gender\n",
       "F    57.54495\n",
       "M    52.11669\n",
       "Name: age, dtype: float64"
      ]
     },
     "execution_count": 16,
     "metadata": {},
     "output_type": "execute_result"
    }
   ],
   "source": [
    "av_age = clean_profile.groupby(['gender']).mean()['age']\n",
    "av_age"
   ]
  },
  {
   "cell_type": "code",
   "execution_count": 17,
   "metadata": {},
   "outputs": [
    {
     "data": {
      "text/plain": [
       "Text(0,0.5,'Age (years)')"
      ]
     },
     "execution_count": 17,
     "metadata": {},
     "output_type": "execute_result"
    },
    {
     "data": {
      "image/png": "[encoded data removed]",
      "text/plain": [
       "<matplotlib.figure.Figure at 0x7f6255ca1a90>"
      ]
     },
     "metadata": {
      "needs_background": "light"
     },
     "output_type": "display_data"
    }
   ],
   "source": [
    "# Q1. Average age of male and female customers\n",
    "av_age.plot.bar(rot=15, title='Averge age of male vs female')\n",
    "plt.ylabel('Age (years)')\n"
   ]
  },
  {
   "cell_type": "code",
   "execution_count": 18,
   "metadata": {},
   "outputs": [
    {
     "data": {
      "text/plain": [
       "gender\n",
       "F    71306.412139\n",
       "M    61194.601603\n",
       "Name: income, dtype: float64"
      ]
     },
     "execution_count": 18,
     "metadata": {},
     "output_type": "execute_result"
    }
   ],
   "source": [
    "# Q2 Average income male vs female:\n",
    "av_income = clean_profile.groupby(['gender']).mean()['income']\n",
    "av_income"
   ]
  },
  {
   "cell_type": "code",
   "execution_count": 19,
   "metadata": {},
   "outputs": [
    {
     "data": {
      "text/plain": [
       "Text(0,0.5,'Income')"
      ]
     },
     "execution_count": 19,
     "metadata": {},
     "output_type": "execute_result"
    },
    {
     "data": {
      "image/png": "[encoded data removed]",
      "text/plain": [
       "<matplotlib.figure.Figure at 0x7f6256cbd198>"
      ]
     },
     "metadata": {
      "needs_background": "light"
     },
     "output_type": "display_data"
    }
   ],
   "source": [
    "av_income.plot.bar(rot=15, title='Averge income of male vs female')\n",
    "plt.ylabel('Income')\n"
   ]
  },
  {
   "cell_type": "code",
   "execution_count": 20,
   "metadata": {
    "scrolled": true
   },
   "outputs": [
    {
     "data": {
      "image/png": "[encoded data removed]",
      "text/plain": [
       "<matplotlib.figure.Figure at 0x7f6256c7aa20>"
      ]
     },
     "metadata": {
      "needs_background": "light"
     },
     "output_type": "display_data"
    }
   ],
   "source": [
    "# Q3. Gender-wise Income Distribution\n",
    "sns.distplot(clean_profile[clean_profile.gender=='M'].income,label='Male')\n",
    "sns.distplot(clean_profile[clean_profile.gender=='F'].income,label='Female')\n",
    "plt.xlabel(\"Income\")\n",
    "plt.ylabel(\"Porportion\")\n",
    "plt.title(\"Gender-wise Income Distribution\") \n",
    "plt.legend()\n",
    "plt.show()"
   ]
  },
  {
   "cell_type": "markdown",
   "metadata": {},
   "source": [
    "Plot conclude that minimum and maximum income for both male and female are approximately same but the count of male customers in low-income level is slightly higher than that of female customers."
   ]
  },
  {
   "cell_type": "code",
   "execution_count": 21,
   "metadata": {
    "scrolled": false
   },
   "outputs": [
    {
     "data": {
      "image/png": "[encoded data removed]",
      "text/plain": [
       "<matplotlib.figure.Figure at 0x7f6256c92208>"
      ]
     },
     "metadata": {
      "needs_background": "light"
     },
     "output_type": "display_data"
    }
   ],
   "source": [
    "#Q4. Gender-wise age distribution\n",
    "sns.distplot(clean_profile[clean_profile.gender=='M'].age,label='Male')\n",
    "sns.distplot(clean_profile[clean_profile.gender=='F'].age,label='Female')\n",
    "plt.xlabel(\"Age in yrs\")\n",
    "plt.ylabel(\"Porportion\")\n",
    "plt.title(\"Gender-wise Age Distribution\") \n",
    "plt.legend()\n",
    "plt.show()"
   ]
  },
  {
   "cell_type": "markdown",
   "metadata": {},
   "source": [
    "The plot shows that gender wise distribution of age is qute similar. Majority of users are in age group of 40-60 years."
   ]
  },
  {
   "cell_type": "markdown",
   "metadata": {},
   "source": [
    "\n",
    "Q5. Compute what percent of customers enrolled in an year:"
   ]
  },
  {
   "cell_type": "code",
   "execution_count": 22,
   "metadata": {},
   "outputs": [
    {
     "data": {
      "text/plain": [
       "2017    37.706152\n",
       "2018    24.731404\n",
       "2016    20.474920\n",
       "2015    10.730172\n",
       "2014     4.502840\n",
       "2013     1.854513\n",
       "Name: start_year, dtype: float64"
      ]
     },
     "execution_count": 22,
     "metadata": {},
     "output_type": "execute_result"
    }
   ],
   "source": [
    "year_count = clean_profile['start_year'].value_counts()\n",
    "\n",
    "year_count *= 100 / year_count.sum()\n",
    "year_count"
   ]
  },
  {
   "cell_type": "code",
   "execution_count": 23,
   "metadata": {
    "scrolled": true
   },
   "outputs": [
    {
     "data": {
      "image/png": "[encoded data removed]",
      "text/plain": [
       "<matplotlib.figure.Figure at 0x7f6256ca3278>"
      ]
     },
     "metadata": {
      "needs_background": "light"
     },
     "output_type": "display_data"
    }
   ],
   "source": [
    "year_count.plot.bar(rot=15)\n",
    "plt.xlabel('start year')\n",
    "plt.ylabel('percentage count')\n",
    "plt.title('Membership distribution in terms of joining year');"
   ]
  },
  {
   "cell_type": "markdown",
   "metadata": {},
   "source": [
    "#The plot shows around 60% of customers have joined the starbucks reward program in 2017 and 2018."
   ]
  },
  {
   "cell_type": "markdown",
   "metadata": {},
   "source": [
    "Q6. What is the distribuion of male and female per year in the membership program?"
   ]
  },
  {
   "cell_type": "code",
   "execution_count": 24,
   "metadata": {
    "scrolled": true
   },
   "outputs": [
    {
     "data": {
      "image/png": "[encoded data removed]",
      "text/plain": [
       "<matplotlib.figure.Figure at 0x7f6256c856a0>"
      ]
     },
     "metadata": {
      "needs_background": "light"
     },
     "output_type": "display_data"
    }
   ],
   "source": [
    "# groupby start_year and gender to plot a graph\n",
    "membership_date = clean_profile.groupby(['start_year', 'gender']).size()\n",
    "membership_date = membership_date.reset_index()\n",
    "membership_date.columns = ['start_year', 'gender', 'count']\n",
    "\n",
    "# plot a bar graph for gender distribution as a function of gender in membership program\n",
    "plt.figure(figsize=(10, 5))\n",
    "sns.barplot(x='start_year', y='count', hue='gender', data=membership_date)\n",
    "plt.xlabel('Membership Start Year')\n",
    "plt.ylabel('Count');"
   ]
  },
  {
   "cell_type": "markdown",
   "metadata": {},
   "source": [
    "1. The results suggest that most customers in the Starbucks rewards program are from 2017 followed by 2018. \n",
    "2. Plots also depict that there are more male customers joining the program every year."
   ]
  },
  {
   "cell_type": "code",
   "execution_count": 25,
   "metadata": {},
   "outputs": [
    {
     "data": {
      "text/plain": [
       "gender\n",
       "F    41.942106\n",
       "M    58.057894\n",
       "Name: customer_id, dtype: float64"
      ]
     },
     "execution_count": 25,
     "metadata": {},
     "output_type": "execute_result"
    }
   ],
   "source": [
    "gender_count = clean_profile.groupby(['gender']).count()['customer_id']\n",
    "gender_count *= 100 / gender_count.sum()\n",
    "gender_count"
   ]
  },
  {
   "cell_type": "code",
   "execution_count": 26,
   "metadata": {},
   "outputs": [
    {
     "data": {
      "image/png": "[encoded data removed]",
      "text/plain": [
       "<matplotlib.figure.Figure at 0x7f6256ba11d0>"
      ]
     },
     "metadata": {
      "needs_background": "light"
     },
     "output_type": "display_data"
    }
   ],
   "source": [
    "gender_count.plot.bar(rot=15)\n",
    "plt.xlabel('gender')\n",
    "plt.ylabel('percentage count')\n",
    "plt.title('Gender distribution in customer profile');"
   ]
  },
  {
   "cell_type": "markdown",
   "metadata": {},
   "source": [
    "3. The customer profile has 40% female and 60% males in total."
   ]
  },
  {
   "cell_type": "markdown",
   "metadata": {},
   "source": [
    "# Portfolio data"
   ]
  },
  {
   "cell_type": "code",
   "execution_count": 27,
   "metadata": {},
   "outputs": [
    {
     "name": "stdout",
     "output_type": "stream",
     "text": [
      "1. The Portfolio data has 10 rows and 6 columns\n",
      "2. The Portfolio data is free of missing values.\n",
      "3. There are 10 different types of offers disumbersed to customers by StarBucks\n",
      "4. There are 3 types of offers : BOGO, Discount and Informational which is further subcategorised based on difficulty and duration.\n",
      "5. There are 5 types of difficulty- 0,5,7,10,20 that offers are categorised into\n",
      "6. The offers valid for 3,4,5,7 or 10 days\n"
     ]
    }
   ],
   "source": [
    "# preliminary EDA of Portfolio dataset shows the following:\n",
    "print('1. The Portfolio data has {} rows and {} columns'.format(portfolio.shape[0], portfolio.shape[1]))\n",
    "print('2. The Portfolio data is free of missing values.')\n",
    "print('3. There are {} different types of offers disumbersed to customers by StarBucks'.format(portfolio.offer_id.nunique()))\n",
    "print('4. There are 3 types of offers : BOGO, Discount and Informational which is further subcategorised based on difficulty and duration.')\n",
    "print('5. There are 5 types of difficulty- 0,5,7,10,20 that offers are categorised into' )\n",
    "print('6. The offers valid for 3,4,5,7 or 10 days')"
   ]
  },
  {
   "cell_type": "code",
   "execution_count": 28,
   "metadata": {},
   "outputs": [
    {
     "data": {
      "text/html": [
       "<div>\n",
       "<style scoped>\n",
       "    .dataframe tbody tr th:only-of-type {\n",
       "        vertical-align: middle;\n",
       "    }\n",
       "\n",
       "    .dataframe tbody tr th {\n",
       "        vertical-align: top;\n",
       "    }\n",
       "\n",
       "    .dataframe thead th {\n",
       "        text-align: right;\n",
       "    }\n",
       "</style>\n",
       "<table border=\"1\" class=\"dataframe\">\n",
       "  <thead>\n",
       "    <tr style=\"text-align: right;\">\n",
       "      <th></th>\n",
       "      <th>channels</th>\n",
       "      <th>difficulty</th>\n",
       "      <th>duration</th>\n",
       "      <th>offer_id</th>\n",
       "      <th>offer_type</th>\n",
       "      <th>reward</th>\n",
       "    </tr>\n",
       "  </thead>\n",
       "  <tbody>\n",
       "    <tr>\n",
       "      <th>0</th>\n",
       "      <td>[email, mobile, social]</td>\n",
       "      <td>10</td>\n",
       "      <td>7</td>\n",
       "      <td>ae264e3637204a6fb9bb56bc8210ddfd</td>\n",
       "      <td>bogo</td>\n",
       "      <td>10</td>\n",
       "    </tr>\n",
       "    <tr>\n",
       "      <th>1</th>\n",
       "      <td>[web, email, mobile, social]</td>\n",
       "      <td>10</td>\n",
       "      <td>5</td>\n",
       "      <td>4d5c57ea9a6940dd891ad53e9dbe8da0</td>\n",
       "      <td>bogo</td>\n",
       "      <td>10</td>\n",
       "    </tr>\n",
       "    <tr>\n",
       "      <th>2</th>\n",
       "      <td>[web, email, mobile]</td>\n",
       "      <td>0</td>\n",
       "      <td>4</td>\n",
       "      <td>3f207df678b143eea3cee63160fa8bed</td>\n",
       "      <td>informational</td>\n",
       "      <td>0</td>\n",
       "    </tr>\n",
       "    <tr>\n",
       "      <th>3</th>\n",
       "      <td>[web, email, mobile]</td>\n",
       "      <td>5</td>\n",
       "      <td>7</td>\n",
       "      <td>9b98b8c7a33c4b65b9aebfe6a799e6d9</td>\n",
       "      <td>bogo</td>\n",
       "      <td>5</td>\n",
       "    </tr>\n",
       "    <tr>\n",
       "      <th>4</th>\n",
       "      <td>[web, email]</td>\n",
       "      <td>20</td>\n",
       "      <td>10</td>\n",
       "      <td>0b1e1539f2cc45b7b9fa7c272da2e1d7</td>\n",
       "      <td>discount</td>\n",
       "      <td>5</td>\n",
       "    </tr>\n",
       "    <tr>\n",
       "      <th>5</th>\n",
       "      <td>[web, email, mobile, social]</td>\n",
       "      <td>7</td>\n",
       "      <td>7</td>\n",
       "      <td>2298d6c36e964ae4a3e7e9706d1fb8c2</td>\n",
       "      <td>discount</td>\n",
       "      <td>3</td>\n",
       "    </tr>\n",
       "    <tr>\n",
       "      <th>6</th>\n",
       "      <td>[web, email, mobile, social]</td>\n",
       "      <td>10</td>\n",
       "      <td>10</td>\n",
       "      <td>fafdcd668e3743c1bb461111dcafc2a4</td>\n",
       "      <td>discount</td>\n",
       "      <td>2</td>\n",
       "    </tr>\n",
       "    <tr>\n",
       "      <th>7</th>\n",
       "      <td>[email, mobile, social]</td>\n",
       "      <td>0</td>\n",
       "      <td>3</td>\n",
       "      <td>5a8bc65990b245e5a138643cd4eb9837</td>\n",
       "      <td>informational</td>\n",
       "      <td>0</td>\n",
       "    </tr>\n",
       "    <tr>\n",
       "      <th>8</th>\n",
       "      <td>[web, email, mobile, social]</td>\n",
       "      <td>5</td>\n",
       "      <td>5</td>\n",
       "      <td>f19421c1d4aa40978ebb69ca19b0e20d</td>\n",
       "      <td>bogo</td>\n",
       "      <td>5</td>\n",
       "    </tr>\n",
       "    <tr>\n",
       "      <th>9</th>\n",
       "      <td>[web, email, mobile]</td>\n",
       "      <td>10</td>\n",
       "      <td>7</td>\n",
       "      <td>2906b810c7d4411798c6938adc9daaa5</td>\n",
       "      <td>discount</td>\n",
       "      <td>2</td>\n",
       "    </tr>\n",
       "  </tbody>\n",
       "</table>\n",
       "</div>"
      ],
      "text/plain": [
       "                       channels  difficulty  duration  \\\n",
       "0       [email, mobile, social]          10         7   \n",
       "1  [web, email, mobile, social]          10         5   \n",
       "2          [web, email, mobile]           0         4   \n",
       "3          [web, email, mobile]           5         7   \n",
       "4                  [web, email]          20        10   \n",
       "5  [web, email, mobile, social]           7         7   \n",
       "6  [web, email, mobile, social]          10        10   \n",
       "7       [email, mobile, social]           0         3   \n",
       "8  [web, email, mobile, social]           5         5   \n",
       "9          [web, email, mobile]          10         7   \n",
       "\n",
       "                           offer_id     offer_type  reward  \n",
       "0  ae264e3637204a6fb9bb56bc8210ddfd           bogo      10  \n",
       "1  4d5c57ea9a6940dd891ad53e9dbe8da0           bogo      10  \n",
       "2  3f207df678b143eea3cee63160fa8bed  informational       0  \n",
       "3  9b98b8c7a33c4b65b9aebfe6a799e6d9           bogo       5  \n",
       "4  0b1e1539f2cc45b7b9fa7c272da2e1d7       discount       5  \n",
       "5  2298d6c36e964ae4a3e7e9706d1fb8c2       discount       3  \n",
       "6  fafdcd668e3743c1bb461111dcafc2a4       discount       2  \n",
       "7  5a8bc65990b245e5a138643cd4eb9837  informational       0  \n",
       "8  f19421c1d4aa40978ebb69ca19b0e20d           bogo       5  \n",
       "9  2906b810c7d4411798c6938adc9daaa5       discount       2  "
      ]
     },
     "execution_count": 28,
     "metadata": {},
     "output_type": "execute_result"
    }
   ],
   "source": [
    "portfolio"
   ]
  },
  {
   "cell_type": "code",
   "execution_count": 29,
   "metadata": {
    "scrolled": true
   },
   "outputs": [
    {
     "name": "stdout",
     "output_type": "stream",
     "text": [
      "<class 'pandas.core.frame.DataFrame'>\n",
      "RangeIndex: 10 entries, 0 to 9\n",
      "Data columns (total 6 columns):\n",
      "channels      10 non-null object\n",
      "difficulty    10 non-null int64\n",
      "duration      10 non-null int64\n",
      "offer_id      10 non-null object\n",
      "offer_type    10 non-null object\n",
      "reward        10 non-null int64\n",
      "dtypes: int64(3), object(3)\n",
      "memory usage: 560.0+ bytes\n"
     ]
    }
   ],
   "source": [
    "# Portfolio data set is free of missing values:\n",
    "portfolio.info()"
   ]
  },
  {
   "cell_type": "markdown",
   "metadata": {},
   "source": [
    "Q7. what are the different types of offers?"
   ]
  },
  {
   "cell_type": "code",
   "execution_count": 30,
   "metadata": {},
   "outputs": [
    {
     "data": {
      "text/plain": [
       "offer_type\n",
       "bogo             4\n",
       "discount         4\n",
       "informational    2\n",
       "Name: offer_id, dtype: int64"
      ]
     },
     "execution_count": 30,
     "metadata": {},
     "output_type": "execute_result"
    }
   ],
   "source": [
    "#Offers of each type\n",
    "portfolio.groupby('offer_type')['offer_id'].count()"
   ]
  },
  {
   "cell_type": "code",
   "execution_count": 31,
   "metadata": {},
   "outputs": [
    {
     "data": {
      "image/png": "[encoded data removed]",
      "text/plain": [
       "<matplotlib.figure.Figure at 0x7f6256afe240>"
      ]
     },
     "metadata": {
      "needs_background": "light"
     },
     "output_type": "display_data"
    }
   ],
   "source": [
    "# a look at the different types of offers\n",
    "ax = portfolio[\"offer_type\"].value_counts().plot.bar(\n",
    "    figsize=(5,5),\n",
    "    fontsize=14,\n",
    "\n",
    ")\n",
    "\n",
    "ax.set_title(\"What are the offer types?\", fontsize=20)\n",
    "ax.set_xlabel(\"Offers\", fontsize=15)\n",
    "ax.set_ylabel(\"Frequency\", fontsize=15)\n",
    "sns.despine(bottom=True, left=True)"
   ]
  },
  {
   "cell_type": "markdown",
   "metadata": {},
   "source": [
    "# Transcript Data"
   ]
  },
  {
   "cell_type": "code",
   "execution_count": 32,
   "metadata": {},
   "outputs": [
    {
     "data": {
      "text/html": [
       "<div>\n",
       "<style scoped>\n",
       "    .dataframe tbody tr th:only-of-type {\n",
       "        vertical-align: middle;\n",
       "    }\n",
       "\n",
       "    .dataframe tbody tr th {\n",
       "        vertical-align: top;\n",
       "    }\n",
       "\n",
       "    .dataframe thead th {\n",
       "        text-align: right;\n",
       "    }\n",
       "</style>\n",
       "<table border=\"1\" class=\"dataframe\">\n",
       "  <thead>\n",
       "    <tr style=\"text-align: right;\">\n",
       "      <th></th>\n",
       "      <th>event</th>\n",
       "      <th>customer_id</th>\n",
       "      <th>time</th>\n",
       "      <th>value</th>\n",
       "    </tr>\n",
       "  </thead>\n",
       "  <tbody>\n",
       "    <tr>\n",
       "      <th>0</th>\n",
       "      <td>offer received</td>\n",
       "      <td>78afa995795e4d85b5d9ceeca43f5fef</td>\n",
       "      <td>0</td>\n",
       "      <td>{'offer id': '9b98b8c7a33c4b65b9aebfe6a799e6d9'}</td>\n",
       "    </tr>\n",
       "    <tr>\n",
       "      <th>1</th>\n",
       "      <td>offer received</td>\n",
       "      <td>a03223e636434f42ac4c3df47e8bac43</td>\n",
       "      <td>0</td>\n",
       "      <td>{'offer id': '0b1e1539f2cc45b7b9fa7c272da2e1d7'}</td>\n",
       "    </tr>\n",
       "    <tr>\n",
       "      <th>2</th>\n",
       "      <td>offer received</td>\n",
       "      <td>e2127556f4f64592b11af22de27a7932</td>\n",
       "      <td>0</td>\n",
       "      <td>{'offer id': '2906b810c7d4411798c6938adc9daaa5'}</td>\n",
       "    </tr>\n",
       "    <tr>\n",
       "      <th>3</th>\n",
       "      <td>offer received</td>\n",
       "      <td>8ec6ce2a7e7949b1bf142def7d0e0586</td>\n",
       "      <td>0</td>\n",
       "      <td>{'offer id': 'fafdcd668e3743c1bb461111dcafc2a4'}</td>\n",
       "    </tr>\n",
       "    <tr>\n",
       "      <th>4</th>\n",
       "      <td>offer received</td>\n",
       "      <td>68617ca6246f4fbc85e91a2a49552598</td>\n",
       "      <td>0</td>\n",
       "      <td>{'offer id': '4d5c57ea9a6940dd891ad53e9dbe8da0'}</td>\n",
       "    </tr>\n",
       "  </tbody>\n",
       "</table>\n",
       "</div>"
      ],
      "text/plain": [
       "            event                       customer_id  time  \\\n",
       "0  offer received  78afa995795e4d85b5d9ceeca43f5fef     0   \n",
       "1  offer received  a03223e636434f42ac4c3df47e8bac43     0   \n",
       "2  offer received  e2127556f4f64592b11af22de27a7932     0   \n",
       "3  offer received  8ec6ce2a7e7949b1bf142def7d0e0586     0   \n",
       "4  offer received  68617ca6246f4fbc85e91a2a49552598     0   \n",
       "\n",
       "                                              value  \n",
       "0  {'offer id': '9b98b8c7a33c4b65b9aebfe6a799e6d9'}  \n",
       "1  {'offer id': '0b1e1539f2cc45b7b9fa7c272da2e1d7'}  \n",
       "2  {'offer id': '2906b810c7d4411798c6938adc9daaa5'}  \n",
       "3  {'offer id': 'fafdcd668e3743c1bb461111dcafc2a4'}  \n",
       "4  {'offer id': '4d5c57ea9a6940dd891ad53e9dbe8da0'}  "
      ]
     },
     "execution_count": 32,
     "metadata": {},
     "output_type": "execute_result"
    }
   ],
   "source": [
    "transcript.head()"
   ]
  },
  {
   "cell_type": "code",
   "execution_count": 33,
   "metadata": {},
   "outputs": [
    {
     "data": {
      "text/plain": [
       "(306534, 4)"
      ]
     },
     "execution_count": 33,
     "metadata": {},
     "output_type": "execute_result"
    }
   ],
   "source": [
    "transcript.shape"
   ]
  },
  {
   "cell_type": "code",
   "execution_count": 34,
   "metadata": {},
   "outputs": [
    {
     "data": {
      "text/plain": [
       "event          0\n",
       "customer_id    0\n",
       "time           0\n",
       "value          0\n",
       "dtype: int64"
      ]
     },
     "execution_count": 34,
     "metadata": {},
     "output_type": "execute_result"
    }
   ],
   "source": [
    "# quick check on missing value\n",
    "transcript.isnull().sum()"
   ]
  },
  {
   "cell_type": "code",
   "execution_count": 35,
   "metadata": {},
   "outputs": [
    {
     "data": {
      "text/plain": [
       "{'offer id': '2298d6c36e964ae4a3e7e9706d1fb8c2'}                  14983\n",
       "{'offer id': 'fafdcd668e3743c1bb461111dcafc2a4'}                  14924\n",
       "{'offer id': '4d5c57ea9a6940dd891ad53e9dbe8da0'}                  14891\n",
       "{'offer id': 'f19421c1d4aa40978ebb69ca19b0e20d'}                  14835\n",
       "{'offer id': 'ae264e3637204a6fb9bb56bc8210ddfd'}                  14374\n",
       "{'offer id': '5a8bc65990b245e5a138643cd4eb9837'}                  14305\n",
       "{'offer id': '9b98b8c7a33c4b65b9aebfe6a799e6d9'}                  11848\n",
       "{'offer id': '3f207df678b143eea3cee63160fa8bed'}                  11761\n",
       "{'offer id': '2906b810c7d4411798c6938adc9daaa5'}                  11750\n",
       "{'offer id': '0b1e1539f2cc45b7b9fa7c272da2e1d7'}                  10331\n",
       "{'offer_id': 'fafdcd668e3743c1bb461111dcafc2a4', 'reward': 2}      5317\n",
       "{'offer_id': '2298d6c36e964ae4a3e7e9706d1fb8c2', 'reward': 3}      5156\n",
       "{'offer_id': '9b98b8c7a33c4b65b9aebfe6a799e6d9', 'reward': 5}      4354\n",
       "{'offer_id': 'f19421c1d4aa40978ebb69ca19b0e20d', 'reward': 5}      4296\n",
       "{'offer_id': '2906b810c7d4411798c6938adc9daaa5', 'reward': 2}      4017\n",
       "{'offer_id': 'ae264e3637204a6fb9bb56bc8210ddfd', 'reward': 10}     3688\n",
       "{'offer_id': '0b1e1539f2cc45b7b9fa7c272da2e1d7', 'reward': 5}      3420\n",
       "{'offer_id': '4d5c57ea9a6940dd891ad53e9dbe8da0', 'reward': 10}     3331\n",
       "{'amount': 0.05}                                                    431\n",
       "{'amount': 0.66}                                                    166\n",
       "{'amount': 1.18}                                                    165\n",
       "{'amount': 1.01}                                                    163\n",
       "{'amount': 1.23}                                                    161\n",
       "{'amount': 0.9}                                                     161\n",
       "{'amount': 0.53}                                                    159\n",
       "{'amount': 0.5}                                                     159\n",
       "{'amount': 1.19}                                                    159\n",
       "{'amount': 0.79}                                                    157\n",
       "{'amount': 1.5}                                                     156\n",
       "{'amount': 0.92}                                                    156\n",
       "                                                                  ...  \n",
       "{'amount': 49.73}                                                     1\n",
       "{'amount': 749.29}                                                    1\n",
       "{'amount': 83.03}                                                     1\n",
       "{'amount': 51.06}                                                     1\n",
       "{'amount': 53.4}                                                      1\n",
       "{'amount': 47.2}                                                      1\n",
       "{'amount': 1015.73}                                                   1\n",
       "{'amount': 40.83}                                                     1\n",
       "{'amount': 54.44}                                                     1\n",
       "{'amount': 39.82}                                                     1\n",
       "{'amount': 456.79}                                                    1\n",
       "{'amount': 49.82}                                                     1\n",
       "{'amount': 41.61}                                                     1\n",
       "{'amount': 619.63}                                                    1\n",
       "{'amount': 50.37}                                                     1\n",
       "{'amount': 45.76}                                                     1\n",
       "{'amount': 36.99}                                                     1\n",
       "{'amount': 773.21}                                                    1\n",
       "{'amount': 577.21}                                                    1\n",
       "{'amount': 37.3}                                                      1\n",
       "{'amount': 792.54}                                                    1\n",
       "{'amount': 49.38}                                                     1\n",
       "{'amount': 769.04}                                                    1\n",
       "{'amount': 384.03}                                                    1\n",
       "{'amount': 493.4}                                                     1\n",
       "{'amount': 439.14}                                                    1\n",
       "{'amount': 42.75}                                                     1\n",
       "{'amount': 650.75}                                                    1\n",
       "{'amount': 943.4}                                                     1\n",
       "{'amount': 44.21}                                                     1\n",
       "Name: value, Length: 5121, dtype: int64"
      ]
     },
     "execution_count": 35,
     "metadata": {},
     "output_type": "execute_result"
    }
   ],
   "source": [
    "transcript.value.value_counts()"
   ]
  },
  {
   "cell_type": "markdown",
   "metadata": {},
   "source": [
    "1. transcript dataframe is free of any mssing values.\n",
    "2. It can be seen that there are 4 possible values: 'offer id', 'offer_id', 'reward' and 'amount', out of which 'offer id' and 'offer_id' are to be considered same.\n"
   ]
  },
  {
   "cell_type": "code",
   "execution_count": 36,
   "metadata": {
    "scrolled": true
   },
   "outputs": [
    {
     "data": {
      "text/html": [
       "<div>\n",
       "<style scoped>\n",
       "    .dataframe tbody tr th:only-of-type {\n",
       "        vertical-align: middle;\n",
       "    }\n",
       "\n",
       "    .dataframe tbody tr th {\n",
       "        vertical-align: top;\n",
       "    }\n",
       "\n",
       "    .dataframe thead th {\n",
       "        text-align: right;\n",
       "    }\n",
       "</style>\n",
       "<table border=\"1\" class=\"dataframe\">\n",
       "  <thead>\n",
       "    <tr style=\"text-align: right;\">\n",
       "      <th></th>\n",
       "      <th>event</th>\n",
       "      <th>customer_id</th>\n",
       "      <th>time</th>\n",
       "      <th>value</th>\n",
       "    </tr>\n",
       "  </thead>\n",
       "  <tbody>\n",
       "    <tr>\n",
       "      <th>55972</th>\n",
       "      <td>offer received</td>\n",
       "      <td>0009655768c64bdeb2e877511632db8f</td>\n",
       "      <td>168</td>\n",
       "      <td>{'offer id': '5a8bc65990b245e5a138643cd4eb9837'}</td>\n",
       "    </tr>\n",
       "    <tr>\n",
       "      <th>77705</th>\n",
       "      <td>offer viewed</td>\n",
       "      <td>0009655768c64bdeb2e877511632db8f</td>\n",
       "      <td>192</td>\n",
       "      <td>{'offer id': '5a8bc65990b245e5a138643cd4eb9837'}</td>\n",
       "    </tr>\n",
       "    <tr>\n",
       "      <th>89291</th>\n",
       "      <td>transaction</td>\n",
       "      <td>0009655768c64bdeb2e877511632db8f</td>\n",
       "      <td>228</td>\n",
       "      <td>{'amount': 22.16}</td>\n",
       "    </tr>\n",
       "    <tr>\n",
       "      <th>113605</th>\n",
       "      <td>offer received</td>\n",
       "      <td>0009655768c64bdeb2e877511632db8f</td>\n",
       "      <td>336</td>\n",
       "      <td>{'offer id': '3f207df678b143eea3cee63160fa8bed'}</td>\n",
       "    </tr>\n",
       "    <tr>\n",
       "      <th>139992</th>\n",
       "      <td>offer viewed</td>\n",
       "      <td>0009655768c64bdeb2e877511632db8f</td>\n",
       "      <td>372</td>\n",
       "      <td>{'offer id': '3f207df678b143eea3cee63160fa8bed'}</td>\n",
       "    </tr>\n",
       "    <tr>\n",
       "      <th>153401</th>\n",
       "      <td>offer received</td>\n",
       "      <td>0009655768c64bdeb2e877511632db8f</td>\n",
       "      <td>408</td>\n",
       "      <td>{'offer id': 'f19421c1d4aa40978ebb69ca19b0e20d'}</td>\n",
       "    </tr>\n",
       "    <tr>\n",
       "      <th>168412</th>\n",
       "      <td>transaction</td>\n",
       "      <td>0009655768c64bdeb2e877511632db8f</td>\n",
       "      <td>414</td>\n",
       "      <td>{'amount': 8.57}</td>\n",
       "    </tr>\n",
       "    <tr>\n",
       "      <th>168413</th>\n",
       "      <td>offer completed</td>\n",
       "      <td>0009655768c64bdeb2e877511632db8f</td>\n",
       "      <td>414</td>\n",
       "      <td>{'offer_id': 'f19421c1d4aa40978ebb69ca19b0e20d...</td>\n",
       "    </tr>\n",
       "    <tr>\n",
       "      <th>187554</th>\n",
       "      <td>offer viewed</td>\n",
       "      <td>0009655768c64bdeb2e877511632db8f</td>\n",
       "      <td>456</td>\n",
       "      <td>{'offer id': 'f19421c1d4aa40978ebb69ca19b0e20d'}</td>\n",
       "    </tr>\n",
       "    <tr>\n",
       "      <th>204340</th>\n",
       "      <td>offer received</td>\n",
       "      <td>0009655768c64bdeb2e877511632db8f</td>\n",
       "      <td>504</td>\n",
       "      <td>{'offer id': 'fafdcd668e3743c1bb461111dcafc2a4'}</td>\n",
       "    </tr>\n",
       "    <tr>\n",
       "      <th>228422</th>\n",
       "      <td>transaction</td>\n",
       "      <td>0009655768c64bdeb2e877511632db8f</td>\n",
       "      <td>528</td>\n",
       "      <td>{'amount': 14.11}</td>\n",
       "    </tr>\n",
       "    <tr>\n",
       "      <th>228423</th>\n",
       "      <td>offer completed</td>\n",
       "      <td>0009655768c64bdeb2e877511632db8f</td>\n",
       "      <td>528</td>\n",
       "      <td>{'offer_id': 'fafdcd668e3743c1bb461111dcafc2a4...</td>\n",
       "    </tr>\n",
       "    <tr>\n",
       "      <th>233413</th>\n",
       "      <td>offer viewed</td>\n",
       "      <td>0009655768c64bdeb2e877511632db8f</td>\n",
       "      <td>540</td>\n",
       "      <td>{'offer id': 'fafdcd668e3743c1bb461111dcafc2a4'}</td>\n",
       "    </tr>\n",
       "    <tr>\n",
       "      <th>237784</th>\n",
       "      <td>transaction</td>\n",
       "      <td>0009655768c64bdeb2e877511632db8f</td>\n",
       "      <td>552</td>\n",
       "      <td>{'amount': 13.56}</td>\n",
       "    </tr>\n",
       "    <tr>\n",
       "      <th>247879</th>\n",
       "      <td>offer received</td>\n",
       "      <td>0009655768c64bdeb2e877511632db8f</td>\n",
       "      <td>576</td>\n",
       "      <td>{'offer id': '2906b810c7d4411798c6938adc9daaa5'}</td>\n",
       "    </tr>\n",
       "    <tr>\n",
       "      <th>258883</th>\n",
       "      <td>transaction</td>\n",
       "      <td>0009655768c64bdeb2e877511632db8f</td>\n",
       "      <td>576</td>\n",
       "      <td>{'amount': 10.27}</td>\n",
       "    </tr>\n",
       "    <tr>\n",
       "      <th>258884</th>\n",
       "      <td>offer completed</td>\n",
       "      <td>0009655768c64bdeb2e877511632db8f</td>\n",
       "      <td>576</td>\n",
       "      <td>{'offer_id': '2906b810c7d4411798c6938adc9daaa5...</td>\n",
       "    </tr>\n",
       "    <tr>\n",
       "      <th>293497</th>\n",
       "      <td>transaction</td>\n",
       "      <td>0009655768c64bdeb2e877511632db8f</td>\n",
       "      <td>660</td>\n",
       "      <td>{'amount': 12.36}</td>\n",
       "    </tr>\n",
       "    <tr>\n",
       "      <th>300930</th>\n",
       "      <td>transaction</td>\n",
       "      <td>0009655768c64bdeb2e877511632db8f</td>\n",
       "      <td>690</td>\n",
       "      <td>{'amount': 28.16}</td>\n",
       "    </tr>\n",
       "    <tr>\n",
       "      <th>302205</th>\n",
       "      <td>transaction</td>\n",
       "      <td>0009655768c64bdeb2e877511632db8f</td>\n",
       "      <td>696</td>\n",
       "      <td>{'amount': 18.41}</td>\n",
       "    </tr>\n",
       "  </tbody>\n",
       "</table>\n",
       "</div>"
      ],
      "text/plain": [
       "                  event                       customer_id  time  \\\n",
       "55972    offer received  0009655768c64bdeb2e877511632db8f   168   \n",
       "77705      offer viewed  0009655768c64bdeb2e877511632db8f   192   \n",
       "89291       transaction  0009655768c64bdeb2e877511632db8f   228   \n",
       "113605   offer received  0009655768c64bdeb2e877511632db8f   336   \n",
       "139992     offer viewed  0009655768c64bdeb2e877511632db8f   372   \n",
       "153401   offer received  0009655768c64bdeb2e877511632db8f   408   \n",
       "168412      transaction  0009655768c64bdeb2e877511632db8f   414   \n",
       "168413  offer completed  0009655768c64bdeb2e877511632db8f   414   \n",
       "187554     offer viewed  0009655768c64bdeb2e877511632db8f   456   \n",
       "204340   offer received  0009655768c64bdeb2e877511632db8f   504   \n",
       "228422      transaction  0009655768c64bdeb2e877511632db8f   528   \n",
       "228423  offer completed  0009655768c64bdeb2e877511632db8f   528   \n",
       "233413     offer viewed  0009655768c64bdeb2e877511632db8f   540   \n",
       "237784      transaction  0009655768c64bdeb2e877511632db8f   552   \n",
       "247879   offer received  0009655768c64bdeb2e877511632db8f   576   \n",
       "258883      transaction  0009655768c64bdeb2e877511632db8f   576   \n",
       "258884  offer completed  0009655768c64bdeb2e877511632db8f   576   \n",
       "293497      transaction  0009655768c64bdeb2e877511632db8f   660   \n",
       "300930      transaction  0009655768c64bdeb2e877511632db8f   690   \n",
       "302205      transaction  0009655768c64bdeb2e877511632db8f   696   \n",
       "\n",
       "                                                    value  \n",
       "55972    {'offer id': '5a8bc65990b245e5a138643cd4eb9837'}  \n",
       "77705    {'offer id': '5a8bc65990b245e5a138643cd4eb9837'}  \n",
       "89291                                   {'amount': 22.16}  \n",
       "113605   {'offer id': '3f207df678b143eea3cee63160fa8bed'}  \n",
       "139992   {'offer id': '3f207df678b143eea3cee63160fa8bed'}  \n",
       "153401   {'offer id': 'f19421c1d4aa40978ebb69ca19b0e20d'}  \n",
       "168412                                   {'amount': 8.57}  \n",
       "168413  {'offer_id': 'f19421c1d4aa40978ebb69ca19b0e20d...  \n",
       "187554   {'offer id': 'f19421c1d4aa40978ebb69ca19b0e20d'}  \n",
       "204340   {'offer id': 'fafdcd668e3743c1bb461111dcafc2a4'}  \n",
       "228422                                  {'amount': 14.11}  \n",
       "228423  {'offer_id': 'fafdcd668e3743c1bb461111dcafc2a4...  \n",
       "233413   {'offer id': 'fafdcd668e3743c1bb461111dcafc2a4'}  \n",
       "237784                                  {'amount': 13.56}  \n",
       "247879   {'offer id': '2906b810c7d4411798c6938adc9daaa5'}  \n",
       "258883                                  {'amount': 10.27}  \n",
       "258884  {'offer_id': '2906b810c7d4411798c6938adc9daaa5...  \n",
       "293497                                  {'amount': 12.36}  \n",
       "300930                                  {'amount': 28.16}  \n",
       "302205                                  {'amount': 18.41}  "
      ]
     },
     "execution_count": 36,
     "metadata": {},
     "output_type": "execute_result"
    }
   ],
   "source": [
    "# select one user and explore the transcript records\n",
    "transcript[transcript['customer_id']=='0009655768c64bdeb2e877511632db8f']"
   ]
  },
  {
   "cell_type": "markdown",
   "metadata": {},
   "source": [
    "# A look as how customers responds to offers"
   ]
  },
  {
   "cell_type": "code",
   "execution_count": 37,
   "metadata": {},
   "outputs": [
    {
     "data": {
      "text/html": [
       "<div>\n",
       "<style scoped>\n",
       "    .dataframe tbody tr th:only-of-type {\n",
       "        vertical-align: middle;\n",
       "    }\n",
       "\n",
       "    .dataframe tbody tr th {\n",
       "        vertical-align: top;\n",
       "    }\n",
       "\n",
       "    .dataframe thead th {\n",
       "        text-align: right;\n",
       "    }\n",
       "</style>\n",
       "<table border=\"1\" class=\"dataframe\">\n",
       "  <thead>\n",
       "    <tr style=\"text-align: right;\">\n",
       "      <th></th>\n",
       "      <th>response</th>\n",
       "      <th>count</th>\n",
       "    </tr>\n",
       "  </thead>\n",
       "  <tbody>\n",
       "    <tr>\n",
       "      <th>0</th>\n",
       "      <td>offer completed</td>\n",
       "      <td>10.954413</td>\n",
       "    </tr>\n",
       "    <tr>\n",
       "      <th>1</th>\n",
       "      <td>offer received</td>\n",
       "      <td>24.883700</td>\n",
       "    </tr>\n",
       "    <tr>\n",
       "      <th>2</th>\n",
       "      <td>offer viewed</td>\n",
       "      <td>18.831516</td>\n",
       "    </tr>\n",
       "    <tr>\n",
       "      <th>3</th>\n",
       "      <td>transaction</td>\n",
       "      <td>45.330371</td>\n",
       "    </tr>\n",
       "  </tbody>\n",
       "</table>\n",
       "</div>"
      ],
      "text/plain": [
       "          response      count\n",
       "0  offer completed  10.954413\n",
       "1   offer received  24.883700\n",
       "2     offer viewed  18.831516\n",
       "3      transaction  45.330371"
      ]
     },
     "execution_count": 37,
     "metadata": {},
     "output_type": "execute_result"
    }
   ],
   "source": [
    "# how customer respond to offers--\n",
    "response = 100*transcript.groupby('event').size()/transcript.shape[0]\n",
    "response = response.reset_index()\n",
    "response.columns = ['response', 'count']\n",
    "response"
   ]
  },
  {
   "cell_type": "code",
   "execution_count": 38,
   "metadata": {},
   "outputs": [
    {
     "data": {
      "image/png": "[encoded data removed]",
      "text/plain": [
       "<matplotlib.figure.Figure at 0x7f6256b05358>"
      ]
     },
     "metadata": {
      "needs_background": "light"
     },
     "output_type": "display_data"
    }
   ],
   "source": [
    "# plot a bar graph for customer response to offers\n",
    "response.plot.bar(rot=15)\n",
    "plt.xlabel('response')\n",
    "plt.ylabel('percentage count')\n",
    "plt.title('Customer Response');"
   ]
  },
  {
   "cell_type": "code",
   "execution_count": 39,
   "metadata": {},
   "outputs": [],
   "source": [
    "def clean_transcript(transcript):\n",
    "    '''\n",
    "    INPUT:\n",
    "    transcript - the transcript dataframe \n",
    "    \n",
    "    OUTPUT:\n",
    "    New columns are created from the value column:\n",
    "    offer id , amount(money spent in \"transaction\")\n",
    "    New column money_gained : money gained from \"offer completed\"\n",
    "    Dropping value column\n",
    "    \n",
    "    '''\n",
    "   \n",
    "    # Functions to create offer_id and amount columns from the transcript table.\n",
    "    clean_tran = transcript[transcript['value'].apply(lambda x: True if ('offer id' in x) or ('offer_id' in x) or ('amount' in x)  else False)]\n",
    "    clean_tran['offer_id'] = clean_tran['value'].apply(lambda x: x['offer id'] if ('offer id' in x) else (x['offer_id'] if ('offer_id' in x)  else '0'))\n",
    "    clean_tran['amount'] = clean_tran['value'].apply(lambda x: x['amount'] if ('amount' in x) else 0)\n",
    "    clean_tran['money_cashback'] = clean_tran['value'].apply(lambda x: x.get('reward'))\n",
    "    \n",
    "    clean_tran.drop(columns=['value'], inplace=True)\n",
    "    \n",
    "    #replace nan\n",
    "    clean_tran.fillna(0 , inplace=True)\n",
    "    \n",
    "    return clean_tran"
   ]
  },
  {
   "cell_type": "code",
   "execution_count": 40,
   "metadata": {},
   "outputs": [],
   "source": [
    "clean_transcript = clean_transcript(transcript)"
   ]
  },
  {
   "cell_type": "code",
   "execution_count": 41,
   "metadata": {},
   "outputs": [
    {
     "data": {
      "text/plain": [
       "(306534, 6)"
      ]
     },
     "execution_count": 41,
     "metadata": {},
     "output_type": "execute_result"
    }
   ],
   "source": [
    "clean_transcript.shape"
   ]
  },
  {
   "cell_type": "code",
   "execution_count": 42,
   "metadata": {
    "scrolled": true
   },
   "outputs": [
    {
     "data": {
      "text/html": [
       "<div>\n",
       "<style scoped>\n",
       "    .dataframe tbody tr th:only-of-type {\n",
       "        vertical-align: middle;\n",
       "    }\n",
       "\n",
       "    .dataframe tbody tr th {\n",
       "        vertical-align: top;\n",
       "    }\n",
       "\n",
       "    .dataframe thead th {\n",
       "        text-align: right;\n",
       "    }\n",
       "</style>\n",
       "<table border=\"1\" class=\"dataframe\">\n",
       "  <thead>\n",
       "    <tr style=\"text-align: right;\">\n",
       "      <th></th>\n",
       "      <th>event</th>\n",
       "      <th>customer_id</th>\n",
       "      <th>time</th>\n",
       "      <th>offer_id</th>\n",
       "      <th>amount</th>\n",
       "      <th>money_cashback</th>\n",
       "    </tr>\n",
       "  </thead>\n",
       "  <tbody>\n",
       "    <tr>\n",
       "      <th>0</th>\n",
       "      <td>offer received</td>\n",
       "      <td>78afa995795e4d85b5d9ceeca43f5fef</td>\n",
       "      <td>0</td>\n",
       "      <td>9b98b8c7a33c4b65b9aebfe6a799e6d9</td>\n",
       "      <td>0.0</td>\n",
       "      <td>0.0</td>\n",
       "    </tr>\n",
       "    <tr>\n",
       "      <th>1</th>\n",
       "      <td>offer received</td>\n",
       "      <td>a03223e636434f42ac4c3df47e8bac43</td>\n",
       "      <td>0</td>\n",
       "      <td>0b1e1539f2cc45b7b9fa7c272da2e1d7</td>\n",
       "      <td>0.0</td>\n",
       "      <td>0.0</td>\n",
       "    </tr>\n",
       "    <tr>\n",
       "      <th>2</th>\n",
       "      <td>offer received</td>\n",
       "      <td>e2127556f4f64592b11af22de27a7932</td>\n",
       "      <td>0</td>\n",
       "      <td>2906b810c7d4411798c6938adc9daaa5</td>\n",
       "      <td>0.0</td>\n",
       "      <td>0.0</td>\n",
       "    </tr>\n",
       "    <tr>\n",
       "      <th>3</th>\n",
       "      <td>offer received</td>\n",
       "      <td>8ec6ce2a7e7949b1bf142def7d0e0586</td>\n",
       "      <td>0</td>\n",
       "      <td>fafdcd668e3743c1bb461111dcafc2a4</td>\n",
       "      <td>0.0</td>\n",
       "      <td>0.0</td>\n",
       "    </tr>\n",
       "    <tr>\n",
       "      <th>4</th>\n",
       "      <td>offer received</td>\n",
       "      <td>68617ca6246f4fbc85e91a2a49552598</td>\n",
       "      <td>0</td>\n",
       "      <td>4d5c57ea9a6940dd891ad53e9dbe8da0</td>\n",
       "      <td>0.0</td>\n",
       "      <td>0.0</td>\n",
       "    </tr>\n",
       "  </tbody>\n",
       "</table>\n",
       "</div>"
      ],
      "text/plain": [
       "            event                       customer_id  time  \\\n",
       "0  offer received  78afa995795e4d85b5d9ceeca43f5fef     0   \n",
       "1  offer received  a03223e636434f42ac4c3df47e8bac43     0   \n",
       "2  offer received  e2127556f4f64592b11af22de27a7932     0   \n",
       "3  offer received  8ec6ce2a7e7949b1bf142def7d0e0586     0   \n",
       "4  offer received  68617ca6246f4fbc85e91a2a49552598     0   \n",
       "\n",
       "                           offer_id  amount  money_cashback  \n",
       "0  9b98b8c7a33c4b65b9aebfe6a799e6d9     0.0             0.0  \n",
       "1  0b1e1539f2cc45b7b9fa7c272da2e1d7     0.0             0.0  \n",
       "2  2906b810c7d4411798c6938adc9daaa5     0.0             0.0  \n",
       "3  fafdcd668e3743c1bb461111dcafc2a4     0.0             0.0  \n",
       "4  4d5c57ea9a6940dd891ad53e9dbe8da0     0.0             0.0  "
      ]
     },
     "execution_count": 42,
     "metadata": {},
     "output_type": "execute_result"
    }
   ],
   "source": [
    "clean_transcript.head()"
   ]
  },
  {
   "cell_type": "code",
   "execution_count": 43,
   "metadata": {
    "scrolled": false
   },
   "outputs": [
    {
     "data": {
      "text/html": [
       "<div>\n",
       "<style scoped>\n",
       "    .dataframe tbody tr th:only-of-type {\n",
       "        vertical-align: middle;\n",
       "    }\n",
       "\n",
       "    .dataframe tbody tr th {\n",
       "        vertical-align: top;\n",
       "    }\n",
       "\n",
       "    .dataframe thead th {\n",
       "        text-align: right;\n",
       "    }\n",
       "</style>\n",
       "<table border=\"1\" class=\"dataframe\">\n",
       "  <thead>\n",
       "    <tr style=\"text-align: right;\">\n",
       "      <th></th>\n",
       "      <th>event</th>\n",
       "      <th>customer_id</th>\n",
       "      <th>time</th>\n",
       "      <th>offer_id</th>\n",
       "      <th>amount</th>\n",
       "      <th>money_cashback</th>\n",
       "    </tr>\n",
       "  </thead>\n",
       "  <tbody>\n",
       "    <tr>\n",
       "      <th>55972</th>\n",
       "      <td>offer received</td>\n",
       "      <td>0009655768c64bdeb2e877511632db8f</td>\n",
       "      <td>168</td>\n",
       "      <td>5a8bc65990b245e5a138643cd4eb9837</td>\n",
       "      <td>0.00</td>\n",
       "      <td>0.0</td>\n",
       "    </tr>\n",
       "    <tr>\n",
       "      <th>77705</th>\n",
       "      <td>offer viewed</td>\n",
       "      <td>0009655768c64bdeb2e877511632db8f</td>\n",
       "      <td>192</td>\n",
       "      <td>5a8bc65990b245e5a138643cd4eb9837</td>\n",
       "      <td>0.00</td>\n",
       "      <td>0.0</td>\n",
       "    </tr>\n",
       "    <tr>\n",
       "      <th>89291</th>\n",
       "      <td>transaction</td>\n",
       "      <td>0009655768c64bdeb2e877511632db8f</td>\n",
       "      <td>228</td>\n",
       "      <td>0</td>\n",
       "      <td>22.16</td>\n",
       "      <td>0.0</td>\n",
       "    </tr>\n",
       "    <tr>\n",
       "      <th>113605</th>\n",
       "      <td>offer received</td>\n",
       "      <td>0009655768c64bdeb2e877511632db8f</td>\n",
       "      <td>336</td>\n",
       "      <td>3f207df678b143eea3cee63160fa8bed</td>\n",
       "      <td>0.00</td>\n",
       "      <td>0.0</td>\n",
       "    </tr>\n",
       "    <tr>\n",
       "      <th>139992</th>\n",
       "      <td>offer viewed</td>\n",
       "      <td>0009655768c64bdeb2e877511632db8f</td>\n",
       "      <td>372</td>\n",
       "      <td>3f207df678b143eea3cee63160fa8bed</td>\n",
       "      <td>0.00</td>\n",
       "      <td>0.0</td>\n",
       "    </tr>\n",
       "    <tr>\n",
       "      <th>153401</th>\n",
       "      <td>offer received</td>\n",
       "      <td>0009655768c64bdeb2e877511632db8f</td>\n",
       "      <td>408</td>\n",
       "      <td>f19421c1d4aa40978ebb69ca19b0e20d</td>\n",
       "      <td>0.00</td>\n",
       "      <td>0.0</td>\n",
       "    </tr>\n",
       "    <tr>\n",
       "      <th>168412</th>\n",
       "      <td>transaction</td>\n",
       "      <td>0009655768c64bdeb2e877511632db8f</td>\n",
       "      <td>414</td>\n",
       "      <td>0</td>\n",
       "      <td>8.57</td>\n",
       "      <td>0.0</td>\n",
       "    </tr>\n",
       "    <tr>\n",
       "      <th>168413</th>\n",
       "      <td>offer completed</td>\n",
       "      <td>0009655768c64bdeb2e877511632db8f</td>\n",
       "      <td>414</td>\n",
       "      <td>f19421c1d4aa40978ebb69ca19b0e20d</td>\n",
       "      <td>0.00</td>\n",
       "      <td>5.0</td>\n",
       "    </tr>\n",
       "    <tr>\n",
       "      <th>187554</th>\n",
       "      <td>offer viewed</td>\n",
       "      <td>0009655768c64bdeb2e877511632db8f</td>\n",
       "      <td>456</td>\n",
       "      <td>f19421c1d4aa40978ebb69ca19b0e20d</td>\n",
       "      <td>0.00</td>\n",
       "      <td>0.0</td>\n",
       "    </tr>\n",
       "    <tr>\n",
       "      <th>204340</th>\n",
       "      <td>offer received</td>\n",
       "      <td>0009655768c64bdeb2e877511632db8f</td>\n",
       "      <td>504</td>\n",
       "      <td>fafdcd668e3743c1bb461111dcafc2a4</td>\n",
       "      <td>0.00</td>\n",
       "      <td>0.0</td>\n",
       "    </tr>\n",
       "    <tr>\n",
       "      <th>228422</th>\n",
       "      <td>transaction</td>\n",
       "      <td>0009655768c64bdeb2e877511632db8f</td>\n",
       "      <td>528</td>\n",
       "      <td>0</td>\n",
       "      <td>14.11</td>\n",
       "      <td>0.0</td>\n",
       "    </tr>\n",
       "    <tr>\n",
       "      <th>228423</th>\n",
       "      <td>offer completed</td>\n",
       "      <td>0009655768c64bdeb2e877511632db8f</td>\n",
       "      <td>528</td>\n",
       "      <td>fafdcd668e3743c1bb461111dcafc2a4</td>\n",
       "      <td>0.00</td>\n",
       "      <td>2.0</td>\n",
       "    </tr>\n",
       "    <tr>\n",
       "      <th>233413</th>\n",
       "      <td>offer viewed</td>\n",
       "      <td>0009655768c64bdeb2e877511632db8f</td>\n",
       "      <td>540</td>\n",
       "      <td>fafdcd668e3743c1bb461111dcafc2a4</td>\n",
       "      <td>0.00</td>\n",
       "      <td>0.0</td>\n",
       "    </tr>\n",
       "    <tr>\n",
       "      <th>237784</th>\n",
       "      <td>transaction</td>\n",
       "      <td>0009655768c64bdeb2e877511632db8f</td>\n",
       "      <td>552</td>\n",
       "      <td>0</td>\n",
       "      <td>13.56</td>\n",
       "      <td>0.0</td>\n",
       "    </tr>\n",
       "    <tr>\n",
       "      <th>247879</th>\n",
       "      <td>offer received</td>\n",
       "      <td>0009655768c64bdeb2e877511632db8f</td>\n",
       "      <td>576</td>\n",
       "      <td>2906b810c7d4411798c6938adc9daaa5</td>\n",
       "      <td>0.00</td>\n",
       "      <td>0.0</td>\n",
       "    </tr>\n",
       "    <tr>\n",
       "      <th>258883</th>\n",
       "      <td>transaction</td>\n",
       "      <td>0009655768c64bdeb2e877511632db8f</td>\n",
       "      <td>576</td>\n",
       "      <td>0</td>\n",
       "      <td>10.27</td>\n",
       "      <td>0.0</td>\n",
       "    </tr>\n",
       "    <tr>\n",
       "      <th>258884</th>\n",
       "      <td>offer completed</td>\n",
       "      <td>0009655768c64bdeb2e877511632db8f</td>\n",
       "      <td>576</td>\n",
       "      <td>2906b810c7d4411798c6938adc9daaa5</td>\n",
       "      <td>0.00</td>\n",
       "      <td>2.0</td>\n",
       "    </tr>\n",
       "    <tr>\n",
       "      <th>293497</th>\n",
       "      <td>transaction</td>\n",
       "      <td>0009655768c64bdeb2e877511632db8f</td>\n",
       "      <td>660</td>\n",
       "      <td>0</td>\n",
       "      <td>12.36</td>\n",
       "      <td>0.0</td>\n",
       "    </tr>\n",
       "    <tr>\n",
       "      <th>300930</th>\n",
       "      <td>transaction</td>\n",
       "      <td>0009655768c64bdeb2e877511632db8f</td>\n",
       "      <td>690</td>\n",
       "      <td>0</td>\n",
       "      <td>28.16</td>\n",
       "      <td>0.0</td>\n",
       "    </tr>\n",
       "    <tr>\n",
       "      <th>302205</th>\n",
       "      <td>transaction</td>\n",
       "      <td>0009655768c64bdeb2e877511632db8f</td>\n",
       "      <td>696</td>\n",
       "      <td>0</td>\n",
       "      <td>18.41</td>\n",
       "      <td>0.0</td>\n",
       "    </tr>\n",
       "  </tbody>\n",
       "</table>\n",
       "</div>"
      ],
      "text/plain": [
       "                  event                       customer_id  time  \\\n",
       "55972    offer received  0009655768c64bdeb2e877511632db8f   168   \n",
       "77705      offer viewed  0009655768c64bdeb2e877511632db8f   192   \n",
       "89291       transaction  0009655768c64bdeb2e877511632db8f   228   \n",
       "113605   offer received  0009655768c64bdeb2e877511632db8f   336   \n",
       "139992     offer viewed  0009655768c64bdeb2e877511632db8f   372   \n",
       "153401   offer received  0009655768c64bdeb2e877511632db8f   408   \n",
       "168412      transaction  0009655768c64bdeb2e877511632db8f   414   \n",
       "168413  offer completed  0009655768c64bdeb2e877511632db8f   414   \n",
       "187554     offer viewed  0009655768c64bdeb2e877511632db8f   456   \n",
       "204340   offer received  0009655768c64bdeb2e877511632db8f   504   \n",
       "228422      transaction  0009655768c64bdeb2e877511632db8f   528   \n",
       "228423  offer completed  0009655768c64bdeb2e877511632db8f   528   \n",
       "233413     offer viewed  0009655768c64bdeb2e877511632db8f   540   \n",
       "237784      transaction  0009655768c64bdeb2e877511632db8f   552   \n",
       "247879   offer received  0009655768c64bdeb2e877511632db8f   576   \n",
       "258883      transaction  0009655768c64bdeb2e877511632db8f   576   \n",
       "258884  offer completed  0009655768c64bdeb2e877511632db8f   576   \n",
       "293497      transaction  0009655768c64bdeb2e877511632db8f   660   \n",
       "300930      transaction  0009655768c64bdeb2e877511632db8f   690   \n",
       "302205      transaction  0009655768c64bdeb2e877511632db8f   696   \n",
       "\n",
       "                                offer_id  amount  money_cashback  \n",
       "55972   5a8bc65990b245e5a138643cd4eb9837    0.00             0.0  \n",
       "77705   5a8bc65990b245e5a138643cd4eb9837    0.00             0.0  \n",
       "89291                                  0   22.16             0.0  \n",
       "113605  3f207df678b143eea3cee63160fa8bed    0.00             0.0  \n",
       "139992  3f207df678b143eea3cee63160fa8bed    0.00             0.0  \n",
       "153401  f19421c1d4aa40978ebb69ca19b0e20d    0.00             0.0  \n",
       "168412                                 0    8.57             0.0  \n",
       "168413  f19421c1d4aa40978ebb69ca19b0e20d    0.00             5.0  \n",
       "187554  f19421c1d4aa40978ebb69ca19b0e20d    0.00             0.0  \n",
       "204340  fafdcd668e3743c1bb461111dcafc2a4    0.00             0.0  \n",
       "228422                                 0   14.11             0.0  \n",
       "228423  fafdcd668e3743c1bb461111dcafc2a4    0.00             2.0  \n",
       "233413  fafdcd668e3743c1bb461111dcafc2a4    0.00             0.0  \n",
       "237784                                 0   13.56             0.0  \n",
       "247879  2906b810c7d4411798c6938adc9daaa5    0.00             0.0  \n",
       "258883                                 0   10.27             0.0  \n",
       "258884  2906b810c7d4411798c6938adc9daaa5    0.00             2.0  \n",
       "293497                                 0   12.36             0.0  \n",
       "300930                                 0   28.16             0.0  \n",
       "302205                                 0   18.41             0.0  "
      ]
     },
     "execution_count": 43,
     "metadata": {},
     "output_type": "execute_result"
    }
   ],
   "source": [
    "#check\n",
    "clean_transcript[clean_transcript['customer_id']=='0009655768c64bdeb2e877511632db8f']"
   ]
  },
  {
   "cell_type": "markdown",
   "metadata": {},
   "source": [
    "# Extract offer_data\n",
    "\n",
    "We will make two dataframe from the clean_transcript data (306534 rows and 6 col) :\n",
    "1. 'transcation df' - which have customers who have made purchases without being influenced by the offers. As for them offer_id == 0 and beleive that these customers are not influenced by the offers. (138953 instances)\n",
    "\n",
    "2. 'offer df'- Here we have the set of customers who have recieved the offers and the will analyse the events that the customers have taken after they have recieved offers. We are interested in this set of data, as we will build a model later to understand how the customers have been influnced by an offer.(167581 instances)"
   ]
  },
  {
   "cell_type": "code",
   "execution_count": 44,
   "metadata": {},
   "outputs": [
    {
     "data": {
      "text/html": [
       "<div>\n",
       "<style scoped>\n",
       "    .dataframe tbody tr th:only-of-type {\n",
       "        vertical-align: middle;\n",
       "    }\n",
       "\n",
       "    .dataframe tbody tr th {\n",
       "        vertical-align: top;\n",
       "    }\n",
       "\n",
       "    .dataframe thead th {\n",
       "        text-align: right;\n",
       "    }\n",
       "</style>\n",
       "<table border=\"1\" class=\"dataframe\">\n",
       "  <thead>\n",
       "    <tr style=\"text-align: right;\">\n",
       "      <th></th>\n",
       "      <th>customer_id</th>\n",
       "      <th>time</th>\n",
       "      <th>amount</th>\n",
       "    </tr>\n",
       "  </thead>\n",
       "  <tbody>\n",
       "    <tr>\n",
       "      <th>12654</th>\n",
       "      <td>02c083884c7d45b39cc68e1314fec56c</td>\n",
       "      <td>0</td>\n",
       "      <td>0.83</td>\n",
       "    </tr>\n",
       "    <tr>\n",
       "      <th>12657</th>\n",
       "      <td>9fa9ae8f57894cc9a3b8a9bbe0fc1b2f</td>\n",
       "      <td>0</td>\n",
       "      <td>34.56</td>\n",
       "    </tr>\n",
       "    <tr>\n",
       "      <th>12659</th>\n",
       "      <td>54890f68699049c2a04d415abc25e717</td>\n",
       "      <td>0</td>\n",
       "      <td>13.23</td>\n",
       "    </tr>\n",
       "    <tr>\n",
       "      <th>12670</th>\n",
       "      <td>b2f1cd155b864803ad8334cdf13c4bd2</td>\n",
       "      <td>0</td>\n",
       "      <td>19.51</td>\n",
       "    </tr>\n",
       "    <tr>\n",
       "      <th>12671</th>\n",
       "      <td>fe97aa22dd3e48c8b143116a8403dd52</td>\n",
       "      <td>0</td>\n",
       "      <td>18.97</td>\n",
       "    </tr>\n",
       "  </tbody>\n",
       "</table>\n",
       "</div>"
      ],
      "text/plain": [
       "                            customer_id  time  amount\n",
       "12654  02c083884c7d45b39cc68e1314fec56c     0    0.83\n",
       "12657  9fa9ae8f57894cc9a3b8a9bbe0fc1b2f     0   34.56\n",
       "12659  54890f68699049c2a04d415abc25e717     0   13.23\n",
       "12670  b2f1cd155b864803ad8334cdf13c4bd2     0   19.51\n",
       "12671  fe97aa22dd3e48c8b143116a8403dd52     0   18.97"
      ]
     },
     "execution_count": 44,
     "metadata": {},
     "output_type": "execute_result"
    }
   ],
   "source": [
    "# extract transactions from transcript data\n",
    "transaction_df = clean_transcript[clean_transcript.event=='transaction'].copy()\n",
    "transaction_df.drop(columns=['offer_id', 'event', 'money_cashback'], inplace=True)\n",
    "transaction_df.head()\n",
    "\n"
   ]
  },
  {
   "cell_type": "code",
   "execution_count": 45,
   "metadata": {},
   "outputs": [
    {
     "data": {
      "text/plain": [
       "(138953, 3)"
      ]
     },
     "execution_count": 45,
     "metadata": {},
     "output_type": "execute_result"
    }
   ],
   "source": [
    "transaction_df.shape"
   ]
  },
  {
   "cell_type": "code",
   "execution_count": 46,
   "metadata": {},
   "outputs": [
    {
     "data": {
      "text/plain": [
       "16578"
      ]
     },
     "execution_count": 46,
     "metadata": {},
     "output_type": "execute_result"
    }
   ],
   "source": [
    "#number of customers who transact on starbucks without any influence of offers:\n",
    "transaction_df.customer_id.nunique()"
   ]
  },
  {
   "cell_type": "code",
   "execution_count": 47,
   "metadata": {},
   "outputs": [],
   "source": [
    "# extract offer-related from transcript data\n",
    "offer_df = clean_transcript[clean_transcript.event!='transaction'].copy()\n",
    "\n",
    "offer_df.drop(columns=['amount'], inplace=True)"
   ]
  },
  {
   "cell_type": "code",
   "execution_count": 48,
   "metadata": {},
   "outputs": [
    {
     "data": {
      "text/plain": [
       "(167581, 5)"
      ]
     },
     "execution_count": 48,
     "metadata": {},
     "output_type": "execute_result"
    }
   ],
   "source": [
    "offer_df.shape"
   ]
  },
  {
   "cell_type": "code",
   "execution_count": 49,
   "metadata": {},
   "outputs": [
    {
     "data": {
      "text/html": [
       "<div>\n",
       "<style scoped>\n",
       "    .dataframe tbody tr th:only-of-type {\n",
       "        vertical-align: middle;\n",
       "    }\n",
       "\n",
       "    .dataframe tbody tr th {\n",
       "        vertical-align: top;\n",
       "    }\n",
       "\n",
       "    .dataframe thead th {\n",
       "        text-align: right;\n",
       "    }\n",
       "</style>\n",
       "<table border=\"1\" class=\"dataframe\">\n",
       "  <thead>\n",
       "    <tr style=\"text-align: right;\">\n",
       "      <th></th>\n",
       "      <th>event</th>\n",
       "      <th>customer_id</th>\n",
       "      <th>time</th>\n",
       "      <th>offer_id</th>\n",
       "      <th>money_cashback</th>\n",
       "    </tr>\n",
       "  </thead>\n",
       "  <tbody>\n",
       "    <tr>\n",
       "      <th>0</th>\n",
       "      <td>offer received</td>\n",
       "      <td>78afa995795e4d85b5d9ceeca43f5fef</td>\n",
       "      <td>0</td>\n",
       "      <td>9b98b8c7a33c4b65b9aebfe6a799e6d9</td>\n",
       "      <td>0.0</td>\n",
       "    </tr>\n",
       "    <tr>\n",
       "      <th>1</th>\n",
       "      <td>offer received</td>\n",
       "      <td>a03223e636434f42ac4c3df47e8bac43</td>\n",
       "      <td>0</td>\n",
       "      <td>0b1e1539f2cc45b7b9fa7c272da2e1d7</td>\n",
       "      <td>0.0</td>\n",
       "    </tr>\n",
       "    <tr>\n",
       "      <th>2</th>\n",
       "      <td>offer received</td>\n",
       "      <td>e2127556f4f64592b11af22de27a7932</td>\n",
       "      <td>0</td>\n",
       "      <td>2906b810c7d4411798c6938adc9daaa5</td>\n",
       "      <td>0.0</td>\n",
       "    </tr>\n",
       "    <tr>\n",
       "      <th>3</th>\n",
       "      <td>offer received</td>\n",
       "      <td>8ec6ce2a7e7949b1bf142def7d0e0586</td>\n",
       "      <td>0</td>\n",
       "      <td>fafdcd668e3743c1bb461111dcafc2a4</td>\n",
       "      <td>0.0</td>\n",
       "    </tr>\n",
       "    <tr>\n",
       "      <th>4</th>\n",
       "      <td>offer received</td>\n",
       "      <td>68617ca6246f4fbc85e91a2a49552598</td>\n",
       "      <td>0</td>\n",
       "      <td>4d5c57ea9a6940dd891ad53e9dbe8da0</td>\n",
       "      <td>0.0</td>\n",
       "    </tr>\n",
       "  </tbody>\n",
       "</table>\n",
       "</div>"
      ],
      "text/plain": [
       "            event                       customer_id  time  \\\n",
       "0  offer received  78afa995795e4d85b5d9ceeca43f5fef     0   \n",
       "1  offer received  a03223e636434f42ac4c3df47e8bac43     0   \n",
       "2  offer received  e2127556f4f64592b11af22de27a7932     0   \n",
       "3  offer received  8ec6ce2a7e7949b1bf142def7d0e0586     0   \n",
       "4  offer received  68617ca6246f4fbc85e91a2a49552598     0   \n",
       "\n",
       "                           offer_id  money_cashback  \n",
       "0  9b98b8c7a33c4b65b9aebfe6a799e6d9             0.0  \n",
       "1  0b1e1539f2cc45b7b9fa7c272da2e1d7             0.0  \n",
       "2  2906b810c7d4411798c6938adc9daaa5             0.0  \n",
       "3  fafdcd668e3743c1bb461111dcafc2a4             0.0  \n",
       "4  4d5c57ea9a6940dd891ad53e9dbe8da0             0.0  "
      ]
     },
     "execution_count": 49,
     "metadata": {},
     "output_type": "execute_result"
    }
   ],
   "source": [
    "offer_df.head()"
   ]
  },
  {
   "cell_type": "code",
   "execution_count": 50,
   "metadata": {},
   "outputs": [
    {
     "data": {
      "text/plain": [
       "event\n",
       "offer completed    33579\n",
       "offer received     76277\n",
       "offer viewed       57725\n",
       "dtype: int64"
      ]
     },
     "execution_count": 50,
     "metadata": {},
     "output_type": "execute_result"
    }
   ],
   "source": [
    "offer_df.groupby('event').size()"
   ]
  },
  {
   "cell_type": "markdown",
   "metadata": {},
   "source": [
    "# Merge the offer_df, clean_portfolio and clean_profile data:"
   ]
  },
  {
   "cell_type": "code",
   "execution_count": 51,
   "metadata": {},
   "outputs": [],
   "source": [
    "# Merge portfolio and offer_df into a df and call it offer_port:\n",
    "offer_port = pd.merge(offer_df,portfolio, on=['offer_id'],how='left')"
   ]
  },
  {
   "cell_type": "code",
   "execution_count": 52,
   "metadata": {},
   "outputs": [
    {
     "data": {
      "text/html": [
       "<div>\n",
       "<style scoped>\n",
       "    .dataframe tbody tr th:only-of-type {\n",
       "        vertical-align: middle;\n",
       "    }\n",
       "\n",
       "    .dataframe tbody tr th {\n",
       "        vertical-align: top;\n",
       "    }\n",
       "\n",
       "    .dataframe thead th {\n",
       "        text-align: right;\n",
       "    }\n",
       "</style>\n",
       "<table border=\"1\" class=\"dataframe\">\n",
       "  <thead>\n",
       "    <tr style=\"text-align: right;\">\n",
       "      <th></th>\n",
       "      <th>event</th>\n",
       "      <th>customer_id</th>\n",
       "      <th>time</th>\n",
       "      <th>offer_id</th>\n",
       "      <th>money_cashback</th>\n",
       "      <th>channels</th>\n",
       "      <th>difficulty</th>\n",
       "      <th>duration</th>\n",
       "      <th>offer_type</th>\n",
       "      <th>reward</th>\n",
       "    </tr>\n",
       "  </thead>\n",
       "  <tbody>\n",
       "    <tr>\n",
       "      <th>0</th>\n",
       "      <td>offer received</td>\n",
       "      <td>78afa995795e4d85b5d9ceeca43f5fef</td>\n",
       "      <td>0</td>\n",
       "      <td>9b98b8c7a33c4b65b9aebfe6a799e6d9</td>\n",
       "      <td>0.0</td>\n",
       "      <td>[web, email, mobile]</td>\n",
       "      <td>5</td>\n",
       "      <td>7</td>\n",
       "      <td>bogo</td>\n",
       "      <td>5</td>\n",
       "    </tr>\n",
       "    <tr>\n",
       "      <th>1</th>\n",
       "      <td>offer received</td>\n",
       "      <td>a03223e636434f42ac4c3df47e8bac43</td>\n",
       "      <td>0</td>\n",
       "      <td>0b1e1539f2cc45b7b9fa7c272da2e1d7</td>\n",
       "      <td>0.0</td>\n",
       "      <td>[web, email]</td>\n",
       "      <td>20</td>\n",
       "      <td>10</td>\n",
       "      <td>discount</td>\n",
       "      <td>5</td>\n",
       "    </tr>\n",
       "    <tr>\n",
       "      <th>2</th>\n",
       "      <td>offer received</td>\n",
       "      <td>e2127556f4f64592b11af22de27a7932</td>\n",
       "      <td>0</td>\n",
       "      <td>2906b810c7d4411798c6938adc9daaa5</td>\n",
       "      <td>0.0</td>\n",
       "      <td>[web, email, mobile]</td>\n",
       "      <td>10</td>\n",
       "      <td>7</td>\n",
       "      <td>discount</td>\n",
       "      <td>2</td>\n",
       "    </tr>\n",
       "    <tr>\n",
       "      <th>3</th>\n",
       "      <td>offer received</td>\n",
       "      <td>8ec6ce2a7e7949b1bf142def7d0e0586</td>\n",
       "      <td>0</td>\n",
       "      <td>fafdcd668e3743c1bb461111dcafc2a4</td>\n",
       "      <td>0.0</td>\n",
       "      <td>[web, email, mobile, social]</td>\n",
       "      <td>10</td>\n",
       "      <td>10</td>\n",
       "      <td>discount</td>\n",
       "      <td>2</td>\n",
       "    </tr>\n",
       "    <tr>\n",
       "      <th>4</th>\n",
       "      <td>offer received</td>\n",
       "      <td>68617ca6246f4fbc85e91a2a49552598</td>\n",
       "      <td>0</td>\n",
       "      <td>4d5c57ea9a6940dd891ad53e9dbe8da0</td>\n",
       "      <td>0.0</td>\n",
       "      <td>[web, email, mobile, social]</td>\n",
       "      <td>10</td>\n",
       "      <td>5</td>\n",
       "      <td>bogo</td>\n",
       "      <td>10</td>\n",
       "    </tr>\n",
       "  </tbody>\n",
       "</table>\n",
       "</div>"
      ],
      "text/plain": [
       "            event                       customer_id  time  \\\n",
       "0  offer received  78afa995795e4d85b5d9ceeca43f5fef     0   \n",
       "1  offer received  a03223e636434f42ac4c3df47e8bac43     0   \n",
       "2  offer received  e2127556f4f64592b11af22de27a7932     0   \n",
       "3  offer received  8ec6ce2a7e7949b1bf142def7d0e0586     0   \n",
       "4  offer received  68617ca6246f4fbc85e91a2a49552598     0   \n",
       "\n",
       "                           offer_id  money_cashback  \\\n",
       "0  9b98b8c7a33c4b65b9aebfe6a799e6d9             0.0   \n",
       "1  0b1e1539f2cc45b7b9fa7c272da2e1d7             0.0   \n",
       "2  2906b810c7d4411798c6938adc9daaa5             0.0   \n",
       "3  fafdcd668e3743c1bb461111dcafc2a4             0.0   \n",
       "4  4d5c57ea9a6940dd891ad53e9dbe8da0             0.0   \n",
       "\n",
       "                       channels  difficulty  duration offer_type  reward  \n",
       "0          [web, email, mobile]           5         7       bogo       5  \n",
       "1                  [web, email]          20        10   discount       5  \n",
       "2          [web, email, mobile]          10         7   discount       2  \n",
       "3  [web, email, mobile, social]          10        10   discount       2  \n",
       "4  [web, email, mobile, social]          10         5       bogo      10  "
      ]
     },
     "execution_count": 52,
     "metadata": {},
     "output_type": "execute_result"
    }
   ],
   "source": [
    "offer_port.head()"
   ]
  },
  {
   "cell_type": "code",
   "execution_count": 53,
   "metadata": {},
   "outputs": [],
   "source": [
    "#merge offer_port with clean_profile df to get a final_df_2 df:\n",
    "final_df = pd.merge(offer_port, clean_profile, on='customer_id')"
   ]
  },
  {
   "cell_type": "code",
   "execution_count": 54,
   "metadata": {},
   "outputs": [
    {
     "data": {
      "text/plain": [
       "(146615, 16)"
      ]
     },
     "execution_count": 54,
     "metadata": {},
     "output_type": "execute_result"
    }
   ],
   "source": [
    "final_df.shape"
   ]
  },
  {
   "cell_type": "code",
   "execution_count": 55,
   "metadata": {},
   "outputs": [
    {
     "data": {
      "text/html": [
       "<div>\n",
       "<style scoped>\n",
       "    .dataframe tbody tr th:only-of-type {\n",
       "        vertical-align: middle;\n",
       "    }\n",
       "\n",
       "    .dataframe tbody tr th {\n",
       "        vertical-align: top;\n",
       "    }\n",
       "\n",
       "    .dataframe thead th {\n",
       "        text-align: right;\n",
       "    }\n",
       "</style>\n",
       "<table border=\"1\" class=\"dataframe\">\n",
       "  <thead>\n",
       "    <tr style=\"text-align: right;\">\n",
       "      <th></th>\n",
       "      <th>event</th>\n",
       "      <th>customer_id</th>\n",
       "      <th>time</th>\n",
       "      <th>offer_id</th>\n",
       "      <th>money_cashback</th>\n",
       "      <th>channels</th>\n",
       "      <th>difficulty</th>\n",
       "      <th>duration</th>\n",
       "      <th>offer_type</th>\n",
       "      <th>reward</th>\n",
       "      <th>age</th>\n",
       "      <th>gender</th>\n",
       "      <th>income</th>\n",
       "      <th>memberdays</th>\n",
       "      <th>start_year</th>\n",
       "      <th>start_month</th>\n",
       "    </tr>\n",
       "  </thead>\n",
       "  <tbody>\n",
       "    <tr>\n",
       "      <th>0</th>\n",
       "      <td>offer received</td>\n",
       "      <td>78afa995795e4d85b5d9ceeca43f5fef</td>\n",
       "      <td>0</td>\n",
       "      <td>9b98b8c7a33c4b65b9aebfe6a799e6d9</td>\n",
       "      <td>0.0</td>\n",
       "      <td>[web, email, mobile]</td>\n",
       "      <td>5</td>\n",
       "      <td>7</td>\n",
       "      <td>bogo</td>\n",
       "      <td>5</td>\n",
       "      <td>75.0</td>\n",
       "      <td>F</td>\n",
       "      <td>100000.0</td>\n",
       "      <td>1345</td>\n",
       "      <td>2017</td>\n",
       "      <td>5</td>\n",
       "    </tr>\n",
       "    <tr>\n",
       "      <th>1</th>\n",
       "      <td>offer viewed</td>\n",
       "      <td>78afa995795e4d85b5d9ceeca43f5fef</td>\n",
       "      <td>6</td>\n",
       "      <td>9b98b8c7a33c4b65b9aebfe6a799e6d9</td>\n",
       "      <td>0.0</td>\n",
       "      <td>[web, email, mobile]</td>\n",
       "      <td>5</td>\n",
       "      <td>7</td>\n",
       "      <td>bogo</td>\n",
       "      <td>5</td>\n",
       "      <td>75.0</td>\n",
       "      <td>F</td>\n",
       "      <td>100000.0</td>\n",
       "      <td>1345</td>\n",
       "      <td>2017</td>\n",
       "      <td>5</td>\n",
       "    </tr>\n",
       "    <tr>\n",
       "      <th>2</th>\n",
       "      <td>offer completed</td>\n",
       "      <td>78afa995795e4d85b5d9ceeca43f5fef</td>\n",
       "      <td>132</td>\n",
       "      <td>9b98b8c7a33c4b65b9aebfe6a799e6d9</td>\n",
       "      <td>5.0</td>\n",
       "      <td>[web, email, mobile]</td>\n",
       "      <td>5</td>\n",
       "      <td>7</td>\n",
       "      <td>bogo</td>\n",
       "      <td>5</td>\n",
       "      <td>75.0</td>\n",
       "      <td>F</td>\n",
       "      <td>100000.0</td>\n",
       "      <td>1345</td>\n",
       "      <td>2017</td>\n",
       "      <td>5</td>\n",
       "    </tr>\n",
       "    <tr>\n",
       "      <th>3</th>\n",
       "      <td>offer received</td>\n",
       "      <td>78afa995795e4d85b5d9ceeca43f5fef</td>\n",
       "      <td>168</td>\n",
       "      <td>5a8bc65990b245e5a138643cd4eb9837</td>\n",
       "      <td>0.0</td>\n",
       "      <td>[email, mobile, social]</td>\n",
       "      <td>0</td>\n",
       "      <td>3</td>\n",
       "      <td>informational</td>\n",
       "      <td>0</td>\n",
       "      <td>75.0</td>\n",
       "      <td>F</td>\n",
       "      <td>100000.0</td>\n",
       "      <td>1345</td>\n",
       "      <td>2017</td>\n",
       "      <td>5</td>\n",
       "    </tr>\n",
       "    <tr>\n",
       "      <th>4</th>\n",
       "      <td>offer viewed</td>\n",
       "      <td>78afa995795e4d85b5d9ceeca43f5fef</td>\n",
       "      <td>216</td>\n",
       "      <td>5a8bc65990b245e5a138643cd4eb9837</td>\n",
       "      <td>0.0</td>\n",
       "      <td>[email, mobile, social]</td>\n",
       "      <td>0</td>\n",
       "      <td>3</td>\n",
       "      <td>informational</td>\n",
       "      <td>0</td>\n",
       "      <td>75.0</td>\n",
       "      <td>F</td>\n",
       "      <td>100000.0</td>\n",
       "      <td>1345</td>\n",
       "      <td>2017</td>\n",
       "      <td>5</td>\n",
       "    </tr>\n",
       "  </tbody>\n",
       "</table>\n",
       "</div>"
      ],
      "text/plain": [
       "             event                       customer_id  time  \\\n",
       "0   offer received  78afa995795e4d85b5d9ceeca43f5fef     0   \n",
       "1     offer viewed  78afa995795e4d85b5d9ceeca43f5fef     6   \n",
       "2  offer completed  78afa995795e4d85b5d9ceeca43f5fef   132   \n",
       "3   offer received  78afa995795e4d85b5d9ceeca43f5fef   168   \n",
       "4     offer viewed  78afa995795e4d85b5d9ceeca43f5fef   216   \n",
       "\n",
       "                           offer_id  money_cashback                 channels  \\\n",
       "0  9b98b8c7a33c4b65b9aebfe6a799e6d9             0.0     [web, email, mobile]   \n",
       "1  9b98b8c7a33c4b65b9aebfe6a799e6d9             0.0     [web, email, mobile]   \n",
       "2  9b98b8c7a33c4b65b9aebfe6a799e6d9             5.0     [web, email, mobile]   \n",
       "3  5a8bc65990b245e5a138643cd4eb9837             0.0  [email, mobile, social]   \n",
       "4  5a8bc65990b245e5a138643cd4eb9837             0.0  [email, mobile, social]   \n",
       "\n",
       "   difficulty  duration     offer_type  reward   age gender    income  \\\n",
       "0           5         7           bogo       5  75.0      F  100000.0   \n",
       "1           5         7           bogo       5  75.0      F  100000.0   \n",
       "2           5         7           bogo       5  75.0      F  100000.0   \n",
       "3           0         3  informational       0  75.0      F  100000.0   \n",
       "4           0         3  informational       0  75.0      F  100000.0   \n",
       "\n",
       "   memberdays  start_year  start_month  \n",
       "0        1345        2017            5  \n",
       "1        1345        2017            5  \n",
       "2        1345        2017            5  \n",
       "3        1345        2017            5  \n",
       "4        1345        2017            5  "
      ]
     },
     "execution_count": 55,
     "metadata": {},
     "output_type": "execute_result"
    }
   ],
   "source": [
    "final_df.head()"
   ]
  },
  {
   "cell_type": "markdown",
   "metadata": {},
   "source": [
    "Q8 How does customers responds(event) to different typesof offers?"
   ]
  },
  {
   "cell_type": "code",
   "execution_count": 56,
   "metadata": {},
   "outputs": [],
   "source": [
    "offer_distribution = final_df.groupby(['offer_type','event']).size()\n",
    "offer_distribution = offer_distribution.reset_index()\n",
    "offer_distribution.columns = ['offer_type', 'event', 'count']"
   ]
  },
  {
   "cell_type": "code",
   "execution_count": 57,
   "metadata": {
    "scrolled": false
   },
   "outputs": [
    {
     "data": {
      "text/html": [
       "<div>\n",
       "<style scoped>\n",
       "    .dataframe tbody tr th:only-of-type {\n",
       "        vertical-align: middle;\n",
       "    }\n",
       "\n",
       "    .dataframe tbody tr th {\n",
       "        vertical-align: top;\n",
       "    }\n",
       "\n",
       "    .dataframe thead th {\n",
       "        text-align: right;\n",
       "    }\n",
       "</style>\n",
       "<table border=\"1\" class=\"dataframe\">\n",
       "  <thead>\n",
       "    <tr style=\"text-align: right;\">\n",
       "      <th></th>\n",
       "      <th>offer_type</th>\n",
       "      <th>event</th>\n",
       "      <th>count</th>\n",
       "    </tr>\n",
       "  </thead>\n",
       "  <tbody>\n",
       "    <tr>\n",
       "      <th>0</th>\n",
       "      <td>bogo</td>\n",
       "      <td>offer completed</td>\n",
       "      <td>15013</td>\n",
       "    </tr>\n",
       "    <tr>\n",
       "      <th>1</th>\n",
       "      <td>bogo</td>\n",
       "      <td>offer received</td>\n",
       "      <td>26183</td>\n",
       "    </tr>\n",
       "    <tr>\n",
       "      <th>2</th>\n",
       "      <td>bogo</td>\n",
       "      <td>offer viewed</td>\n",
       "      <td>21724</td>\n",
       "    </tr>\n",
       "    <tr>\n",
       "      <th>3</th>\n",
       "      <td>discount</td>\n",
       "      <td>offer completed</td>\n",
       "      <td>16930</td>\n",
       "    </tr>\n",
       "    <tr>\n",
       "      <th>4</th>\n",
       "      <td>discount</td>\n",
       "      <td>offer received</td>\n",
       "      <td>26297</td>\n",
       "    </tr>\n",
       "    <tr>\n",
       "      <th>5</th>\n",
       "      <td>discount</td>\n",
       "      <td>offer viewed</td>\n",
       "      <td>18164</td>\n",
       "    </tr>\n",
       "    <tr>\n",
       "      <th>6</th>\n",
       "      <td>informational</td>\n",
       "      <td>offer received</td>\n",
       "      <td>13105</td>\n",
       "    </tr>\n",
       "    <tr>\n",
       "      <th>7</th>\n",
       "      <td>informational</td>\n",
       "      <td>offer viewed</td>\n",
       "      <td>9199</td>\n",
       "    </tr>\n",
       "  </tbody>\n",
       "</table>\n",
       "</div>"
      ],
      "text/plain": [
       "      offer_type            event  count\n",
       "0           bogo  offer completed  15013\n",
       "1           bogo   offer received  26183\n",
       "2           bogo     offer viewed  21724\n",
       "3       discount  offer completed  16930\n",
       "4       discount   offer received  26297\n",
       "5       discount     offer viewed  18164\n",
       "6  informational   offer received  13105\n",
       "7  informational     offer viewed   9199"
      ]
     },
     "execution_count": 57,
     "metadata": {},
     "output_type": "execute_result"
    }
   ],
   "source": [
    "offer_distribution"
   ]
  },
  {
   "cell_type": "code",
   "execution_count": 58,
   "metadata": {},
   "outputs": [
    {
     "data": {
      "image/png": "[encoded data removed]",
      "text/plain": [
       "<matplotlib.figure.Figure at 0x7f6256a96b00>"
      ]
     },
     "metadata": {
      "needs_background": "light"
     },
     "output_type": "display_data"
    }
   ],
   "source": [
    "# plot offer_distribution\n",
    "plt.figure(figsize=(15, 7))\n",
    "sns.barplot(x='offer_type', y='count', hue='event', data=offer_distribution)\n",
    "plt.xlabel('offer_type')\n",
    "plt.ylabel('No of Profiles');"
   ]
  },
  {
   "cell_type": "markdown",
   "metadata": {},
   "source": [
    "The above analysis show:\n",
    "discount offera have a slightly better chance of getting completed."
   ]
  },
  {
   "cell_type": "code",
   "execution_count": 59,
   "metadata": {},
   "outputs": [
    {
     "data": {
      "text/html": [
       "<div>\n",
       "<style scoped>\n",
       "    .dataframe tbody tr th:only-of-type {\n",
       "        vertical-align: middle;\n",
       "    }\n",
       "\n",
       "    .dataframe tbody tr th {\n",
       "        vertical-align: top;\n",
       "    }\n",
       "\n",
       "    .dataframe thead th {\n",
       "        text-align: right;\n",
       "    }\n",
       "</style>\n",
       "<table border=\"1\" class=\"dataframe\">\n",
       "  <thead>\n",
       "    <tr style=\"text-align: right;\">\n",
       "      <th></th>\n",
       "      <th>offer_id</th>\n",
       "      <th>event</th>\n",
       "      <th>count</th>\n",
       "    </tr>\n",
       "  </thead>\n",
       "  <tbody>\n",
       "    <tr>\n",
       "      <th>0</th>\n",
       "      <td>0b1e1539f2cc45b7b9fa7c272da2e1d7</td>\n",
       "      <td>offer completed</td>\n",
       "      <td>3323</td>\n",
       "    </tr>\n",
       "    <tr>\n",
       "      <th>1</th>\n",
       "      <td>0b1e1539f2cc45b7b9fa7c272da2e1d7</td>\n",
       "      <td>offer received</td>\n",
       "      <td>6627</td>\n",
       "    </tr>\n",
       "    <tr>\n",
       "      <th>2</th>\n",
       "      <td>0b1e1539f2cc45b7b9fa7c272da2e1d7</td>\n",
       "      <td>offer viewed</td>\n",
       "      <td>2161</td>\n",
       "    </tr>\n",
       "    <tr>\n",
       "      <th>3</th>\n",
       "      <td>2298d6c36e964ae4a3e7e9706d1fb8c2</td>\n",
       "      <td>offer completed</td>\n",
       "      <td>4819</td>\n",
       "    </tr>\n",
       "    <tr>\n",
       "      <th>4</th>\n",
       "      <td>2298d6c36e964ae4a3e7e9706d1fb8c2</td>\n",
       "      <td>offer received</td>\n",
       "      <td>6563</td>\n",
       "    </tr>\n",
       "    <tr>\n",
       "      <th>5</th>\n",
       "      <td>2298d6c36e964ae4a3e7e9706d1fb8c2</td>\n",
       "      <td>offer viewed</td>\n",
       "      <td>6289</td>\n",
       "    </tr>\n",
       "    <tr>\n",
       "      <th>6</th>\n",
       "      <td>2906b810c7d4411798c6938adc9daaa5</td>\n",
       "      <td>offer completed</td>\n",
       "      <td>3851</td>\n",
       "    </tr>\n",
       "    <tr>\n",
       "      <th>7</th>\n",
       "      <td>2906b810c7d4411798c6938adc9daaa5</td>\n",
       "      <td>offer received</td>\n",
       "      <td>6543</td>\n",
       "    </tr>\n",
       "    <tr>\n",
       "      <th>8</th>\n",
       "      <td>2906b810c7d4411798c6938adc9daaa5</td>\n",
       "      <td>offer viewed</td>\n",
       "      <td>3395</td>\n",
       "    </tr>\n",
       "    <tr>\n",
       "      <th>9</th>\n",
       "      <td>3f207df678b143eea3cee63160fa8bed</td>\n",
       "      <td>offer received</td>\n",
       "      <td>6561</td>\n",
       "    </tr>\n",
       "    <tr>\n",
       "      <th>10</th>\n",
       "      <td>3f207df678b143eea3cee63160fa8bed</td>\n",
       "      <td>offer viewed</td>\n",
       "      <td>3417</td>\n",
       "    </tr>\n",
       "    <tr>\n",
       "      <th>11</th>\n",
       "      <td>4d5c57ea9a6940dd891ad53e9dbe8da0</td>\n",
       "      <td>offer completed</td>\n",
       "      <td>3265</td>\n",
       "    </tr>\n",
       "    <tr>\n",
       "      <th>12</th>\n",
       "      <td>4d5c57ea9a6940dd891ad53e9dbe8da0</td>\n",
       "      <td>offer received</td>\n",
       "      <td>6521</td>\n",
       "    </tr>\n",
       "    <tr>\n",
       "      <th>13</th>\n",
       "      <td>4d5c57ea9a6940dd891ad53e9dbe8da0</td>\n",
       "      <td>offer viewed</td>\n",
       "      <td>6258</td>\n",
       "    </tr>\n",
       "    <tr>\n",
       "      <th>14</th>\n",
       "      <td>5a8bc65990b245e5a138643cd4eb9837</td>\n",
       "      <td>offer received</td>\n",
       "      <td>6544</td>\n",
       "    </tr>\n",
       "    <tr>\n",
       "      <th>15</th>\n",
       "      <td>5a8bc65990b245e5a138643cd4eb9837</td>\n",
       "      <td>offer viewed</td>\n",
       "      <td>5782</td>\n",
       "    </tr>\n",
       "    <tr>\n",
       "      <th>16</th>\n",
       "      <td>9b98b8c7a33c4b65b9aebfe6a799e6d9</td>\n",
       "      <td>offer completed</td>\n",
       "      <td>4114</td>\n",
       "    </tr>\n",
       "    <tr>\n",
       "      <th>17</th>\n",
       "      <td>9b98b8c7a33c4b65b9aebfe6a799e6d9</td>\n",
       "      <td>offer received</td>\n",
       "      <td>6584</td>\n",
       "    </tr>\n",
       "    <tr>\n",
       "      <th>18</th>\n",
       "      <td>9b98b8c7a33c4b65b9aebfe6a799e6d9</td>\n",
       "      <td>offer viewed</td>\n",
       "      <td>3423</td>\n",
       "    </tr>\n",
       "    <tr>\n",
       "      <th>19</th>\n",
       "      <td>ae264e3637204a6fb9bb56bc8210ddfd</td>\n",
       "      <td>offer completed</td>\n",
       "      <td>3598</td>\n",
       "    </tr>\n",
       "    <tr>\n",
       "      <th>20</th>\n",
       "      <td>ae264e3637204a6fb9bb56bc8210ddfd</td>\n",
       "      <td>offer received</td>\n",
       "      <td>6590</td>\n",
       "    </tr>\n",
       "    <tr>\n",
       "      <th>21</th>\n",
       "      <td>ae264e3637204a6fb9bb56bc8210ddfd</td>\n",
       "      <td>offer viewed</td>\n",
       "      <td>5818</td>\n",
       "    </tr>\n",
       "    <tr>\n",
       "      <th>22</th>\n",
       "      <td>f19421c1d4aa40978ebb69ca19b0e20d</td>\n",
       "      <td>offer completed</td>\n",
       "      <td>4036</td>\n",
       "    </tr>\n",
       "    <tr>\n",
       "      <th>23</th>\n",
       "      <td>f19421c1d4aa40978ebb69ca19b0e20d</td>\n",
       "      <td>offer received</td>\n",
       "      <td>6488</td>\n",
       "    </tr>\n",
       "    <tr>\n",
       "      <th>24</th>\n",
       "      <td>f19421c1d4aa40978ebb69ca19b0e20d</td>\n",
       "      <td>offer viewed</td>\n",
       "      <td>6225</td>\n",
       "    </tr>\n",
       "    <tr>\n",
       "      <th>25</th>\n",
       "      <td>fafdcd668e3743c1bb461111dcafc2a4</td>\n",
       "      <td>offer completed</td>\n",
       "      <td>4937</td>\n",
       "    </tr>\n",
       "    <tr>\n",
       "      <th>26</th>\n",
       "      <td>fafdcd668e3743c1bb461111dcafc2a4</td>\n",
       "      <td>offer received</td>\n",
       "      <td>6564</td>\n",
       "    </tr>\n",
       "    <tr>\n",
       "      <th>27</th>\n",
       "      <td>fafdcd668e3743c1bb461111dcafc2a4</td>\n",
       "      <td>offer viewed</td>\n",
       "      <td>6319</td>\n",
       "    </tr>\n",
       "  </tbody>\n",
       "</table>\n",
       "</div>"
      ],
      "text/plain": [
       "                            offer_id            event  count\n",
       "0   0b1e1539f2cc45b7b9fa7c272da2e1d7  offer completed   3323\n",
       "1   0b1e1539f2cc45b7b9fa7c272da2e1d7   offer received   6627\n",
       "2   0b1e1539f2cc45b7b9fa7c272da2e1d7     offer viewed   2161\n",
       "3   2298d6c36e964ae4a3e7e9706d1fb8c2  offer completed   4819\n",
       "4   2298d6c36e964ae4a3e7e9706d1fb8c2   offer received   6563\n",
       "5   2298d6c36e964ae4a3e7e9706d1fb8c2     offer viewed   6289\n",
       "6   2906b810c7d4411798c6938adc9daaa5  offer completed   3851\n",
       "7   2906b810c7d4411798c6938adc9daaa5   offer received   6543\n",
       "8   2906b810c7d4411798c6938adc9daaa5     offer viewed   3395\n",
       "9   3f207df678b143eea3cee63160fa8bed   offer received   6561\n",
       "10  3f207df678b143eea3cee63160fa8bed     offer viewed   3417\n",
       "11  4d5c57ea9a6940dd891ad53e9dbe8da0  offer completed   3265\n",
       "12  4d5c57ea9a6940dd891ad53e9dbe8da0   offer received   6521\n",
       "13  4d5c57ea9a6940dd891ad53e9dbe8da0     offer viewed   6258\n",
       "14  5a8bc65990b245e5a138643cd4eb9837   offer received   6544\n",
       "15  5a8bc65990b245e5a138643cd4eb9837     offer viewed   5782\n",
       "16  9b98b8c7a33c4b65b9aebfe6a799e6d9  offer completed   4114\n",
       "17  9b98b8c7a33c4b65b9aebfe6a799e6d9   offer received   6584\n",
       "18  9b98b8c7a33c4b65b9aebfe6a799e6d9     offer viewed   3423\n",
       "19  ae264e3637204a6fb9bb56bc8210ddfd  offer completed   3598\n",
       "20  ae264e3637204a6fb9bb56bc8210ddfd   offer received   6590\n",
       "21  ae264e3637204a6fb9bb56bc8210ddfd     offer viewed   5818\n",
       "22  f19421c1d4aa40978ebb69ca19b0e20d  offer completed   4036\n",
       "23  f19421c1d4aa40978ebb69ca19b0e20d   offer received   6488\n",
       "24  f19421c1d4aa40978ebb69ca19b0e20d     offer viewed   6225\n",
       "25  fafdcd668e3743c1bb461111dcafc2a4  offer completed   4937\n",
       "26  fafdcd668e3743c1bb461111dcafc2a4   offer received   6564\n",
       "27  fafdcd668e3743c1bb461111dcafc2a4     offer viewed   6319"
      ]
     },
     "execution_count": 59,
     "metadata": {},
     "output_type": "execute_result"
    }
   ],
   "source": [
    "offer_ids = final_df.groupby(['offer_id','event']).size()\n",
    "offer_ids = offer_ids.reset_index()\n",
    "offer_ids.columns = ['offer_id', 'event', 'count']\n",
    "offer_ids"
   ]
  },
  {
   "cell_type": "code",
   "execution_count": 60,
   "metadata": {
    "scrolled": false
   },
   "outputs": [
    {
     "data": {
      "image/png": "[encoded data removed]",
      "text/plain": [
       "<matplotlib.figure.Figure at 0x7f6256a9d668>"
      ]
     },
     "metadata": {
      "needs_background": "light"
     },
     "output_type": "display_data"
    }
   ],
   "source": [
    "plt.figure(figsize=(15, 10))\n",
    "sns.barplot(x='count', y='offer_id', hue='event', data=offer_ids)\n",
    "plt.title('How customers interscts with different offers')\n",
    "plt.ylabel('Offer_id')\n",
    "plt.xlabel('number of profiles')\n",
    "\n",
    "plt.show();"
   ]
  },
  {
   "cell_type": "markdown",
   "metadata": {},
   "source": [
    "plot shows:\n",
    "1.all the offers have been equally distributed in the customer pool.(have similar offer-recieved count)\n"
   ]
  },
  {
   "cell_type": "markdown",
   "metadata": {},
   "source": [
    "Q9.How male and female respond to any offer?\n",
    "a look at the distribution of gender in event and offer type."
   ]
  },
  {
   "cell_type": "code",
   "execution_count": 61,
   "metadata": {
    "scrolled": true
   },
   "outputs": [
    {
     "data": {
      "text/plain": [
       "<matplotlib.legend.Legend at 0x7f62569ec630>"
      ]
     },
     "execution_count": 61,
     "metadata": {},
     "output_type": "execute_result"
    },
    {
     "data": {
      "image/png": "[encoded data removed]",
      "text/plain": [
       "<matplotlib.figure.Figure at 0x7f62569c4198>"
      ]
     },
     "metadata": {
      "needs_background": "light"
     },
     "output_type": "display_data"
    }
   ],
   "source": [
    "# gender distribution in events\n",
    "plt.figure(figsize=(15, 7))\n",
    "sns.countplot(x= \"event\", hue= \"gender\", data=final_df)\n",
    "sns.set(style=\"darkgrid\")\n",
    "plt.title('Gender distribution in events')\n",
    "plt.ylabel('Count')\n",
    "plt.xlabel('Event')\n",
    "plt.legend(title='Gender')"
   ]
  },
  {
   "cell_type": "code",
   "execution_count": 62,
   "metadata": {
    "scrolled": true
   },
   "outputs": [
    {
     "data": {
      "text/plain": [
       "<matplotlib.legend.Legend at 0x7f6256995ef0>"
      ]
     },
     "execution_count": 62,
     "metadata": {},
     "output_type": "execute_result"
    },
    {
     "data": {
      "image/png": "[encoded data removed]",
      "text/plain": [
       "<matplotlib.figure.Figure at 0x7f6256aaeb00>"
      ]
     },
     "metadata": {},
     "output_type": "display_data"
    }
   ],
   "source": [
    "# gender distributio in offer type:\n",
    "plt.figure(figsize=(15, 7))\n",
    "sns.countplot(x= \"offer_type\", hue= \"gender\", data=final_df)\n",
    "sns.set(style=\"darkgrid\")\n",
    "plt.title('Gender distribution in offer types')\n",
    "plt.ylabel('Count')\n",
    "plt.xlabel('Offer Type')\n",
    "plt.legend(title='Gender')\n",
    "\n"
   ]
  },
  {
   "cell_type": "markdown",
   "metadata": {},
   "source": [
    "plot shows that there is no significant difference in the distribution of types of offers across the gender."
   ]
  },
  {
   "cell_type": "markdown",
   "metadata": {},
   "source": [
    "# Data Preprocessing:\n"
   ]
  },
  {
   "cell_type": "code",
   "execution_count": 63,
   "metadata": {},
   "outputs": [],
   "source": [
    "final = final_df.copy()\n"
   ]
  },
  {
   "cell_type": "code",
   "execution_count": 64,
   "metadata": {},
   "outputs": [
    {
     "data": {
      "text/plain": [
       "(146615, 16)"
      ]
     },
     "execution_count": 64,
     "metadata": {},
     "output_type": "execute_result"
    }
   ],
   "source": [
    "final.shape"
   ]
  },
  {
   "cell_type": "code",
   "execution_count": 65,
   "metadata": {},
   "outputs": [
    {
     "data": {
      "text/html": [
       "<div>\n",
       "<style scoped>\n",
       "    .dataframe tbody tr th:only-of-type {\n",
       "        vertical-align: middle;\n",
       "    }\n",
       "\n",
       "    .dataframe tbody tr th {\n",
       "        vertical-align: top;\n",
       "    }\n",
       "\n",
       "    .dataframe thead th {\n",
       "        text-align: right;\n",
       "    }\n",
       "</style>\n",
       "<table border=\"1\" class=\"dataframe\">\n",
       "  <thead>\n",
       "    <tr style=\"text-align: right;\">\n",
       "      <th></th>\n",
       "      <th>time</th>\n",
       "      <th>money_cashback</th>\n",
       "      <th>difficulty</th>\n",
       "      <th>duration</th>\n",
       "      <th>reward</th>\n",
       "      <th>age</th>\n",
       "      <th>income</th>\n",
       "      <th>memberdays</th>\n",
       "      <th>start_year</th>\n",
       "      <th>start_month</th>\n",
       "    </tr>\n",
       "  </thead>\n",
       "  <tbody>\n",
       "    <tr>\n",
       "      <th>time</th>\n",
       "      <td>1.000000</td>\n",
       "      <td>0.095012</td>\n",
       "      <td>0.023153</td>\n",
       "      <td>0.025793</td>\n",
       "      <td>0.005491</td>\n",
       "      <td>0.006262</td>\n",
       "      <td>0.004360</td>\n",
       "      <td>0.005459</td>\n",
       "      <td>-0.006465</td>\n",
       "      <td>0.004827</td>\n",
       "    </tr>\n",
       "    <tr>\n",
       "      <th>money_cashback</th>\n",
       "      <td>0.095012</td>\n",
       "      <td>1.000000</td>\n",
       "      <td>0.139399</td>\n",
       "      <td>0.043203</td>\n",
       "      <td>0.288016</td>\n",
       "      <td>0.034679</td>\n",
       "      <td>0.081668</td>\n",
       "      <td>0.049067</td>\n",
       "      <td>-0.049031</td>\n",
       "      <td>0.007961</td>\n",
       "    </tr>\n",
       "    <tr>\n",
       "      <th>difficulty</th>\n",
       "      <td>0.023153</td>\n",
       "      <td>0.139399</td>\n",
       "      <td>1.000000</td>\n",
       "      <td>0.766392</td>\n",
       "      <td>0.421203</td>\n",
       "      <td>0.010461</td>\n",
       "      <td>0.026718</td>\n",
       "      <td>0.008618</td>\n",
       "      <td>-0.007584</td>\n",
       "      <td>-0.003182</td>\n",
       "    </tr>\n",
       "    <tr>\n",
       "      <th>duration</th>\n",
       "      <td>0.025793</td>\n",
       "      <td>0.043203</td>\n",
       "      <td>0.766392</td>\n",
       "      <td>1.000000</td>\n",
       "      <td>0.042469</td>\n",
       "      <td>0.007246</td>\n",
       "      <td>0.015635</td>\n",
       "      <td>0.014028</td>\n",
       "      <td>-0.012842</td>\n",
       "      <td>-0.002456</td>\n",
       "    </tr>\n",
       "    <tr>\n",
       "      <th>reward</th>\n",
       "      <td>0.005491</td>\n",
       "      <td>0.288016</td>\n",
       "      <td>0.421203</td>\n",
       "      <td>0.042469</td>\n",
       "      <td>1.000000</td>\n",
       "      <td>0.000821</td>\n",
       "      <td>0.014839</td>\n",
       "      <td>-0.000041</td>\n",
       "      <td>0.000372</td>\n",
       "      <td>-0.001754</td>\n",
       "    </tr>\n",
       "    <tr>\n",
       "      <th>age</th>\n",
       "      <td>0.006262</td>\n",
       "      <td>0.034679</td>\n",
       "      <td>0.010461</td>\n",
       "      <td>0.007246</td>\n",
       "      <td>0.000821</td>\n",
       "      <td>1.000000</td>\n",
       "      <td>0.306631</td>\n",
       "      <td>0.008214</td>\n",
       "      <td>-0.008831</td>\n",
       "      <td>0.004443</td>\n",
       "    </tr>\n",
       "    <tr>\n",
       "      <th>income</th>\n",
       "      <td>0.004360</td>\n",
       "      <td>0.081668</td>\n",
       "      <td>0.026718</td>\n",
       "      <td>0.015635</td>\n",
       "      <td>0.014839</td>\n",
       "      <td>0.306631</td>\n",
       "      <td>1.000000</td>\n",
       "      <td>0.017689</td>\n",
       "      <td>-0.021021</td>\n",
       "      <td>0.016443</td>\n",
       "    </tr>\n",
       "    <tr>\n",
       "      <th>memberdays</th>\n",
       "      <td>0.005459</td>\n",
       "      <td>0.049067</td>\n",
       "      <td>0.008618</td>\n",
       "      <td>0.014028</td>\n",
       "      <td>-0.000041</td>\n",
       "      <td>0.008214</td>\n",
       "      <td>0.017689</td>\n",
       "      <td>1.000000</td>\n",
       "      <td>-0.969222</td>\n",
       "      <td>0.041632</td>\n",
       "    </tr>\n",
       "    <tr>\n",
       "      <th>start_year</th>\n",
       "      <td>-0.006465</td>\n",
       "      <td>-0.049031</td>\n",
       "      <td>-0.007584</td>\n",
       "      <td>-0.012842</td>\n",
       "      <td>0.000372</td>\n",
       "      <td>-0.008831</td>\n",
       "      <td>-0.021021</td>\n",
       "      <td>-0.969222</td>\n",
       "      <td>1.000000</td>\n",
       "      <td>-0.285500</td>\n",
       "    </tr>\n",
       "    <tr>\n",
       "      <th>start_month</th>\n",
       "      <td>0.004827</td>\n",
       "      <td>0.007961</td>\n",
       "      <td>-0.003182</td>\n",
       "      <td>-0.002456</td>\n",
       "      <td>-0.001754</td>\n",
       "      <td>0.004443</td>\n",
       "      <td>0.016443</td>\n",
       "      <td>0.041632</td>\n",
       "      <td>-0.285500</td>\n",
       "      <td>1.000000</td>\n",
       "    </tr>\n",
       "  </tbody>\n",
       "</table>\n",
       "</div>"
      ],
      "text/plain": [
       "                    time  money_cashback  difficulty  duration    reward  \\\n",
       "time            1.000000        0.095012    0.023153  0.025793  0.005491   \n",
       "money_cashback  0.095012        1.000000    0.139399  0.043203  0.288016   \n",
       "difficulty      0.023153        0.139399    1.000000  0.766392  0.421203   \n",
       "duration        0.025793        0.043203    0.766392  1.000000  0.042469   \n",
       "reward          0.005491        0.288016    0.421203  0.042469  1.000000   \n",
       "age             0.006262        0.034679    0.010461  0.007246  0.000821   \n",
       "income          0.004360        0.081668    0.026718  0.015635  0.014839   \n",
       "memberdays      0.005459        0.049067    0.008618  0.014028 -0.000041   \n",
       "start_year     -0.006465       -0.049031   -0.007584 -0.012842  0.000372   \n",
       "start_month     0.004827        0.007961   -0.003182 -0.002456 -0.001754   \n",
       "\n",
       "                     age    income  memberdays  start_year  start_month  \n",
       "time            0.006262  0.004360    0.005459   -0.006465     0.004827  \n",
       "money_cashback  0.034679  0.081668    0.049067   -0.049031     0.007961  \n",
       "difficulty      0.010461  0.026718    0.008618   -0.007584    -0.003182  \n",
       "duration        0.007246  0.015635    0.014028   -0.012842    -0.002456  \n",
       "reward          0.000821  0.014839   -0.000041    0.000372    -0.001754  \n",
       "age             1.000000  0.306631    0.008214   -0.008831     0.004443  \n",
       "income          0.306631  1.000000    0.017689   -0.021021     0.016443  \n",
       "memberdays      0.008214  0.017689    1.000000   -0.969222     0.041632  \n",
       "start_year     -0.008831 -0.021021   -0.969222    1.000000    -0.285500  \n",
       "start_month     0.004443  0.016443    0.041632   -0.285500     1.000000  "
      ]
     },
     "execution_count": 65,
     "metadata": {},
     "output_type": "execute_result"
    }
   ],
   "source": [
    "#correletion matrix to find out which ctaegorical varables are not independent varibles:\n",
    "\n",
    "corr = final.corr()\n",
    "corr"
   ]
  },
  {
   "cell_type": "code",
   "execution_count": 66,
   "metadata": {
    "scrolled": true
   },
   "outputs": [
    {
     "data": {
      "text/html": [
       "<style  type=\"text/css\" >\n",
       "    #T_bd84aa2a_55bf_11eb_898d_0242ac120002row0_col0 {\n",
       "            background-color:  #b40426;\n",
       "        }    #T_bd84aa2a_55bf_11eb_898d_0242ac120002row0_col1 {\n",
       "            background-color:  #6687ed;\n",
       "        }    #T_bd84aa2a_55bf_11eb_898d_0242ac120002row0_col2 {\n",
       "            background-color:  #4358cb;\n",
       "        }    #T_bd84aa2a_55bf_11eb_898d_0242ac120002row0_col3 {\n",
       "            background-color:  #455cce;\n",
       "        }    #T_bd84aa2a_55bf_11eb_898d_0242ac120002row0_col4 {\n",
       "            background-color:  #3c4ec2;\n",
       "        }    #T_bd84aa2a_55bf_11eb_898d_0242ac120002row0_col5 {\n",
       "            background-color:  #3e51c5;\n",
       "        }    #T_bd84aa2a_55bf_11eb_898d_0242ac120002row0_col6 {\n",
       "            background-color:  #4257c9;\n",
       "        }    #T_bd84aa2a_55bf_11eb_898d_0242ac120002row0_col7 {\n",
       "            background-color:  #dbdcde;\n",
       "        }    #T_bd84aa2a_55bf_11eb_898d_0242ac120002row0_col8 {\n",
       "            background-color:  #dadce0;\n",
       "        }    #T_bd84aa2a_55bf_11eb_898d_0242ac120002row0_col9 {\n",
       "            background-color:  #84a7fc;\n",
       "        }    #T_bd84aa2a_55bf_11eb_898d_0242ac120002row1_col0 {\n",
       "            background-color:  #5977e3;\n",
       "        }    #T_bd84aa2a_55bf_11eb_898d_0242ac120002row1_col1 {\n",
       "            background-color:  #b40426;\n",
       "        }    #T_bd84aa2a_55bf_11eb_898d_0242ac120002row1_col2 {\n",
       "            background-color:  #688aef;\n",
       "        }    #T_bd84aa2a_55bf_11eb_898d_0242ac120002row1_col3 {\n",
       "            background-color:  #4b64d5;\n",
       "        }    #T_bd84aa2a_55bf_11eb_898d_0242ac120002row1_col4 {\n",
       "            background-color:  #9bbcff;\n",
       "        }    #T_bd84aa2a_55bf_11eb_898d_0242ac120002row1_col5 {\n",
       "            background-color:  #485fd1;\n",
       "        }    #T_bd84aa2a_55bf_11eb_898d_0242ac120002row1_col6 {\n",
       "            background-color:  #5977e3;\n",
       "        }    #T_bd84aa2a_55bf_11eb_898d_0242ac120002row1_col7 {\n",
       "            background-color:  #e1dad6;\n",
       "        }    #T_bd84aa2a_55bf_11eb_898d_0242ac120002row1_col8 {\n",
       "            background-color:  #d4dbe6;\n",
       "        }    #T_bd84aa2a_55bf_11eb_898d_0242ac120002row1_col9 {\n",
       "            background-color:  #85a8fc;\n",
       "        }    #T_bd84aa2a_55bf_11eb_898d_0242ac120002row2_col0 {\n",
       "            background-color:  #4358cb;\n",
       "        }    #T_bd84aa2a_55bf_11eb_898d_0242ac120002row2_col1 {\n",
       "            background-color:  #7396f5;\n",
       "        }    #T_bd84aa2a_55bf_11eb_898d_0242ac120002row2_col2 {\n",
       "            background-color:  #b40426;\n",
       "        }    #T_bd84aa2a_55bf_11eb_898d_0242ac120002row2_col3 {\n",
       "            background-color:  #f29274;\n",
       "        }    #T_bd84aa2a_55bf_11eb_898d_0242ac120002row2_col4 {\n",
       "            background-color:  #c7d7f0;\n",
       "        }    #T_bd84aa2a_55bf_11eb_898d_0242ac120002row2_col5 {\n",
       "            background-color:  #3f53c6;\n",
       "        }    #T_bd84aa2a_55bf_11eb_898d_0242ac120002row2_col6 {\n",
       "            background-color:  #485fd1;\n",
       "        }    #T_bd84aa2a_55bf_11eb_898d_0242ac120002row2_col7 {\n",
       "            background-color:  #dcdddd;\n",
       "        }    #T_bd84aa2a_55bf_11eb_898d_0242ac120002row2_col8 {\n",
       "            background-color:  #dadce0;\n",
       "        }    #T_bd84aa2a_55bf_11eb_898d_0242ac120002row2_col9 {\n",
       "            background-color:  #82a6fb;\n",
       "        }    #T_bd84aa2a_55bf_11eb_898d_0242ac120002row3_col0 {\n",
       "            background-color:  #445acc;\n",
       "        }    #T_bd84aa2a_55bf_11eb_898d_0242ac120002row3_col1 {\n",
       "            background-color:  #5572df;\n",
       "        }    #T_bd84aa2a_55bf_11eb_898d_0242ac120002row3_col2 {\n",
       "            background-color:  #f29274;\n",
       "        }    #T_bd84aa2a_55bf_11eb_898d_0242ac120002row3_col3 {\n",
       "            background-color:  #b40426;\n",
       "        }    #T_bd84aa2a_55bf_11eb_898d_0242ac120002row3_col4 {\n",
       "            background-color:  #485fd1;\n",
       "        }    #T_bd84aa2a_55bf_11eb_898d_0242ac120002row3_col5 {\n",
       "            background-color:  #3f53c6;\n",
       "        }    #T_bd84aa2a_55bf_11eb_898d_0242ac120002row3_col6 {\n",
       "            background-color:  #455cce;\n",
       "        }    #T_bd84aa2a_55bf_11eb_898d_0242ac120002row3_col7 {\n",
       "            background-color:  #dcdddd;\n",
       "        }    #T_bd84aa2a_55bf_11eb_898d_0242ac120002row3_col8 {\n",
       "            background-color:  #d9dce1;\n",
       "        }    #T_bd84aa2a_55bf_11eb_898d_0242ac120002row3_col9 {\n",
       "            background-color:  #82a6fb;\n",
       "        }    #T_bd84aa2a_55bf_11eb_898d_0242ac120002row4_col0 {\n",
       "            background-color:  #3e51c5;\n",
       "        }    #T_bd84aa2a_55bf_11eb_898d_0242ac120002row4_col1 {\n",
       "            background-color:  #a6c4fe;\n",
       "        }    #T_bd84aa2a_55bf_11eb_898d_0242ac120002row4_col2 {\n",
       "            background-color:  #c7d7f0;\n",
       "        }    #T_bd84aa2a_55bf_11eb_898d_0242ac120002row4_col3 {\n",
       "            background-color:  #4a63d3;\n",
       "        }    #T_bd84aa2a_55bf_11eb_898d_0242ac120002row4_col4 {\n",
       "            background-color:  #b40426;\n",
       "        }    #T_bd84aa2a_55bf_11eb_898d_0242ac120002row4_col5 {\n",
       "            background-color:  #3d50c3;\n",
       "        }    #T_bd84aa2a_55bf_11eb_898d_0242ac120002row4_col6 {\n",
       "            background-color:  #445acc;\n",
       "        }    #T_bd84aa2a_55bf_11eb_898d_0242ac120002row4_col7 {\n",
       "            background-color:  #dadce0;\n",
       "        }    #T_bd84aa2a_55bf_11eb_898d_0242ac120002row4_col8 {\n",
       "            background-color:  #dbdcde;\n",
       "        }    #T_bd84aa2a_55bf_11eb_898d_0242ac120002row4_col9 {\n",
       "            background-color:  #82a6fb;\n",
       "        }    #T_bd84aa2a_55bf_11eb_898d_0242ac120002row5_col0 {\n",
       "            background-color:  #3e51c5;\n",
       "        }    #T_bd84aa2a_55bf_11eb_898d_0242ac120002row5_col1 {\n",
       "            background-color:  #536edd;\n",
       "        }    #T_bd84aa2a_55bf_11eb_898d_0242ac120002row5_col2 {\n",
       "            background-color:  #3f53c6;\n",
       "        }    #T_bd84aa2a_55bf_11eb_898d_0242ac120002row5_col3 {\n",
       "            background-color:  #4055c8;\n",
       "        }    #T_bd84aa2a_55bf_11eb_898d_0242ac120002row5_col4 {\n",
       "            background-color:  #3b4cc0;\n",
       "        }    #T_bd84aa2a_55bf_11eb_898d_0242ac120002row5_col5 {\n",
       "            background-color:  #b40426;\n",
       "        }    #T_bd84aa2a_55bf_11eb_898d_0242ac120002row5_col6 {\n",
       "            background-color:  #a6c4fe;\n",
       "        }    #T_bd84aa2a_55bf_11eb_898d_0242ac120002row5_col7 {\n",
       "            background-color:  #dcdddd;\n",
       "        }    #T_bd84aa2a_55bf_11eb_898d_0242ac120002row5_col8 {\n",
       "            background-color:  #d9dce1;\n",
       "        }    #T_bd84aa2a_55bf_11eb_898d_0242ac120002row5_col9 {\n",
       "            background-color:  #84a7fc;\n",
       "        }    #T_bd84aa2a_55bf_11eb_898d_0242ac120002row6_col0 {\n",
       "            background-color:  #3d50c3;\n",
       "        }    #T_bd84aa2a_55bf_11eb_898d_0242ac120002row6_col1 {\n",
       "            background-color:  #6180e9;\n",
       "        }    #T_bd84aa2a_55bf_11eb_898d_0242ac120002row6_col2 {\n",
       "            background-color:  #445acc;\n",
       "        }    #T_bd84aa2a_55bf_11eb_898d_0242ac120002row6_col3 {\n",
       "            background-color:  #4358cb;\n",
       "        }    #T_bd84aa2a_55bf_11eb_898d_0242ac120002row6_col4 {\n",
       "            background-color:  #3f53c6;\n",
       "        }    #T_bd84aa2a_55bf_11eb_898d_0242ac120002row6_col5 {\n",
       "            background-color:  #a3c2fe;\n",
       "        }    #T_bd84aa2a_55bf_11eb_898d_0242ac120002row6_col6 {\n",
       "            background-color:  #b40426;\n",
       "        }    #T_bd84aa2a_55bf_11eb_898d_0242ac120002row6_col7 {\n",
       "            background-color:  #dddcdc;\n",
       "        }    #T_bd84aa2a_55bf_11eb_898d_0242ac120002row6_col8 {\n",
       "            background-color:  #d8dce2;\n",
       "        }    #T_bd84aa2a_55bf_11eb_898d_0242ac120002row6_col9 {\n",
       "            background-color:  #88abfd;\n",
       "        }    #T_bd84aa2a_55bf_11eb_898d_0242ac120002row7_col0 {\n",
       "            background-color:  #3e51c5;\n",
       "        }    #T_bd84aa2a_55bf_11eb_898d_0242ac120002row7_col1 {\n",
       "            background-color:  #5673e0;\n",
       "        }    #T_bd84aa2a_55bf_11eb_898d_0242ac120002row7_col2 {\n",
       "            background-color:  #3f53c6;\n",
       "        }    #T_bd84aa2a_55bf_11eb_898d_0242ac120002row7_col3 {\n",
       "            background-color:  #4257c9;\n",
       "        }    #T_bd84aa2a_55bf_11eb_898d_0242ac120002row7_col4 {\n",
       "            background-color:  #3b4cc0;\n",
       "        }    #T_bd84aa2a_55bf_11eb_898d_0242ac120002row7_col5 {\n",
       "            background-color:  #3f53c6;\n",
       "        }    #T_bd84aa2a_55bf_11eb_898d_0242ac120002row7_col6 {\n",
       "            background-color:  #455cce;\n",
       "        }    #T_bd84aa2a_55bf_11eb_898d_0242ac120002row7_col7 {\n",
       "            background-color:  #b40426;\n",
       "        }    #T_bd84aa2a_55bf_11eb_898d_0242ac120002row7_col8 {\n",
       "            background-color:  #3b4cc0;\n",
       "        }    #T_bd84aa2a_55bf_11eb_898d_0242ac120002row7_col9 {\n",
       "            background-color:  #8fb1fe;\n",
       "        }    #T_bd84aa2a_55bf_11eb_898d_0242ac120002row8_col0 {\n",
       "            background-color:  #3b4cc0;\n",
       "        }    #T_bd84aa2a_55bf_11eb_898d_0242ac120002row8_col1 {\n",
       "            background-color:  #3b4cc0;\n",
       "        }    #T_bd84aa2a_55bf_11eb_898d_0242ac120002row8_col2 {\n",
       "            background-color:  #3b4cc0;\n",
       "        }    #T_bd84aa2a_55bf_11eb_898d_0242ac120002row8_col3 {\n",
       "            background-color:  #3b4cc0;\n",
       "        }    #T_bd84aa2a_55bf_11eb_898d_0242ac120002row8_col4 {\n",
       "            background-color:  #3b4cc0;\n",
       "        }    #T_bd84aa2a_55bf_11eb_898d_0242ac120002row8_col5 {\n",
       "            background-color:  #3b4cc0;\n",
       "        }    #T_bd84aa2a_55bf_11eb_898d_0242ac120002row8_col6 {\n",
       "            background-color:  #3b4cc0;\n",
       "        }    #T_bd84aa2a_55bf_11eb_898d_0242ac120002row8_col7 {\n",
       "            background-color:  #3b4cc0;\n",
       "        }    #T_bd84aa2a_55bf_11eb_898d_0242ac120002row8_col8 {\n",
       "            background-color:  #b40426;\n",
       "        }    #T_bd84aa2a_55bf_11eb_898d_0242ac120002row8_col9 {\n",
       "            background-color:  #3b4cc0;\n",
       "        }    #T_bd84aa2a_55bf_11eb_898d_0242ac120002row9_col0 {\n",
       "            background-color:  #3d50c3;\n",
       "        }    #T_bd84aa2a_55bf_11eb_898d_0242ac120002row9_col1 {\n",
       "            background-color:  #4a63d3;\n",
       "        }    #T_bd84aa2a_55bf_11eb_898d_0242ac120002row9_col2 {\n",
       "            background-color:  #3c4ec2;\n",
       "        }    #T_bd84aa2a_55bf_11eb_898d_0242ac120002row9_col3 {\n",
       "            background-color:  #3d50c3;\n",
       "        }    #T_bd84aa2a_55bf_11eb_898d_0242ac120002row9_col4 {\n",
       "            background-color:  #3b4cc0;\n",
       "        }    #T_bd84aa2a_55bf_11eb_898d_0242ac120002row9_col5 {\n",
       "            background-color:  #3e51c5;\n",
       "        }    #T_bd84aa2a_55bf_11eb_898d_0242ac120002row9_col6 {\n",
       "            background-color:  #455cce;\n",
       "        }    #T_bd84aa2a_55bf_11eb_898d_0242ac120002row9_col7 {\n",
       "            background-color:  #e0dbd8;\n",
       "        }    #T_bd84aa2a_55bf_11eb_898d_0242ac120002row9_col8 {\n",
       "            background-color:  #aec9fc;\n",
       "        }    #T_bd84aa2a_55bf_11eb_898d_0242ac120002row9_col9 {\n",
       "            background-color:  #b40426;\n",
       "        }</style>  \n",
       "<table id=\"T_bd84aa2a_55bf_11eb_898d_0242ac120002\" > \n",
       "<thead>    <tr> \n",
       "        <th class=\"blank level0\" ></th> \n",
       "        <th class=\"col_heading level0 col0\" >time</th> \n",
       "        <th class=\"col_heading level0 col1\" >money_cashback</th> \n",
       "        <th class=\"col_heading level0 col2\" >difficulty</th> \n",
       "        <th class=\"col_heading level0 col3\" >duration</th> \n",
       "        <th class=\"col_heading level0 col4\" >reward</th> \n",
       "        <th class=\"col_heading level0 col5\" >age</th> \n",
       "        <th class=\"col_heading level0 col6\" >income</th> \n",
       "        <th class=\"col_heading level0 col7\" >memberdays</th> \n",
       "        <th class=\"col_heading level0 col8\" >start_year</th> \n",
       "        <th class=\"col_heading level0 col9\" >start_month</th> \n",
       "    </tr></thead> \n",
       "<tbody>    <tr> \n",
       "        <th id=\"T_bd84aa2a_55bf_11eb_898d_0242ac120002level0_row0\" class=\"row_heading level0 row0\" >time</th> \n",
       "        <td id=\"T_bd84aa2a_55bf_11eb_898d_0242ac120002row0_col0\" class=\"data row0 col0\" >1</td> \n",
       "        <td id=\"T_bd84aa2a_55bf_11eb_898d_0242ac120002row0_col1\" class=\"data row0 col1\" >0.0950116</td> \n",
       "        <td id=\"T_bd84aa2a_55bf_11eb_898d_0242ac120002row0_col2\" class=\"data row0 col2\" >0.0231527</td> \n",
       "        <td id=\"T_bd84aa2a_55bf_11eb_898d_0242ac120002row0_col3\" class=\"data row0 col3\" >0.0257927</td> \n",
       "        <td id=\"T_bd84aa2a_55bf_11eb_898d_0242ac120002row0_col4\" class=\"data row0 col4\" >0.00549106</td> \n",
       "        <td id=\"T_bd84aa2a_55bf_11eb_898d_0242ac120002row0_col5\" class=\"data row0 col5\" >0.0062616</td> \n",
       "        <td id=\"T_bd84aa2a_55bf_11eb_898d_0242ac120002row0_col6\" class=\"data row0 col6\" >0.00436021</td> \n",
       "        <td id=\"T_bd84aa2a_55bf_11eb_898d_0242ac120002row0_col7\" class=\"data row0 col7\" >0.00545866</td> \n",
       "        <td id=\"T_bd84aa2a_55bf_11eb_898d_0242ac120002row0_col8\" class=\"data row0 col8\" >-0.00646465</td> \n",
       "        <td id=\"T_bd84aa2a_55bf_11eb_898d_0242ac120002row0_col9\" class=\"data row0 col9\" >0.00482659</td> \n",
       "    </tr>    <tr> \n",
       "        <th id=\"T_bd84aa2a_55bf_11eb_898d_0242ac120002level0_row1\" class=\"row_heading level0 row1\" >money_cashback</th> \n",
       "        <td id=\"T_bd84aa2a_55bf_11eb_898d_0242ac120002row1_col0\" class=\"data row1 col0\" >0.0950116</td> \n",
       "        <td id=\"T_bd84aa2a_55bf_11eb_898d_0242ac120002row1_col1\" class=\"data row1 col1\" >1</td> \n",
       "        <td id=\"T_bd84aa2a_55bf_11eb_898d_0242ac120002row1_col2\" class=\"data row1 col2\" >0.139399</td> \n",
       "        <td id=\"T_bd84aa2a_55bf_11eb_898d_0242ac120002row1_col3\" class=\"data row1 col3\" >0.0432029</td> \n",
       "        <td id=\"T_bd84aa2a_55bf_11eb_898d_0242ac120002row1_col4\" class=\"data row1 col4\" >0.288016</td> \n",
       "        <td id=\"T_bd84aa2a_55bf_11eb_898d_0242ac120002row1_col5\" class=\"data row1 col5\" >0.0346791</td> \n",
       "        <td id=\"T_bd84aa2a_55bf_11eb_898d_0242ac120002row1_col6\" class=\"data row1 col6\" >0.0816681</td> \n",
       "        <td id=\"T_bd84aa2a_55bf_11eb_898d_0242ac120002row1_col7\" class=\"data row1 col7\" >0.0490672</td> \n",
       "        <td id=\"T_bd84aa2a_55bf_11eb_898d_0242ac120002row1_col8\" class=\"data row1 col8\" >-0.0490309</td> \n",
       "        <td id=\"T_bd84aa2a_55bf_11eb_898d_0242ac120002row1_col9\" class=\"data row1 col9\" >0.0079608</td> \n",
       "    </tr>    <tr> \n",
       "        <th id=\"T_bd84aa2a_55bf_11eb_898d_0242ac120002level0_row2\" class=\"row_heading level0 row2\" >difficulty</th> \n",
       "        <td id=\"T_bd84aa2a_55bf_11eb_898d_0242ac120002row2_col0\" class=\"data row2 col0\" >0.0231527</td> \n",
       "        <td id=\"T_bd84aa2a_55bf_11eb_898d_0242ac120002row2_col1\" class=\"data row2 col1\" >0.139399</td> \n",
       "        <td id=\"T_bd84aa2a_55bf_11eb_898d_0242ac120002row2_col2\" class=\"data row2 col2\" >1</td> \n",
       "        <td id=\"T_bd84aa2a_55bf_11eb_898d_0242ac120002row2_col3\" class=\"data row2 col3\" >0.766392</td> \n",
       "        <td id=\"T_bd84aa2a_55bf_11eb_898d_0242ac120002row2_col4\" class=\"data row2 col4\" >0.421203</td> \n",
       "        <td id=\"T_bd84aa2a_55bf_11eb_898d_0242ac120002row2_col5\" class=\"data row2 col5\" >0.0104614</td> \n",
       "        <td id=\"T_bd84aa2a_55bf_11eb_898d_0242ac120002row2_col6\" class=\"data row2 col6\" >0.0267182</td> \n",
       "        <td id=\"T_bd84aa2a_55bf_11eb_898d_0242ac120002row2_col7\" class=\"data row2 col7\" >0.00861762</td> \n",
       "        <td id=\"T_bd84aa2a_55bf_11eb_898d_0242ac120002row2_col8\" class=\"data row2 col8\" >-0.00758441</td> \n",
       "        <td id=\"T_bd84aa2a_55bf_11eb_898d_0242ac120002row2_col9\" class=\"data row2 col9\" >-0.00318162</td> \n",
       "    </tr>    <tr> \n",
       "        <th id=\"T_bd84aa2a_55bf_11eb_898d_0242ac120002level0_row3\" class=\"row_heading level0 row3\" >duration</th> \n",
       "        <td id=\"T_bd84aa2a_55bf_11eb_898d_0242ac120002row3_col0\" class=\"data row3 col0\" >0.0257927</td> \n",
       "        <td id=\"T_bd84aa2a_55bf_11eb_898d_0242ac120002row3_col1\" class=\"data row3 col1\" >0.0432029</td> \n",
       "        <td id=\"T_bd84aa2a_55bf_11eb_898d_0242ac120002row3_col2\" class=\"data row3 col2\" >0.766392</td> \n",
       "        <td id=\"T_bd84aa2a_55bf_11eb_898d_0242ac120002row3_col3\" class=\"data row3 col3\" >1</td> \n",
       "        <td id=\"T_bd84aa2a_55bf_11eb_898d_0242ac120002row3_col4\" class=\"data row3 col4\" >0.0424685</td> \n",
       "        <td id=\"T_bd84aa2a_55bf_11eb_898d_0242ac120002row3_col5\" class=\"data row3 col5\" >0.00724635</td> \n",
       "        <td id=\"T_bd84aa2a_55bf_11eb_898d_0242ac120002row3_col6\" class=\"data row3 col6\" >0.0156353</td> \n",
       "        <td id=\"T_bd84aa2a_55bf_11eb_898d_0242ac120002row3_col7\" class=\"data row3 col7\" >0.0140283</td> \n",
       "        <td id=\"T_bd84aa2a_55bf_11eb_898d_0242ac120002row3_col8\" class=\"data row3 col8\" >-0.0128422</td> \n",
       "        <td id=\"T_bd84aa2a_55bf_11eb_898d_0242ac120002row3_col9\" class=\"data row3 col9\" >-0.00245608</td> \n",
       "    </tr>    <tr> \n",
       "        <th id=\"T_bd84aa2a_55bf_11eb_898d_0242ac120002level0_row4\" class=\"row_heading level0 row4\" >reward</th> \n",
       "        <td id=\"T_bd84aa2a_55bf_11eb_898d_0242ac120002row4_col0\" class=\"data row4 col0\" >0.00549106</td> \n",
       "        <td id=\"T_bd84aa2a_55bf_11eb_898d_0242ac120002row4_col1\" class=\"data row4 col1\" >0.288016</td> \n",
       "        <td id=\"T_bd84aa2a_55bf_11eb_898d_0242ac120002row4_col2\" class=\"data row4 col2\" >0.421203</td> \n",
       "        <td id=\"T_bd84aa2a_55bf_11eb_898d_0242ac120002row4_col3\" class=\"data row4 col3\" >0.0424685</td> \n",
       "        <td id=\"T_bd84aa2a_55bf_11eb_898d_0242ac120002row4_col4\" class=\"data row4 col4\" >1</td> \n",
       "        <td id=\"T_bd84aa2a_55bf_11eb_898d_0242ac120002row4_col5\" class=\"data row4 col5\" >0.000820731</td> \n",
       "        <td id=\"T_bd84aa2a_55bf_11eb_898d_0242ac120002row4_col6\" class=\"data row4 col6\" >0.0148388</td> \n",
       "        <td id=\"T_bd84aa2a_55bf_11eb_898d_0242ac120002row4_col7\" class=\"data row4 col7\" >-4.12905e-05</td> \n",
       "        <td id=\"T_bd84aa2a_55bf_11eb_898d_0242ac120002row4_col8\" class=\"data row4 col8\" >0.000372071</td> \n",
       "        <td id=\"T_bd84aa2a_55bf_11eb_898d_0242ac120002row4_col9\" class=\"data row4 col9\" >-0.00175385</td> \n",
       "    </tr>    <tr> \n",
       "        <th id=\"T_bd84aa2a_55bf_11eb_898d_0242ac120002level0_row5\" class=\"row_heading level0 row5\" >age</th> \n",
       "        <td id=\"T_bd84aa2a_55bf_11eb_898d_0242ac120002row5_col0\" class=\"data row5 col0\" >0.0062616</td> \n",
       "        <td id=\"T_bd84aa2a_55bf_11eb_898d_0242ac120002row5_col1\" class=\"data row5 col1\" >0.0346791</td> \n",
       "        <td id=\"T_bd84aa2a_55bf_11eb_898d_0242ac120002row5_col2\" class=\"data row5 col2\" >0.0104614</td> \n",
       "        <td id=\"T_bd84aa2a_55bf_11eb_898d_0242ac120002row5_col3\" class=\"data row5 col3\" >0.00724635</td> \n",
       "        <td id=\"T_bd84aa2a_55bf_11eb_898d_0242ac120002row5_col4\" class=\"data row5 col4\" >0.000820731</td> \n",
       "        <td id=\"T_bd84aa2a_55bf_11eb_898d_0242ac120002row5_col5\" class=\"data row5 col5\" >1</td> \n",
       "        <td id=\"T_bd84aa2a_55bf_11eb_898d_0242ac120002row5_col6\" class=\"data row5 col6\" >0.306631</td> \n",
       "        <td id=\"T_bd84aa2a_55bf_11eb_898d_0242ac120002row5_col7\" class=\"data row5 col7\" >0.00821439</td> \n",
       "        <td id=\"T_bd84aa2a_55bf_11eb_898d_0242ac120002row5_col8\" class=\"data row5 col8\" >-0.00883121</td> \n",
       "        <td id=\"T_bd84aa2a_55bf_11eb_898d_0242ac120002row5_col9\" class=\"data row5 col9\" >0.00444302</td> \n",
       "    </tr>    <tr> \n",
       "        <th id=\"T_bd84aa2a_55bf_11eb_898d_0242ac120002level0_row6\" class=\"row_heading level0 row6\" >income</th> \n",
       "        <td id=\"T_bd84aa2a_55bf_11eb_898d_0242ac120002row6_col0\" class=\"data row6 col0\" >0.00436021</td> \n",
       "        <td id=\"T_bd84aa2a_55bf_11eb_898d_0242ac120002row6_col1\" class=\"data row6 col1\" >0.0816681</td> \n",
       "        <td id=\"T_bd84aa2a_55bf_11eb_898d_0242ac120002row6_col2\" class=\"data row6 col2\" >0.0267182</td> \n",
       "        <td id=\"T_bd84aa2a_55bf_11eb_898d_0242ac120002row6_col3\" class=\"data row6 col3\" >0.0156353</td> \n",
       "        <td id=\"T_bd84aa2a_55bf_11eb_898d_0242ac120002row6_col4\" class=\"data row6 col4\" >0.0148388</td> \n",
       "        <td id=\"T_bd84aa2a_55bf_11eb_898d_0242ac120002row6_col5\" class=\"data row6 col5\" >0.306631</td> \n",
       "        <td id=\"T_bd84aa2a_55bf_11eb_898d_0242ac120002row6_col6\" class=\"data row6 col6\" >1</td> \n",
       "        <td id=\"T_bd84aa2a_55bf_11eb_898d_0242ac120002row6_col7\" class=\"data row6 col7\" >0.0176887</td> \n",
       "        <td id=\"T_bd84aa2a_55bf_11eb_898d_0242ac120002row6_col8\" class=\"data row6 col8\" >-0.021021</td> \n",
       "        <td id=\"T_bd84aa2a_55bf_11eb_898d_0242ac120002row6_col9\" class=\"data row6 col9\" >0.0164431</td> \n",
       "    </tr>    <tr> \n",
       "        <th id=\"T_bd84aa2a_55bf_11eb_898d_0242ac120002level0_row7\" class=\"row_heading level0 row7\" >memberdays</th> \n",
       "        <td id=\"T_bd84aa2a_55bf_11eb_898d_0242ac120002row7_col0\" class=\"data row7 col0\" >0.00545866</td> \n",
       "        <td id=\"T_bd84aa2a_55bf_11eb_898d_0242ac120002row7_col1\" class=\"data row7 col1\" >0.0490672</td> \n",
       "        <td id=\"T_bd84aa2a_55bf_11eb_898d_0242ac120002row7_col2\" class=\"data row7 col2\" >0.00861762</td> \n",
       "        <td id=\"T_bd84aa2a_55bf_11eb_898d_0242ac120002row7_col3\" class=\"data row7 col3\" >0.0140283</td> \n",
       "        <td id=\"T_bd84aa2a_55bf_11eb_898d_0242ac120002row7_col4\" class=\"data row7 col4\" >-4.12905e-05</td> \n",
       "        <td id=\"T_bd84aa2a_55bf_11eb_898d_0242ac120002row7_col5\" class=\"data row7 col5\" >0.00821439</td> \n",
       "        <td id=\"T_bd84aa2a_55bf_11eb_898d_0242ac120002row7_col6\" class=\"data row7 col6\" >0.0176887</td> \n",
       "        <td id=\"T_bd84aa2a_55bf_11eb_898d_0242ac120002row7_col7\" class=\"data row7 col7\" >1</td> \n",
       "        <td id=\"T_bd84aa2a_55bf_11eb_898d_0242ac120002row7_col8\" class=\"data row7 col8\" >-0.969222</td> \n",
       "        <td id=\"T_bd84aa2a_55bf_11eb_898d_0242ac120002row7_col9\" class=\"data row7 col9\" >0.0416325</td> \n",
       "    </tr>    <tr> \n",
       "        <th id=\"T_bd84aa2a_55bf_11eb_898d_0242ac120002level0_row8\" class=\"row_heading level0 row8\" >start_year</th> \n",
       "        <td id=\"T_bd84aa2a_55bf_11eb_898d_0242ac120002row8_col0\" class=\"data row8 col0\" >-0.00646465</td> \n",
       "        <td id=\"T_bd84aa2a_55bf_11eb_898d_0242ac120002row8_col1\" class=\"data row8 col1\" >-0.0490309</td> \n",
       "        <td id=\"T_bd84aa2a_55bf_11eb_898d_0242ac120002row8_col2\" class=\"data row8 col2\" >-0.00758441</td> \n",
       "        <td id=\"T_bd84aa2a_55bf_11eb_898d_0242ac120002row8_col3\" class=\"data row8 col3\" >-0.0128422</td> \n",
       "        <td id=\"T_bd84aa2a_55bf_11eb_898d_0242ac120002row8_col4\" class=\"data row8 col4\" >0.000372071</td> \n",
       "        <td id=\"T_bd84aa2a_55bf_11eb_898d_0242ac120002row8_col5\" class=\"data row8 col5\" >-0.00883121</td> \n",
       "        <td id=\"T_bd84aa2a_55bf_11eb_898d_0242ac120002row8_col6\" class=\"data row8 col6\" >-0.021021</td> \n",
       "        <td id=\"T_bd84aa2a_55bf_11eb_898d_0242ac120002row8_col7\" class=\"data row8 col7\" >-0.969222</td> \n",
       "        <td id=\"T_bd84aa2a_55bf_11eb_898d_0242ac120002row8_col8\" class=\"data row8 col8\" >1</td> \n",
       "        <td id=\"T_bd84aa2a_55bf_11eb_898d_0242ac120002row8_col9\" class=\"data row8 col9\" >-0.2855</td> \n",
       "    </tr>    <tr> \n",
       "        <th id=\"T_bd84aa2a_55bf_11eb_898d_0242ac120002level0_row9\" class=\"row_heading level0 row9\" >start_month</th> \n",
       "        <td id=\"T_bd84aa2a_55bf_11eb_898d_0242ac120002row9_col0\" class=\"data row9 col0\" >0.00482659</td> \n",
       "        <td id=\"T_bd84aa2a_55bf_11eb_898d_0242ac120002row9_col1\" class=\"data row9 col1\" >0.0079608</td> \n",
       "        <td id=\"T_bd84aa2a_55bf_11eb_898d_0242ac120002row9_col2\" class=\"data row9 col2\" >-0.00318162</td> \n",
       "        <td id=\"T_bd84aa2a_55bf_11eb_898d_0242ac120002row9_col3\" class=\"data row9 col3\" >-0.00245608</td> \n",
       "        <td id=\"T_bd84aa2a_55bf_11eb_898d_0242ac120002row9_col4\" class=\"data row9 col4\" >-0.00175385</td> \n",
       "        <td id=\"T_bd84aa2a_55bf_11eb_898d_0242ac120002row9_col5\" class=\"data row9 col5\" >0.00444302</td> \n",
       "        <td id=\"T_bd84aa2a_55bf_11eb_898d_0242ac120002row9_col6\" class=\"data row9 col6\" >0.0164431</td> \n",
       "        <td id=\"T_bd84aa2a_55bf_11eb_898d_0242ac120002row9_col7\" class=\"data row9 col7\" >0.0416325</td> \n",
       "        <td id=\"T_bd84aa2a_55bf_11eb_898d_0242ac120002row9_col8\" class=\"data row9 col8\" >-0.2855</td> \n",
       "        <td id=\"T_bd84aa2a_55bf_11eb_898d_0242ac120002row9_col9\" class=\"data row9 col9\" >1</td> \n",
       "    </tr></tbody> \n",
       "</table> "
      ],
      "text/plain": [
       "<pandas.io.formats.style.Styler at 0x7f62569a1518>"
      ]
     },
     "execution_count": 66,
     "metadata": {},
     "output_type": "execute_result"
    }
   ],
   "source": [
    "#Plot correlation matrix:\n",
    "corr.style.background_gradient(cmap='coolwarm')\n"
   ]
  },
  {
   "cell_type": "markdown",
   "metadata": {},
   "source": [
    "The correlation matrix shows that \n",
    "\n",
    "1. The 'memberdays' and 'start_year ' shows a very strong negative correlation (-0.96). \n",
    "2. The 'duration' and 'difficulty' offer portfolio are highly correlated (0.766).\n",
    "3. 'money_cashback' and 'reward' has some correlation(0.288).\n",
    "4. Similarly 'reward' and 'difficulty' have a high correlation(0.42).\n",
    "\n",
    "So we will drop duration, reward and columns. \n",
    "We will drop start_year and start_month and keep memeberdays. As they give simsilar info.\n"
   ]
  },
  {
   "cell_type": "code",
   "execution_count": 67,
   "metadata": {},
   "outputs": [],
   "source": [
    "# Distribution of numeric variables- 'age', 'memberdays', start_year, start_month, time,  and 'income' \n",
    "def display_view_data():\n",
    "    '''Display customer profile with distplot'''\n",
    "    # Display Histogram of Customer Age\n",
    "    user_age = sns.distplot(final['age'],fit=norm, bins = 20)\n",
    "    user_age.set_title('Distribution of Customer Age')\n",
    "    \n",
    "    # Display Histogram of the days being member\n",
    "    plt.show()\n",
    "    memberdays = sns.distplot(final['memberdays'], fit=norm, bins = 50)\n",
    "    memberdays.set_title('How long did the users become our members(days)')\n",
    "    \n",
    "    \n",
    "    # Display Histogram of start_month\n",
    "    plt.show()\n",
    "    user_income = sns.distplot(final['start_month'], fit=norm, bins = 20)\n",
    "    user_income.set_title('Distribution of Customer joining month')\n",
    "    \n",
    "    # Display Histogram of start_year\n",
    "    plt.show()\n",
    "    user_income = sns.distplot(final['start_year'], fit=norm, bins = 20)\n",
    "    user_income.set_title('Distribution of Customer joining year')\n",
    "    \n",
    "    \n",
    "    # Display Histogram of User Income\n",
    "    plt.show()\n",
    "    user_income = sns.distplot(final['income'], fit=norm, bins = 20)\n",
    "    user_income.set_title('Distribution of Customer Income')\n",
    "    "
   ]
  },
  {
   "cell_type": "code",
   "execution_count": 68,
   "metadata": {},
   "outputs": [
    {
     "data": {
      "image/png": "[encoded data removed]",
      "text/plain": [
       "<matplotlib.figure.Figure at 0x7f625687a208>"
      ]
     },
     "metadata": {},
     "output_type": "display_data"
    },
    {
     "data": {
      "image/png": "[encoded data removed]",
      "text/plain": [
       "<matplotlib.figure.Figure at 0x7f6256843ef0>"
      ]
     },
     "metadata": {},
     "output_type": "display_data"
    },
    {
     "data": {
      "image/png": "[encoded data removed]",
      "text/plain": [
       "<matplotlib.figure.Figure at 0x7f6256aa5208>"
      ]
     },
     "metadata": {},
     "output_type": "display_data"
    },
    {
     "data": {
      "image/png": "[encoded data removed]",
      "text/plain": [
       "<matplotlib.figure.Figure at 0x7f62568430b8>"
      ]
     },
     "metadata": {},
     "output_type": "display_data"
    },
    {
     "data": {
      "image/png": "[encoded data removed]",
      "text/plain": [
       "<matplotlib.figure.Figure at 0x7f6256a41668>"
      ]
     },
     "metadata": {},
     "output_type": "display_data"
    }
   ],
   "source": [
    "display_view_data()"
   ]
  },
  {
   "cell_type": "markdown",
   "metadata": {},
   "source": [
    "Analyses of the distribution curves shows:\n",
    "1. 'age' shows a normal distribution. And peak around 50 years, most members aappear to be in the age group of 40-60 years.\n",
    "2. 'member_days' has a right skewed curve, showing that most members on the app are from last 3 years(approx 1000 days).\n",
    "3. Income distribution is not a normal distibution .\n",
    "4. Majority of Starbucks users have become member in 2017 followed by 2018.\n",
    "5. Also the joining start_month plot shows that month has no significant impact on joining a membership program. we will drop it too."
   ]
  },
  {
   "cell_type": "code",
   "execution_count": 69,
   "metadata": {},
   "outputs": [],
   "source": [
    "#colummn to be dropped \n",
    "final.drop(['customer_id','duration', 'reward','start_year', 'start_month', 'offer_id'], axis=1, inplace=True)\n"
   ]
  },
  {
   "cell_type": "markdown",
   "metadata": {},
   "source": [
    "# Building a ML model to predict customer response:\n",
    "Model: we will build a Machine Learning model to predict response of a customer to an offer who have recieved the offer. Reponse will be in the form of whether he:\n",
    "1. recieved an offer [offer_recieved: 1\n",
    "2. view an offer ['offer viewed':2]\n",
    "3. complete an offer ['offer completed':3]\n",
    "\n",
    "\n",
    "We will use the 'final' df to train on three classifiers:\n",
    "1. KNN\n",
    "2. Random Forest\n",
    "3. Descion Tree\n",
    "\n",
    "We will train KNN , Random Forest, Descion Tree classifiers on the training data.\n",
    "\n",
    "Metrics: We will consider the F1 score as the model metric to assess the quality of the approach and determine which model gives the best results. It can be interpreted as the weighted average of the precision and recall. The traditional or balanced F-score (F1 score) is the harmonic mean of precision and recall, where an F1 score reaches its best value at 100 and worst at 0."
   ]
  },
  {
   "cell_type": "code",
   "execution_count": 71,
   "metadata": {},
   "outputs": [
    {
     "data": {
      "text/html": [
       "<div>\n",
       "<style scoped>\n",
       "    .dataframe tbody tr th:only-of-type {\n",
       "        vertical-align: middle;\n",
       "    }\n",
       "\n",
       "    .dataframe tbody tr th {\n",
       "        vertical-align: top;\n",
       "    }\n",
       "\n",
       "    .dataframe thead th {\n",
       "        text-align: right;\n",
       "    }\n",
       "</style>\n",
       "<table border=\"1\" class=\"dataframe\">\n",
       "  <thead>\n",
       "    <tr style=\"text-align: right;\">\n",
       "      <th></th>\n",
       "      <th>event</th>\n",
       "      <th>time</th>\n",
       "      <th>money_cashback</th>\n",
       "      <th>channels</th>\n",
       "      <th>difficulty</th>\n",
       "      <th>offer_type</th>\n",
       "      <th>age</th>\n",
       "      <th>gender</th>\n",
       "      <th>income</th>\n",
       "      <th>memberdays</th>\n",
       "    </tr>\n",
       "  </thead>\n",
       "  <tbody>\n",
       "    <tr>\n",
       "      <th>0</th>\n",
       "      <td>offer received</td>\n",
       "      <td>0</td>\n",
       "      <td>0.0</td>\n",
       "      <td>[web, email, mobile]</td>\n",
       "      <td>5</td>\n",
       "      <td>bogo</td>\n",
       "      <td>75.0</td>\n",
       "      <td>F</td>\n",
       "      <td>100000.0</td>\n",
       "      <td>1345</td>\n",
       "    </tr>\n",
       "    <tr>\n",
       "      <th>1</th>\n",
       "      <td>offer viewed</td>\n",
       "      <td>6</td>\n",
       "      <td>0.0</td>\n",
       "      <td>[web, email, mobile]</td>\n",
       "      <td>5</td>\n",
       "      <td>bogo</td>\n",
       "      <td>75.0</td>\n",
       "      <td>F</td>\n",
       "      <td>100000.0</td>\n",
       "      <td>1345</td>\n",
       "    </tr>\n",
       "    <tr>\n",
       "      <th>2</th>\n",
       "      <td>offer completed</td>\n",
       "      <td>132</td>\n",
       "      <td>5.0</td>\n",
       "      <td>[web, email, mobile]</td>\n",
       "      <td>5</td>\n",
       "      <td>bogo</td>\n",
       "      <td>75.0</td>\n",
       "      <td>F</td>\n",
       "      <td>100000.0</td>\n",
       "      <td>1345</td>\n",
       "    </tr>\n",
       "    <tr>\n",
       "      <th>3</th>\n",
       "      <td>offer received</td>\n",
       "      <td>168</td>\n",
       "      <td>0.0</td>\n",
       "      <td>[email, mobile, social]</td>\n",
       "      <td>0</td>\n",
       "      <td>informational</td>\n",
       "      <td>75.0</td>\n",
       "      <td>F</td>\n",
       "      <td>100000.0</td>\n",
       "      <td>1345</td>\n",
       "    </tr>\n",
       "    <tr>\n",
       "      <th>4</th>\n",
       "      <td>offer viewed</td>\n",
       "      <td>216</td>\n",
       "      <td>0.0</td>\n",
       "      <td>[email, mobile, social]</td>\n",
       "      <td>0</td>\n",
       "      <td>informational</td>\n",
       "      <td>75.0</td>\n",
       "      <td>F</td>\n",
       "      <td>100000.0</td>\n",
       "      <td>1345</td>\n",
       "    </tr>\n",
       "  </tbody>\n",
       "</table>\n",
       "</div>"
      ],
      "text/plain": [
       "             event  time  money_cashback                 channels  difficulty  \\\n",
       "0   offer received     0             0.0     [web, email, mobile]           5   \n",
       "1     offer viewed     6             0.0     [web, email, mobile]           5   \n",
       "2  offer completed   132             5.0     [web, email, mobile]           5   \n",
       "3   offer received   168             0.0  [email, mobile, social]           0   \n",
       "4     offer viewed   216             0.0  [email, mobile, social]           0   \n",
       "\n",
       "      offer_type   age gender    income  memberdays  \n",
       "0           bogo  75.0      F  100000.0        1345  \n",
       "1           bogo  75.0      F  100000.0        1345  \n",
       "2           bogo  75.0      F  100000.0        1345  \n",
       "3  informational  75.0      F  100000.0        1345  \n",
       "4  informational  75.0      F  100000.0        1345  "
      ]
     },
     "execution_count": 71,
     "metadata": {},
     "output_type": "execute_result"
    }
   ],
   "source": [
    "final.head()"
   ]
  },
  {
   "cell_type": "code",
   "execution_count": 72,
   "metadata": {},
   "outputs": [],
   "source": [
    "def preprocess_data(df):\n",
    "    \"\"\"\n",
    "    Clean merged data frame for the final data as per tasks 1-5.\n",
    "    \n",
    "    Parameters\n",
    "    ----------\n",
    "    df: input data frame\n",
    "    \n",
    "    Returns\n",
    "    -------\n",
    "    df: cleaned data frame as per tasks\n",
    "       \n",
    "    \"\"\"\n",
    "    #process categorical variables\n",
    "    categorical = ['gender','offer_type']\n",
    "    df = pd.get_dummies(df, columns = categorical)\n",
    "    \n",
    "    #process channels column \n",
    "    df = df.drop('channels', 1).join(df.channels.str.join('|').str.get_dummies())\n",
    "    \n",
    "    \n",
    "    #encode 'event' data to numerical values according to task 2\n",
    "    df['event'] = df['event'].map({'offer received':1, 'offer viewed':2, 'offer completed':3})\n",
    "    \n",
    "    \n",
    "    return df\n",
    "    \n",
    "    "
   ]
  },
  {
   "cell_type": "code",
   "execution_count": 74,
   "metadata": {},
   "outputs": [],
   "source": [
    "preprocess_data = preprocess_data(final)"
   ]
  },
  {
   "cell_type": "code",
   "execution_count": 75,
   "metadata": {},
   "outputs": [
    {
     "data": {
      "text/html": [
       "<div>\n",
       "<style scoped>\n",
       "    .dataframe tbody tr th:only-of-type {\n",
       "        vertical-align: middle;\n",
       "    }\n",
       "\n",
       "    .dataframe tbody tr th {\n",
       "        vertical-align: top;\n",
       "    }\n",
       "\n",
       "    .dataframe thead th {\n",
       "        text-align: right;\n",
       "    }\n",
       "</style>\n",
       "<table border=\"1\" class=\"dataframe\">\n",
       "  <thead>\n",
       "    <tr style=\"text-align: right;\">\n",
       "      <th></th>\n",
       "      <th>event</th>\n",
       "      <th>time</th>\n",
       "      <th>money_cashback</th>\n",
       "      <th>difficulty</th>\n",
       "      <th>age</th>\n",
       "      <th>income</th>\n",
       "      <th>memberdays</th>\n",
       "      <th>gender_F</th>\n",
       "      <th>gender_M</th>\n",
       "      <th>offer_type_bogo</th>\n",
       "      <th>offer_type_discount</th>\n",
       "      <th>offer_type_informational</th>\n",
       "      <th>email</th>\n",
       "      <th>mobile</th>\n",
       "      <th>social</th>\n",
       "      <th>web</th>\n",
       "    </tr>\n",
       "  </thead>\n",
       "  <tbody>\n",
       "    <tr>\n",
       "      <th>0</th>\n",
       "      <td>1</td>\n",
       "      <td>0</td>\n",
       "      <td>0.0</td>\n",
       "      <td>5</td>\n",
       "      <td>75.0</td>\n",
       "      <td>100000.0</td>\n",
       "      <td>1345</td>\n",
       "      <td>1</td>\n",
       "      <td>0</td>\n",
       "      <td>1</td>\n",
       "      <td>0</td>\n",
       "      <td>0</td>\n",
       "      <td>1</td>\n",
       "      <td>1</td>\n",
       "      <td>0</td>\n",
       "      <td>1</td>\n",
       "    </tr>\n",
       "    <tr>\n",
       "      <th>1</th>\n",
       "      <td>2</td>\n",
       "      <td>6</td>\n",
       "      <td>0.0</td>\n",
       "      <td>5</td>\n",
       "      <td>75.0</td>\n",
       "      <td>100000.0</td>\n",
       "      <td>1345</td>\n",
       "      <td>1</td>\n",
       "      <td>0</td>\n",
       "      <td>1</td>\n",
       "      <td>0</td>\n",
       "      <td>0</td>\n",
       "      <td>1</td>\n",
       "      <td>1</td>\n",
       "      <td>0</td>\n",
       "      <td>1</td>\n",
       "    </tr>\n",
       "    <tr>\n",
       "      <th>2</th>\n",
       "      <td>3</td>\n",
       "      <td>132</td>\n",
       "      <td>5.0</td>\n",
       "      <td>5</td>\n",
       "      <td>75.0</td>\n",
       "      <td>100000.0</td>\n",
       "      <td>1345</td>\n",
       "      <td>1</td>\n",
       "      <td>0</td>\n",
       "      <td>1</td>\n",
       "      <td>0</td>\n",
       "      <td>0</td>\n",
       "      <td>1</td>\n",
       "      <td>1</td>\n",
       "      <td>0</td>\n",
       "      <td>1</td>\n",
       "    </tr>\n",
       "    <tr>\n",
       "      <th>3</th>\n",
       "      <td>1</td>\n",
       "      <td>168</td>\n",
       "      <td>0.0</td>\n",
       "      <td>0</td>\n",
       "      <td>75.0</td>\n",
       "      <td>100000.0</td>\n",
       "      <td>1345</td>\n",
       "      <td>1</td>\n",
       "      <td>0</td>\n",
       "      <td>0</td>\n",
       "      <td>0</td>\n",
       "      <td>1</td>\n",
       "      <td>1</td>\n",
       "      <td>1</td>\n",
       "      <td>1</td>\n",
       "      <td>0</td>\n",
       "    </tr>\n",
       "    <tr>\n",
       "      <th>4</th>\n",
       "      <td>2</td>\n",
       "      <td>216</td>\n",
       "      <td>0.0</td>\n",
       "      <td>0</td>\n",
       "      <td>75.0</td>\n",
       "      <td>100000.0</td>\n",
       "      <td>1345</td>\n",
       "      <td>1</td>\n",
       "      <td>0</td>\n",
       "      <td>0</td>\n",
       "      <td>0</td>\n",
       "      <td>1</td>\n",
       "      <td>1</td>\n",
       "      <td>1</td>\n",
       "      <td>1</td>\n",
       "      <td>0</td>\n",
       "    </tr>\n",
       "  </tbody>\n",
       "</table>\n",
       "</div>"
      ],
      "text/plain": [
       "   event  time  money_cashback  difficulty   age    income  memberdays  \\\n",
       "0      1     0             0.0           5  75.0  100000.0        1345   \n",
       "1      2     6             0.0           5  75.0  100000.0        1345   \n",
       "2      3   132             5.0           5  75.0  100000.0        1345   \n",
       "3      1   168             0.0           0  75.0  100000.0        1345   \n",
       "4      2   216             0.0           0  75.0  100000.0        1345   \n",
       "\n",
       "   gender_F  gender_M  offer_type_bogo  offer_type_discount  \\\n",
       "0         1         0                1                    0   \n",
       "1         1         0                1                    0   \n",
       "2         1         0                1                    0   \n",
       "3         1         0                0                    0   \n",
       "4         1         0                0                    0   \n",
       "\n",
       "   offer_type_informational  email  mobile  social  web  \n",
       "0                         0      1       1       0    1  \n",
       "1                         0      1       1       0    1  \n",
       "2                         0      1       1       0    1  \n",
       "3                         1      1       1       1    0  \n",
       "4                         1      1       1       1    0  "
      ]
     },
     "execution_count": 75,
     "metadata": {},
     "output_type": "execute_result"
    }
   ],
   "source": [
    "preprocess_data.head()"
   ]
  },
  {
   "cell_type": "code",
   "execution_count": 76,
   "metadata": {},
   "outputs": [],
   "source": [
    "# We will split the preprocess_df into:\n",
    "label = preprocess_data['event']\n",
    "data = preprocess_data.drop('event', axis=1)   \n"
   ]
  },
  {
   "cell_type": "code",
   "execution_count": 77,
   "metadata": {
    "scrolled": false
   },
   "outputs": [
    {
     "name": "stdout",
     "output_type": "stream",
     "text": [
      "<class 'pandas.core.frame.DataFrame'>\n",
      "Int64Index: 146615 entries, 0 to 146614\n",
      "Data columns (total 15 columns):\n",
      "time                        146615 non-null int64\n",
      "money_cashback              146615 non-null float64\n",
      "difficulty                  146615 non-null int64\n",
      "age                         146615 non-null float64\n",
      "income                      146615 non-null float64\n",
      "memberdays                  146615 non-null int64\n",
      "gender_F                    146615 non-null uint8\n",
      "gender_M                    146615 non-null uint8\n",
      "offer_type_bogo             146615 non-null uint8\n",
      "offer_type_discount         146615 non-null uint8\n",
      "offer_type_informational    146615 non-null uint8\n",
      "email                       146615 non-null int64\n",
      "mobile                      146615 non-null int64\n",
      "social                      146615 non-null int64\n",
      "web                         146615 non-null int64\n",
      "dtypes: float64(3), int64(7), uint8(5)\n",
      "memory usage: 18.0 MB\n"
     ]
    }
   ],
   "source": [
    "data.info()"
   ]
  },
  {
   "cell_type": "code",
   "execution_count": 78,
   "metadata": {},
   "outputs": [],
   "source": [
    "#feature scaling of data\n",
    "from sklearn.preprocessing import StandardScaler\n",
    "scaler = StandardScaler()\n",
    "sc = StandardScaler()\n",
    "data = sc.fit_transform(data)"
   ]
  },
  {
   "cell_type": "code",
   "execution_count": 79,
   "metadata": {},
   "outputs": [
    {
     "name": "stdout",
     "output_type": "stream",
     "text": [
      "Training set: 102630 rows\n",
      "Testing set: 43985 rows\n"
     ]
    }
   ],
   "source": [
    "#split the data into train and test sets:\n",
    "x_train, x_test, y_train, y_test = train_test_split(data, label, test_size = 0.3, random_state = 0)\n",
    "\n",
    "print(\"Training set: {} rows\".format(x_train.shape[0]))\n",
    "print(\"Testing set: {} rows\".format(x_test.shape[0]))\n",
    "    "
   ]
  },
  {
   "cell_type": "code",
   "execution_count": 80,
   "metadata": {},
   "outputs": [],
   "source": [
    "def train_test(clf):\n",
    "    \"\"\"\n",
    "    Return train and test F1 score along with the model name\n",
    "       \n",
    "    Parameters\n",
    "    --------\n",
    "    clf: estimator instance\n",
    "    \n",
    "    Returns\n",
    "    --------\n",
    "    train_f1: train data F1 score\n",
    "    test_f1: test data F1 score\n",
    "    name: model name\n",
    "       \n",
    "    \"\"\"\n",
    "    train_prediction =  (clf.fit(x_train, y_train)).predict(x_train)\n",
    "    test_predictions = clf.predict(x_test)\n",
    "    train_f1 =  accuracy_score(y_train, train_prediction)*100\n",
    "    test_f1= fbeta_score(y_test, test_predictions, beta = 0.5, average='micro' )*100\n",
    "    name = clf.__class__.__name__\n",
    "    \n",
    "    return train_f1, test_f1, name"
   ]
  },
  {
   "cell_type": "markdown",
   "metadata": {},
   "source": [
    "ClfA - KNeighborsClassifier (Benchmark)\n",
    "\n",
    "We use the K-Nearest Neighbors algorithm to build the benchmark, and evaluate the model result by the F1 score metric."
   ]
  },
  {
   "cell_type": "code",
   "execution_count": 81,
   "metadata": {},
   "outputs": [],
   "source": [
    "clf_A = KNeighborsClassifier(n_neighbors = 5)\n",
    "a_train_f1, a_test_f1, a_model = train_test(clf_A)"
   ]
  },
  {
   "cell_type": "code",
   "execution_count": 82,
   "metadata": {},
   "outputs": [],
   "source": [
    "knn = {'Benchmark Model': [ a_model], 'train F1 score':[a_train_f1], 'test F1 score': [a_test_f1]}\n",
    "benchmark = pd.DataFrame(knn)\n"
   ]
  },
  {
   "cell_type": "code",
   "execution_count": 83,
   "metadata": {},
   "outputs": [
    {
     "data": {
      "text/html": [
       "<div>\n",
       "<style scoped>\n",
       "    .dataframe tbody tr th:only-of-type {\n",
       "        vertical-align: middle;\n",
       "    }\n",
       "\n",
       "    .dataframe tbody tr th {\n",
       "        vertical-align: top;\n",
       "    }\n",
       "\n",
       "    .dataframe thead th {\n",
       "        text-align: right;\n",
       "    }\n",
       "</style>\n",
       "<table border=\"1\" class=\"dataframe\">\n",
       "  <thead>\n",
       "    <tr style=\"text-align: right;\">\n",
       "      <th></th>\n",
       "      <th>Benchmark Model</th>\n",
       "      <th>train F1 score</th>\n",
       "      <th>test F1 score</th>\n",
       "    </tr>\n",
       "  </thead>\n",
       "  <tbody>\n",
       "    <tr>\n",
       "      <th>0</th>\n",
       "      <td>KNeighborsClassifier</td>\n",
       "      <td>75.325928</td>\n",
       "      <td>58.185745</td>\n",
       "    </tr>\n",
       "  </tbody>\n",
       "</table>\n",
       "</div>"
      ],
      "text/plain": [
       "        Benchmark Model  train F1 score  test F1 score\n",
       "0  KNeighborsClassifier       75.325928      58.185745"
      ]
     },
     "execution_count": 83,
     "metadata": {},
     "output_type": "execute_result"
    }
   ],
   "source": [
    "benchmark"
   ]
  },
  {
   "cell_type": "markdown",
   "metadata": {},
   "source": [
    "Clf B - Random Forest Classifier\n",
    "\n"
   ]
  },
  {
   "cell_type": "code",
   "execution_count": 84,
   "metadata": {},
   "outputs": [],
   "source": [
    "clf_B = RandomForestClassifier(random_state = 10)\n",
    "b_train_f1, b_test_f1, b_model = train_test(clf_B)"
   ]
  },
  {
   "cell_type": "markdown",
   "metadata": {},
   "source": [
    "Clf_C - Decision Tree"
   ]
  },
  {
   "cell_type": "code",
   "execution_count": 85,
   "metadata": {},
   "outputs": [],
   "source": [
    "clf_C = DecisionTreeClassifier(random_state = 10)\n",
    "c_train_f1, c_test_f1, c_model = train_test(clf_C)"
   ]
  },
  {
   "cell_type": "markdown",
   "metadata": {},
   "source": [
    "Model comparisons:"
   ]
  },
  {
   "cell_type": "code",
   "execution_count": 86,
   "metadata": {},
   "outputs": [],
   "source": [
    "models = {'Model': ['KNeighborsClassifier (Benchmark)', b_model, c_model], \n",
    "          'train F1 score ':[a_train_f1, b_train_f1, c_train_f1], \n",
    "          'test F1 score': [a_test_f1 , b_test_f1, c_test_f1] }\n",
    "          \n",
    "comp = pd.DataFrame(models)"
   ]
  },
  {
   "cell_type": "code",
   "execution_count": 87,
   "metadata": {
    "scrolled": true
   },
   "outputs": [
    {
     "data": {
      "text/html": [
       "<div>\n",
       "<style scoped>\n",
       "    .dataframe tbody tr th:only-of-type {\n",
       "        vertical-align: middle;\n",
       "    }\n",
       "\n",
       "    .dataframe tbody tr th {\n",
       "        vertical-align: top;\n",
       "    }\n",
       "\n",
       "    .dataframe thead th {\n",
       "        text-align: right;\n",
       "    }\n",
       "</style>\n",
       "<table border=\"1\" class=\"dataframe\">\n",
       "  <thead>\n",
       "    <tr style=\"text-align: right;\">\n",
       "      <th></th>\n",
       "      <th>Model</th>\n",
       "      <th>train F1 score</th>\n",
       "      <th>test F1 score</th>\n",
       "    </tr>\n",
       "  </thead>\n",
       "  <tbody>\n",
       "    <tr>\n",
       "      <th>0</th>\n",
       "      <td>KNeighborsClassifier (Benchmark)</td>\n",
       "      <td>75.325928</td>\n",
       "      <td>58.185745</td>\n",
       "    </tr>\n",
       "    <tr>\n",
       "      <th>1</th>\n",
       "      <td>RandomForestClassifier</td>\n",
       "      <td>94.174218</td>\n",
       "      <td>74.270774</td>\n",
       "    </tr>\n",
       "    <tr>\n",
       "      <th>2</th>\n",
       "      <td>DecisionTreeClassifier</td>\n",
       "      <td>94.939102</td>\n",
       "      <td>85.574628</td>\n",
       "    </tr>\n",
       "  </tbody>\n",
       "</table>\n",
       "</div>"
      ],
      "text/plain": [
       "                              Model  train F1 score   test F1 score\n",
       "0  KNeighborsClassifier (Benchmark)        75.325928      58.185745\n",
       "1            RandomForestClassifier        94.174218      74.270774\n",
       "2            DecisionTreeClassifier        94.939102      85.574628"
      ]
     },
     "execution_count": 87,
     "metadata": {},
     "output_type": "execute_result"
    }
   ],
   "source": [
    "comp"
   ]
  },
  {
   "cell_type": "markdown",
   "metadata": {},
   "source": [
    "Conclusion:\n",
    "\n",
    "Right now the perfoarmance of the Descion Tree model is quite satisfactory. \n",
    "\n",
    "New models need to be tested, one appraoch will be to make an ANN model."
   ]
  },
  {
   "cell_type": "code",
   "execution_count": null,
   "metadata": {},
   "outputs": [],
   "source": []
  },
  {
   "cell_type": "code",
   "execution_count": null,
   "metadata": {},
   "outputs": [],
   "source": []
  },
  {
   "cell_type": "code",
   "execution_count": null,
   "metadata": {},
   "outputs": [],
   "source": []
  },
  {
   "cell_type": "code",
   "execution_count": null,
   "metadata": {},
   "outputs": [],
   "source": []
  },
  {
   "cell_type": "code",
   "execution_count": null,
   "metadata": {},
   "outputs": [],
   "source": []
  },
  {
   "cell_type": "code",
   "execution_count": null,
   "metadata": {},
   "outputs": [],
   "source": []
  },
  {
   "cell_type": "code",
   "execution_count": null,
   "metadata": {},
   "outputs": [],
   "source": []
  },
  {
   "cell_type": "code",
   "execution_count": null,
   "metadata": {},
   "outputs": [],
   "source": []
  },
  {
   "cell_type": "code",
   "execution_count": null,
   "metadata": {},
   "outputs": [],
   "source": []
  },
  {
   "cell_type": "code",
   "execution_count": null,
   "metadata": {},
   "outputs": [],
   "source": []
  },
  {
   "cell_type": "code",
   "execution_count": null,
   "metadata": {},
   "outputs": [],
   "source": []
  },
  {
   "cell_type": "code",
   "execution_count": null,
   "metadata": {},
   "outputs": [],
   "source": []
  },
  {
   "cell_type": "code",
   "execution_count": null,
   "metadata": {},
   "outputs": [],
   "source": []
  },
  {
   "cell_type": "code",
   "execution_count": null,
   "metadata": {},
   "outputs": [],
   "source": []
  },
  {
   "cell_type": "code",
   "execution_count": null,
   "metadata": {},
   "outputs": [],
   "source": []
  },
  {
   "cell_type": "code",
   "execution_count": null,
   "metadata": {},
   "outputs": [],
   "source": []
  },
  {
   "cell_type": "code",
   "execution_count": null,
   "metadata": {},
   "outputs": [],
   "source": []
  },
  {
   "cell_type": "code",
   "execution_count": null,
   "metadata": {},
   "outputs": [],
   "source": []
  },
  {
   "cell_type": "code",
   "execution_count": null,
   "metadata": {},
   "outputs": [],
   "source": []
  },
  {
   "cell_type": "code",
   "execution_count": 54,
   "metadata": {},
   "outputs": [],
   "source": []
  },
  {
   "cell_type": "code",
   "execution_count": 55,
   "metadata": {},
   "outputs": [],
   "source": []
  },
  {
   "cell_type": "code",
   "execution_count": null,
   "metadata": {},
   "outputs": [],
   "source": []
  }
 ],
 "metadata": {
  "kernelspec": {
   "display_name": "Python 3",
   "language": "python",
   "name": "python3"
  },
  "language_info": {
   "codemirror_mode": {
    "name": "ipython",
    "version": 3
   },
   "file_extension": ".py",
   "mimetype": "text/x-python",
   "name": "python",
   "nbconvert_exporter": "python",
   "pygments_lexer": "ipython3",
   "version": "3.6.3"
  }
 },
 "nbformat": 4,
 "nbformat_minor": 2
}
